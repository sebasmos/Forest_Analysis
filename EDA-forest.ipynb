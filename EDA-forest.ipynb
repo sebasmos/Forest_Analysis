{
 "metadata": {
  "language_info": {
   "codemirror_mode": {
    "name": "ipython",
    "version": 3
   },
   "file_extension": ".py",
   "mimetype": "text/x-python",
   "name": "python",
   "nbconvert_exporter": "python",
   "pygments_lexer": "ipython3",
   "version": "3.7.7-final"
  },
  "orig_nbformat": 2,
  "kernelspec": {
   "name": "python3",
   "display_name": "Python 3"
  }
 },
 "nbformat": 4,
 "nbformat_minor": 2,
 "cells": [
  {
   "source": [
    "# Exploratory Data Analysis of data. "
   ],
   "cell_type": "markdown",
   "metadata": {}
  },
  {
   "cell_type": "code",
   "execution_count": 22,
   "metadata": {},
   "outputs": [],
   "source": [
    "import pandas as pd\n",
    "import numpy as np\n",
    "import matplotlib.pyplot as plt\n",
    "import copy"
   ]
  },
  {
   "source": [
    "## Lecture of information"
   ],
   "cell_type": "markdown",
   "metadata": {}
  },
  {
   "cell_type": "code",
   "execution_count": 20,
   "metadata": {},
   "outputs": [],
   "source": [
    "data_path = \"./data\"\n",
    "x_train = pd.read_csv(f'{data_path}/x_train.csv', index_col=0)\n",
    "y_train = pd.read_csv(f'{data_path}/y_train.csv', index_col=0)\n",
    "x_test = pd.read_csv(f'{data_path}/x_test.csv',index_col=0)\n",
    "y_test = pd.read_csv(f'{data_path}/y_test_baseline.csv',index_col=0)\n"
   ]
  },
  {
   "cell_type": "code",
   "execution_count": 19,
   "metadata": {},
   "outputs": [
    {
     "output_type": "stream",
     "name": "stdout",
     "text": [
      "x_train:  (406708, 54)\ny_train:  (406708, 1)\nx_test:  (174304, 54)\ny_test:  (174304, 1)\n"
     ]
    }
   ],
   "source": [
    "print(\"x_train: \",x_train.shape)\n",
    "print(\"y_train: \",y_train.shape)\n",
    "print(\"x_test: \",x_test.shape)\n",
    "print(\"y_test_baseline: \",y_test.shape)"
   ]
  },
  {
   "cell_type": "code",
   "execution_count": 23,
   "metadata": {},
   "outputs": [],
   "source": [
    "X_train = copy.deepcopy(x_train)\n",
    "Y_train = copy.deepcopy(y_train)\n",
    "X_test = copy.deepcopy(x_test)\n",
    "Y_test = copy.deepcopy(y_test)"
   ]
  },
  {
   "cell_type": "code",
   "execution_count": 24,
   "metadata": {},
   "outputs": [
    {
     "output_type": "stream",
     "name": "stdout",
     "text": [
      "<class 'pandas.core.frame.DataFrame'>\nInt64Index: 406708 entries, 0 to 406707\nData columns (total 54 columns):\n #   Column                              Non-Null Count   Dtype\n---  ------                              --------------   -----\n 0   Elevation                           406708 non-null  int64\n 1   Aspect                              406708 non-null  int64\n 2   Slope                               406708 non-null  int64\n 3   Horizontal_Distance_To_Hydrology    406708 non-null  int64\n 4   Vertical_Distance_To_Hydrology      406708 non-null  int64\n 5   Horizontal_Distance_To_Roadways     406708 non-null  int64\n 6   Hillshade_9am                       406708 non-null  int64\n 7   Hillshade_Noon                      406708 non-null  int64\n 8   Hillshade_3pm                       406708 non-null  int64\n 9   Horizontal_Distance_To_Fire_Points  406708 non-null  int64\n 10  Wilderness_Area_1                   406708 non-null  int64\n 11  Wilderness_Area_2                   406708 non-null  int64\n 12  Wilderness_Area_3                   406708 non-null  int64\n 13  Wilderness_Area_4                   406708 non-null  int64\n 14  Soil_Type_1                         406708 non-null  int64\n 15  Soil_Type_2                         406708 non-null  int64\n 16  Soil_Type_3                         406708 non-null  int64\n 17  Soil_Type_4                         406708 non-null  int64\n 18  Soil_Type_5                         406708 non-null  int64\n 19  Soil_Type_6                         406708 non-null  int64\n 20  Soil_Type_7                         406708 non-null  int64\n 21  Soil_Type_8                         406708 non-null  int64\n 22  Soil_Type_9                         406708 non-null  int64\n 23  Soil_Type_10                        406708 non-null  int64\n 24  Soil_Type_11                        406708 non-null  int64\n 25  Soil_Type_12                        406708 non-null  int64\n 26  Soil_Type_13                        406708 non-null  int64\n 27  Soil_Type_14                        406708 non-null  int64\n 28  Soil_Type_15                        406708 non-null  int64\n 29  Soil_Type_16                        406708 non-null  int64\n 30  Soil_Type_17                        406708 non-null  int64\n 31  Soil_Type_18                        406708 non-null  int64\n 32  Soil_Type_19                        406708 non-null  int64\n 33  Soil_Type_20                        406708 non-null  int64\n 34  Soil_Type_21                        406708 non-null  int64\n 35  Soil_Type_22                        406708 non-null  int64\n 36  Soil_Type_23                        406708 non-null  int64\n 37  Soil_Type_24                        406708 non-null  int64\n 38  Soil_Type_25                        406708 non-null  int64\n 39  Soil_Type_26                        406708 non-null  int64\n 40  Soil_Type_27                        406708 non-null  int64\n 41  Soil_Type_28                        406708 non-null  int64\n 42  Soil_Type_29                        406708 non-null  int64\n 43  Soil_Type_30                        406708 non-null  int64\n 44  Soil_Type_31                        406708 non-null  int64\n 45  Soil_Type_32                        406708 non-null  int64\n 46  Soil_Type_33                        406708 non-null  int64\n 47  Soil_Type_34                        406708 non-null  int64\n 48  Soil_Type_35                        406708 non-null  int64\n 49  Soil_Type_36                        406708 non-null  int64\n 50  Soil_Type_37                        406708 non-null  int64\n 51  Soil_Type_38                        406708 non-null  int64\n 52  Soil_Type_39                        406708 non-null  int64\n 53  Soil_Type_40                        406708 non-null  int64\ndtypes: int64(54)\nmemory usage: 170.7 MB\n"
     ]
    }
   ],
   "source": [
    "x_train.info()"
   ]
  },
  {
   "cell_type": "code",
   "execution_count": null,
   "metadata": {},
   "outputs": [],
   "source": [
    "Features: 54 \n"
   ]
  },
  {
   "cell_type": "code",
   "execution_count": null,
   "metadata": {},
   "outputs": [],
   "source": []
  }
 ]
}