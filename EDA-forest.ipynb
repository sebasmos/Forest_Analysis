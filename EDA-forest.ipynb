{
 "metadata": {
  "language_info": {
   "codemirror_mode": {
    "name": "ipython",
    "version": 3
   },
   "file_extension": ".py",
   "mimetype": "text/x-python",
   "name": "python",
   "nbconvert_exporter": "python",
   "pygments_lexer": "ipython3",
   "version": "3.7.6-final"
  },
  "orig_nbformat": 2,
  "kernelspec": {
   "name": "python3",
   "display_name": "Python 3"
  }
 },
 "nbformat": 4,
 "nbformat_minor": 2,
 "cells": [
  {
   "source": [
    "# Exploratory Data Analysis of data. "
   ],
   "cell_type": "markdown",
   "metadata": {}
  },
  {
   "cell_type": "code",
   "execution_count": 1,
   "metadata": {},
   "outputs": [],
   "source": [
    "import pandas as pd\n",
    "import numpy as np\n",
    "import matplotlib.pyplot as plt\n",
    "import copy\n",
    "import pandas as pd\n",
    "import numpy as np\n",
    "import copy\n",
    "import seaborn as sns\n",
    "import matplotlib.pyplot as plt\n",
    "from sklearn.linear_model import LinearRegression, LogisticRegression\n",
    "from sklearn.metrics import confusion_matrix\n",
    "from sklearn.model_selection import train_test_split\n",
    "from sklearn.tree   import DecisionTreeClassifier\n",
    "from sklearn.metrics import accuracy_score\n",
    "from sklearn.metrics import classification_report\n",
    "# Random forest\n",
    "from sklearn.ensemble import RandomForestClassifier\n",
    "\n",
    "from sklearn.model_selection import train_test_split\n",
    "# compare standalone models for binary classification\n",
    "from numpy import mean\n",
    "from numpy import std\n",
    "from sklearn.datasets import make_classification\n",
    "from sklearn.model_selection import cross_val_score\n",
    "from sklearn.model_selection import RepeatedStratifiedKFold\n",
    "from sklearn.linear_model import LogisticRegression\n",
    "from sklearn.neighbors import KNeighborsClassifier\n",
    "from sklearn.tree import DecisionTreeClassifier\n",
    "from sklearn.svm import SVC\n",
    "from sklearn.naive_bayes import GaussianNB\n",
    "from matplotlib import pyplot\n",
    "from sklearn.ensemble import StackingClassifier\n",
    "# TensorFlow and tf.keras\n",
    "import tensorflow as tf\n",
    "from tensorflow import keras\n",
    "from keras.models import Sequential\n",
    "from keras.layers import Conv1D, LSTM, Dense, Dropout, TimeDistributed, Flatten\n",
    "from keras.optimizers import Adam\n",
    "import keras\n",
    "# Cross-validation\n",
    "from keras.wrappers.scikit_learn import KerasClassifier\n",
    "from sklearn.model_selection import StratifiedKFold\n",
    "from sklearn.model_selection import cross_val_score"
   ]
  },
  {
   "source": [
    "## Lecture of information"
   ],
   "cell_type": "markdown",
   "metadata": {}
  },
  {
   "cell_type": "code",
   "execution_count": 2,
   "metadata": {},
   "outputs": [],
   "source": [
    "data_path = \"./data\"\n",
    "X = pd.read_csv(f'{data_path}/x_train.csv')\n",
    "y = pd.read_csv(f'{data_path}/y_train.csv')\n",
    "x_testing = pd.read_csv(f'{data_path}/x_test.csv')"
   ]
  },
  {
   "cell_type": "code",
   "execution_count": 79,
   "metadata": {},
   "outputs": [],
   "source": [
    "DF = X.copy()\n",
    "DF['CLASS'] = y\n",
    "DF.to_csv('./data/DF.csv', sep=',', index=False)"
   ]
  },
  {
   "cell_type": "code",
   "execution_count": 3,
   "metadata": {},
   "outputs": [],
   "source": [
    "X = X[X.columns[1:]]\n",
    "X.columns = ['Elevation', 'Aspect', 'Slope', 'Horizontal_Distance_To_Hydrology', 'Vertical_Distance_To_Hydrology', 'Horizontal_Distance_To_Roadways', 'Hillshade_9am', 'Hillshade_Noon', 'Hillshade_3pm', 'Horizontal_Distance_To_Fire_Points', 'Wilderness_Area_1', 'Wilderness_Area_2', 'Wilderness_Area_3', 'Wilderness_Area_4', \n",
    "'Soil_Type_1', 'Soil_Type_2','Soil_Type_3','Soil_Type_4','Soil_Type_5','Soil_Type_6','Soil_Type_7','Soil_Type_8','Soil_Type_9','Soil_Type_10',\n",
    "'Soil_Type_11','Soil_Type_12','Soil_Type_13','Soil_Type_14','Soil_Type_15','Soil_Type_16','Soil_Type_17','Soil_Type_18','Soil_Type_19','Soil_Type_20',\n",
    "'Soil_Type_21','Soil_Type_22','Soil_Type_23','Soil_Type_24','Soil_Type_25','Soil_Type_26','Soil_Type_27','Soil_Type_28','Soil_Type_29','Soil_Type_30',\n",
    "'Soil_Type_31','Soil_Type_32','Soil_Type_33','Soil_Type_34','Soil_Type_35','Soil_Type_36','Soil_Type_37','Soil_Type_38','Soil_Type_39','Soil_Type_40']\n",
    "\n",
    "y = y[y.columns[1:]]\n",
    "y.columns=['Cover_Type']\n",
    "\n",
    "# for testing the models\n",
    "x_testing = x_testing[x_testing.columns[1:]]\n",
    "x_testing.columns = ['Elevation', 'Aspect', 'Slope', 'Horizontal_Distance_To_Hydrology', 'Vertical_Distance_To_Hydrology', 'Horizontal_Distance_To_Roadways', 'Hillshade_9am', 'Hillshade_Noon', 'Hillshade_3pm', 'Horizontal_Distance_To_Fire_Points', 'Wilderness_Area_1', 'Wilderness_Area_2', 'Wilderness_Area_3', 'Wilderness_Area_4', \n",
    "'Soil_Type_1', 'Soil_Type_2','Soil_Type_3','Soil_Type_4','Soil_Type_5','Soil_Type_6','Soil_Type_7','Soil_Type_8','Soil_Type_9','Soil_Type_10',\n",
    "'Soil_Type_11','Soil_Type_12','Soil_Type_13','Soil_Type_14','Soil_Type_15','Soil_Type_16','Soil_Type_17','Soil_Type_18','Soil_Type_19','Soil_Type_20',\n",
    "'Soil_Type_21','Soil_Type_22','Soil_Type_23','Soil_Type_24','Soil_Type_25','Soil_Type_26','Soil_Type_27','Soil_Type_28','Soil_Type_29','Soil_Type_30',\n",
    "'Soil_Type_31','Soil_Type_32','Soil_Type_33','Soil_Type_34','Soil_Type_35','Soil_Type_36','Soil_Type_37','Soil_Type_38','Soil_Type_39','Soil_Type_40']\n"
   ]
  },
  {
   "cell_type": "code",
   "execution_count": 4,
   "metadata": {},
   "outputs": [
    {
     "output_type": "execute_result",
     "data": {
      "text/plain": [
       "        Elevation  Aspect  Slope  Horizontal_Distance_To_Hydrology  \\\n",
       "0            3342      15     13                               350   \n",
       "1            2764      39     13                               175   \n",
       "2            2773     158      5                               162   \n",
       "3            3083     108     16                                30   \n",
       "4            3096      40      4                               201   \n",
       "...           ...     ...    ...                               ...   \n",
       "406703       3066     133     10                               170   \n",
       "406704       2308      37     31                               162   \n",
       "406705       2715      73     32                               342   \n",
       "406706       3020     179     13                               170   \n",
       "406707       3368     191      5                               162   \n",
       "\n",
       "        Vertical_Distance_To_Hydrology  Horizontal_Distance_To_Roadways  \\\n",
       "0                                   55                             2118   \n",
       "1                                   43                             2648   \n",
       "2                                   14                             2012   \n",
       "3                                  -14                             2639   \n",
       "4                                   38                             4592   \n",
       "...                                ...                              ...   \n",
       "406703                              30                             1455   \n",
       "406704                              38                              616   \n",
       "406705                             188                             1027   \n",
       "406706                              19                             1471   \n",
       "406707                               2                             2639   \n",
       "\n",
       "        Hillshade_9am  Hillshade_Noon  Hillshade_3pm  \\\n",
       "0                 208             212            139   \n",
       "1                 220             210            122   \n",
       "2                 226             241            149   \n",
       "3                 246             220             98   \n",
       "4                 220             231            147   \n",
       "...               ...             ...            ...   \n",
       "406703            237             235            128   \n",
       "406704            202             156             71   \n",
       "406705            237             162             31   \n",
       "406706            225             247            152   \n",
       "406707            220             244            160   \n",
       "\n",
       "        Horizontal_Distance_To_Fire_Points  ...  Soil_Type_31  Soil_Type_32  \\\n",
       "0                                     1486  ...             1             0   \n",
       "1                                      366  ...             0             0   \n",
       "2                                      967  ...             0             0   \n",
       "3                                     1909  ...             1             0   \n",
       "4                                     2432  ...             0             0   \n",
       "...                                    ...  ...           ...           ...   \n",
       "406703                                2624  ...             0             0   \n",
       "406704                                 895  ...             0             0   \n",
       "406705                                 953  ...             0             0   \n",
       "406706                                 450  ...             0             0   \n",
       "406707                                 547  ...             0             0   \n",
       "\n",
       "        Soil_Type_33  Soil_Type_34  Soil_Type_35  Soil_Type_36  Soil_Type_37  \\\n",
       "0                  0             0             0             0             0   \n",
       "1                  0             0             0             0             0   \n",
       "2                  0             0             0             0             0   \n",
       "3                  0             0             0             0             0   \n",
       "4                  0             0             0             0             0   \n",
       "...              ...           ...           ...           ...           ...   \n",
       "406703             0             0             0             0             0   \n",
       "406704             0             0             0             0             0   \n",
       "406705             1             0             0             0             0   \n",
       "406706             0             0             0             0             0   \n",
       "406707             0             0             0             0             0   \n",
       "\n",
       "        Soil_Type_38  Soil_Type_39  Soil_Type_40  \n",
       "0                  0             0             0  \n",
       "1                  0             0             0  \n",
       "2                  0             0             0  \n",
       "3                  0             0             0  \n",
       "4                  0             0             0  \n",
       "...              ...           ...           ...  \n",
       "406703             0             0             0  \n",
       "406704             0             0             0  \n",
       "406705             0             0             0  \n",
       "406706             0             0             0  \n",
       "406707             1             0             0  \n",
       "\n",
       "[406708 rows x 54 columns]"
      ],
      "text/html": "<div>\n<style scoped>\n    .dataframe tbody tr th:only-of-type {\n        vertical-align: middle;\n    }\n\n    .dataframe tbody tr th {\n        vertical-align: top;\n    }\n\n    .dataframe thead th {\n        text-align: right;\n    }\n</style>\n<table border=\"1\" class=\"dataframe\">\n  <thead>\n    <tr style=\"text-align: right;\">\n      <th></th>\n      <th>Elevation</th>\n      <th>Aspect</th>\n      <th>Slope</th>\n      <th>Horizontal_Distance_To_Hydrology</th>\n      <th>Vertical_Distance_To_Hydrology</th>\n      <th>Horizontal_Distance_To_Roadways</th>\n      <th>Hillshade_9am</th>\n      <th>Hillshade_Noon</th>\n      <th>Hillshade_3pm</th>\n      <th>Horizontal_Distance_To_Fire_Points</th>\n      <th>...</th>\n      <th>Soil_Type_31</th>\n      <th>Soil_Type_32</th>\n      <th>Soil_Type_33</th>\n      <th>Soil_Type_34</th>\n      <th>Soil_Type_35</th>\n      <th>Soil_Type_36</th>\n      <th>Soil_Type_37</th>\n      <th>Soil_Type_38</th>\n      <th>Soil_Type_39</th>\n      <th>Soil_Type_40</th>\n    </tr>\n  </thead>\n  <tbody>\n    <tr>\n      <th>0</th>\n      <td>3342</td>\n      <td>15</td>\n      <td>13</td>\n      <td>350</td>\n      <td>55</td>\n      <td>2118</td>\n      <td>208</td>\n      <td>212</td>\n      <td>139</td>\n      <td>1486</td>\n      <td>...</td>\n      <td>1</td>\n      <td>0</td>\n      <td>0</td>\n      <td>0</td>\n      <td>0</td>\n      <td>0</td>\n      <td>0</td>\n      <td>0</td>\n      <td>0</td>\n      <td>0</td>\n    </tr>\n    <tr>\n      <th>1</th>\n      <td>2764</td>\n      <td>39</td>\n      <td>13</td>\n      <td>175</td>\n      <td>43</td>\n      <td>2648</td>\n      <td>220</td>\n      <td>210</td>\n      <td>122</td>\n      <td>366</td>\n      <td>...</td>\n      <td>0</td>\n      <td>0</td>\n      <td>0</td>\n      <td>0</td>\n      <td>0</td>\n      <td>0</td>\n      <td>0</td>\n      <td>0</td>\n      <td>0</td>\n      <td>0</td>\n    </tr>\n    <tr>\n      <th>2</th>\n      <td>2773</td>\n      <td>158</td>\n      <td>5</td>\n      <td>162</td>\n      <td>14</td>\n      <td>2012</td>\n      <td>226</td>\n      <td>241</td>\n      <td>149</td>\n      <td>967</td>\n      <td>...</td>\n      <td>0</td>\n      <td>0</td>\n      <td>0</td>\n      <td>0</td>\n      <td>0</td>\n      <td>0</td>\n      <td>0</td>\n      <td>0</td>\n      <td>0</td>\n      <td>0</td>\n    </tr>\n    <tr>\n      <th>3</th>\n      <td>3083</td>\n      <td>108</td>\n      <td>16</td>\n      <td>30</td>\n      <td>-14</td>\n      <td>2639</td>\n      <td>246</td>\n      <td>220</td>\n      <td>98</td>\n      <td>1909</td>\n      <td>...</td>\n      <td>1</td>\n      <td>0</td>\n      <td>0</td>\n      <td>0</td>\n      <td>0</td>\n      <td>0</td>\n      <td>0</td>\n      <td>0</td>\n      <td>0</td>\n      <td>0</td>\n    </tr>\n    <tr>\n      <th>4</th>\n      <td>3096</td>\n      <td>40</td>\n      <td>4</td>\n      <td>201</td>\n      <td>38</td>\n      <td>4592</td>\n      <td>220</td>\n      <td>231</td>\n      <td>147</td>\n      <td>2432</td>\n      <td>...</td>\n      <td>0</td>\n      <td>0</td>\n      <td>0</td>\n      <td>0</td>\n      <td>0</td>\n      <td>0</td>\n      <td>0</td>\n      <td>0</td>\n      <td>0</td>\n      <td>0</td>\n    </tr>\n    <tr>\n      <th>...</th>\n      <td>...</td>\n      <td>...</td>\n      <td>...</td>\n      <td>...</td>\n      <td>...</td>\n      <td>...</td>\n      <td>...</td>\n      <td>...</td>\n      <td>...</td>\n      <td>...</td>\n      <td>...</td>\n      <td>...</td>\n      <td>...</td>\n      <td>...</td>\n      <td>...</td>\n      <td>...</td>\n      <td>...</td>\n      <td>...</td>\n      <td>...</td>\n      <td>...</td>\n      <td>...</td>\n    </tr>\n    <tr>\n      <th>406703</th>\n      <td>3066</td>\n      <td>133</td>\n      <td>10</td>\n      <td>170</td>\n      <td>30</td>\n      <td>1455</td>\n      <td>237</td>\n      <td>235</td>\n      <td>128</td>\n      <td>2624</td>\n      <td>...</td>\n      <td>0</td>\n      <td>0</td>\n      <td>0</td>\n      <td>0</td>\n      <td>0</td>\n      <td>0</td>\n      <td>0</td>\n      <td>0</td>\n      <td>0</td>\n      <td>0</td>\n    </tr>\n    <tr>\n      <th>406704</th>\n      <td>2308</td>\n      <td>37</td>\n      <td>31</td>\n      <td>162</td>\n      <td>38</td>\n      <td>616</td>\n      <td>202</td>\n      <td>156</td>\n      <td>71</td>\n      <td>895</td>\n      <td>...</td>\n      <td>0</td>\n      <td>0</td>\n      <td>0</td>\n      <td>0</td>\n      <td>0</td>\n      <td>0</td>\n      <td>0</td>\n      <td>0</td>\n      <td>0</td>\n      <td>0</td>\n    </tr>\n    <tr>\n      <th>406705</th>\n      <td>2715</td>\n      <td>73</td>\n      <td>32</td>\n      <td>342</td>\n      <td>188</td>\n      <td>1027</td>\n      <td>237</td>\n      <td>162</td>\n      <td>31</td>\n      <td>953</td>\n      <td>...</td>\n      <td>0</td>\n      <td>0</td>\n      <td>1</td>\n      <td>0</td>\n      <td>0</td>\n      <td>0</td>\n      <td>0</td>\n      <td>0</td>\n      <td>0</td>\n      <td>0</td>\n    </tr>\n    <tr>\n      <th>406706</th>\n      <td>3020</td>\n      <td>179</td>\n      <td>13</td>\n      <td>170</td>\n      <td>19</td>\n      <td>1471</td>\n      <td>225</td>\n      <td>247</td>\n      <td>152</td>\n      <td>450</td>\n      <td>...</td>\n      <td>0</td>\n      <td>0</td>\n      <td>0</td>\n      <td>0</td>\n      <td>0</td>\n      <td>0</td>\n      <td>0</td>\n      <td>0</td>\n      <td>0</td>\n      <td>0</td>\n    </tr>\n    <tr>\n      <th>406707</th>\n      <td>3368</td>\n      <td>191</td>\n      <td>5</td>\n      <td>162</td>\n      <td>2</td>\n      <td>2639</td>\n      <td>220</td>\n      <td>244</td>\n      <td>160</td>\n      <td>547</td>\n      <td>...</td>\n      <td>0</td>\n      <td>0</td>\n      <td>0</td>\n      <td>0</td>\n      <td>0</td>\n      <td>0</td>\n      <td>0</td>\n      <td>1</td>\n      <td>0</td>\n      <td>0</td>\n    </tr>\n  </tbody>\n</table>\n<p>406708 rows × 54 columns</p>\n</div>"
     },
     "metadata": {},
     "execution_count": 4
    }
   ],
   "source": [
    "X"
   ]
  },
  {
   "cell_type": "code",
   "execution_count": 5,
   "metadata": {},
   "outputs": [
    {
     "output_type": "stream",
     "name": "stdout",
     "text": [
      "<class 'pandas.core.frame.DataFrame'>\nRangeIndex: 406708 entries, 0 to 406707\nData columns (total 54 columns):\n #   Column                              Non-Null Count   Dtype\n---  ------                              --------------   -----\n 0   Elevation                           406708 non-null  int64\n 1   Aspect                              406708 non-null  int64\n 2   Slope                               406708 non-null  int64\n 3   Horizontal_Distance_To_Hydrology    406708 non-null  int64\n 4   Vertical_Distance_To_Hydrology      406708 non-null  int64\n 5   Horizontal_Distance_To_Roadways     406708 non-null  int64\n 6   Hillshade_9am                       406708 non-null  int64\n 7   Hillshade_Noon                      406708 non-null  int64\n 8   Hillshade_3pm                       406708 non-null  int64\n 9   Horizontal_Distance_To_Fire_Points  406708 non-null  int64\n 10  Wilderness_Area_1                   406708 non-null  int64\n 11  Wilderness_Area_2                   406708 non-null  int64\n 12  Wilderness_Area_3                   406708 non-null  int64\n 13  Wilderness_Area_4                   406708 non-null  int64\n 14  Soil_Type_1                         406708 non-null  int64\n 15  Soil_Type_2                         406708 non-null  int64\n 16  Soil_Type_3                         406708 non-null  int64\n 17  Soil_Type_4                         406708 non-null  int64\n 18  Soil_Type_5                         406708 non-null  int64\n 19  Soil_Type_6                         406708 non-null  int64\n 20  Soil_Type_7                         406708 non-null  int64\n 21  Soil_Type_8                         406708 non-null  int64\n 22  Soil_Type_9                         406708 non-null  int64\n 23  Soil_Type_10                        406708 non-null  int64\n 24  Soil_Type_11                        406708 non-null  int64\n 25  Soil_Type_12                        406708 non-null  int64\n 26  Soil_Type_13                        406708 non-null  int64\n 27  Soil_Type_14                        406708 non-null  int64\n 28  Soil_Type_15                        406708 non-null  int64\n 29  Soil_Type_16                        406708 non-null  int64\n 30  Soil_Type_17                        406708 non-null  int64\n 31  Soil_Type_18                        406708 non-null  int64\n 32  Soil_Type_19                        406708 non-null  int64\n 33  Soil_Type_20                        406708 non-null  int64\n 34  Soil_Type_21                        406708 non-null  int64\n 35  Soil_Type_22                        406708 non-null  int64\n 36  Soil_Type_23                        406708 non-null  int64\n 37  Soil_Type_24                        406708 non-null  int64\n 38  Soil_Type_25                        406708 non-null  int64\n 39  Soil_Type_26                        406708 non-null  int64\n 40  Soil_Type_27                        406708 non-null  int64\n 41  Soil_Type_28                        406708 non-null  int64\n 42  Soil_Type_29                        406708 non-null  int64\n 43  Soil_Type_30                        406708 non-null  int64\n 44  Soil_Type_31                        406708 non-null  int64\n 45  Soil_Type_32                        406708 non-null  int64\n 46  Soil_Type_33                        406708 non-null  int64\n 47  Soil_Type_34                        406708 non-null  int64\n 48  Soil_Type_35                        406708 non-null  int64\n 49  Soil_Type_36                        406708 non-null  int64\n 50  Soil_Type_37                        406708 non-null  int64\n 51  Soil_Type_38                        406708 non-null  int64\n 52  Soil_Type_39                        406708 non-null  int64\n 53  Soil_Type_40                        406708 non-null  int64\ndtypes: int64(54)\nmemory usage: 167.6 MB\n"
     ]
    }
   ],
   "source": [
    "X.info()"
   ]
  },
  {
   "source": [
    "Let's check if is there any missing data"
   ],
   "cell_type": "markdown",
   "metadata": {}
  },
  {
   "cell_type": "code",
   "execution_count": 54,
   "metadata": {},
   "outputs": [
    {
     "output_type": "execute_result",
     "data": {
      "text/plain": [
       "Elevation                             0\n",
       "Aspect                                0\n",
       "Slope                                 0\n",
       "Horizontal_Distance_To_Hydrology      0\n",
       "Vertical_Distance_To_Hydrology        0\n",
       "Horizontal_Distance_To_Roadways       0\n",
       "Hillshade_9am                         0\n",
       "Hillshade_Noon                        0\n",
       "Hillshade_3pm                         0\n",
       "Horizontal_Distance_To_Fire_Points    0\n",
       "Wilderness_Area_1                     0\n",
       "Wilderness_Area_2                     0\n",
       "Wilderness_Area_3                     0\n",
       "Wilderness_Area_4                     0\n",
       "Soil_Type_1                           0\n",
       "Soil_Type_2                           0\n",
       "Soil_Type_3                           0\n",
       "Soil_Type_4                           0\n",
       "Soil_Type_5                           0\n",
       "Soil_Type_6                           0\n",
       "Soil_Type_7                           0\n",
       "Soil_Type_8                           0\n",
       "Soil_Type_9                           0\n",
       "Soil_Type_10                          0\n",
       "Soil_Type_11                          0\n",
       "Soil_Type_12                          0\n",
       "Soil_Type_13                          0\n",
       "Soil_Type_14                          0\n",
       "Soil_Type_15                          0\n",
       "Soil_Type_16                          0\n",
       "Soil_Type_17                          0\n",
       "Soil_Type_18                          0\n",
       "Soil_Type_19                          0\n",
       "Soil_Type_20                          0\n",
       "Soil_Type_21                          0\n",
       "Soil_Type_22                          0\n",
       "Soil_Type_23                          0\n",
       "Soil_Type_24                          0\n",
       "Soil_Type_25                          0\n",
       "Soil_Type_26                          0\n",
       "Soil_Type_27                          0\n",
       "Soil_Type_28                          0\n",
       "Soil_Type_29                          0\n",
       "Soil_Type_30                          0\n",
       "Soil_Type_31                          0\n",
       "Soil_Type_32                          0\n",
       "Soil_Type_33                          0\n",
       "Soil_Type_34                          0\n",
       "Soil_Type_35                          0\n",
       "Soil_Type_36                          0\n",
       "Soil_Type_37                          0\n",
       "Soil_Type_38                          0\n",
       "Soil_Type_39                          0\n",
       "Soil_Type_40                          0\n",
       "dtype: int64"
      ]
     },
     "metadata": {},
     "execution_count": 54
    }
   ],
   "source": [
    "X.isnull().sum()"
   ]
  },
  {
   "source": [
    "Conducting EDA to understand our data, lets join our target labeling or classification into the training data to try to find patterns or relationships between the variables."
   ],
   "cell_type": "markdown",
   "metadata": {}
  },
  {
   "cell_type": "code",
   "execution_count": 55,
   "metadata": {},
   "outputs": [
    {
     "output_type": "execute_result",
     "data": {
      "text/plain": [
       "        Elevation  Aspect   Slope  Horizontal_Distance_To_Hydrology  \\\n",
       "target                                                                \n",
       "1          148288  148288  148288                            148288   \n",
       "2          198310  198310  198310                            198310   \n",
       "3           25028   25028   25028                             25028   \n",
       "4            1923    1923    1923                              1923   \n",
       "5            6645    6645    6645                              6645   \n",
       "6           12157   12157   12157                             12157   \n",
       "7           14357   14357   14357                             14357   \n",
       "\n",
       "        Vertical_Distance_To_Hydrology  Horizontal_Distance_To_Roadways  \\\n",
       "target                                                                    \n",
       "1                               148288                           148288   \n",
       "2                               198310                           198310   \n",
       "3                                25028                            25028   \n",
       "4                                 1923                             1923   \n",
       "5                                 6645                             6645   \n",
       "6                                12157                            12157   \n",
       "7                                14357                            14357   \n",
       "\n",
       "        Hillshade_9am  Hillshade_Noon  Hillshade_3pm  \\\n",
       "target                                                 \n",
       "1              148288          148288         148288   \n",
       "2              198310          198310         198310   \n",
       "3               25028           25028          25028   \n",
       "4                1923            1923           1923   \n",
       "5                6645            6645           6645   \n",
       "6               12157           12157          12157   \n",
       "7               14357           14357          14357   \n",
       "\n",
       "        Horizontal_Distance_To_Fire_Points  ...  Soil_Type_31  Soil_Type_32  \\\n",
       "target                                      ...                               \n",
       "1                                   148288  ...        148288        148288   \n",
       "2                                   198310  ...        198310        198310   \n",
       "3                                    25028  ...         25028         25028   \n",
       "4                                     1923  ...          1923          1923   \n",
       "5                                     6645  ...          6645          6645   \n",
       "6                                    12157  ...         12157         12157   \n",
       "7                                    14357  ...         14357         14357   \n",
       "\n",
       "        Soil_Type_33  Soil_Type_34  Soil_Type_35  Soil_Type_36  Soil_Type_37  \\\n",
       "target                                                                         \n",
       "1             148288        148288        148288        148288        148288   \n",
       "2             198310        198310        198310        198310        198310   \n",
       "3              25028         25028         25028         25028         25028   \n",
       "4               1923          1923          1923          1923          1923   \n",
       "5               6645          6645          6645          6645          6645   \n",
       "6              12157         12157         12157         12157         12157   \n",
       "7              14357         14357         14357         14357         14357   \n",
       "\n",
       "        Soil_Type_38  Soil_Type_39  Soil_Type_40  \n",
       "target                                            \n",
       "1             148288        148288        148288  \n",
       "2             198310        198310        198310  \n",
       "3              25028         25028         25028  \n",
       "4               1923          1923          1923  \n",
       "5               6645          6645          6645  \n",
       "6              12157         12157         12157  \n",
       "7              14357         14357         14357  \n",
       "\n",
       "[7 rows x 54 columns]"
      ],
      "text/html": "<div>\n<style scoped>\n    .dataframe tbody tr th:only-of-type {\n        vertical-align: middle;\n    }\n\n    .dataframe tbody tr th {\n        vertical-align: top;\n    }\n\n    .dataframe thead th {\n        text-align: right;\n    }\n</style>\n<table border=\"1\" class=\"dataframe\">\n  <thead>\n    <tr style=\"text-align: right;\">\n      <th></th>\n      <th>Elevation</th>\n      <th>Aspect</th>\n      <th>Slope</th>\n      <th>Horizontal_Distance_To_Hydrology</th>\n      <th>Vertical_Distance_To_Hydrology</th>\n      <th>Horizontal_Distance_To_Roadways</th>\n      <th>Hillshade_9am</th>\n      <th>Hillshade_Noon</th>\n      <th>Hillshade_3pm</th>\n      <th>Horizontal_Distance_To_Fire_Points</th>\n      <th>...</th>\n      <th>Soil_Type_31</th>\n      <th>Soil_Type_32</th>\n      <th>Soil_Type_33</th>\n      <th>Soil_Type_34</th>\n      <th>Soil_Type_35</th>\n      <th>Soil_Type_36</th>\n      <th>Soil_Type_37</th>\n      <th>Soil_Type_38</th>\n      <th>Soil_Type_39</th>\n      <th>Soil_Type_40</th>\n    </tr>\n    <tr>\n      <th>target</th>\n      <th></th>\n      <th></th>\n      <th></th>\n      <th></th>\n      <th></th>\n      <th></th>\n      <th></th>\n      <th></th>\n      <th></th>\n      <th></th>\n      <th></th>\n      <th></th>\n      <th></th>\n      <th></th>\n      <th></th>\n      <th></th>\n      <th></th>\n      <th></th>\n      <th></th>\n      <th></th>\n      <th></th>\n    </tr>\n  </thead>\n  <tbody>\n    <tr>\n      <th>1</th>\n      <td>148288</td>\n      <td>148288</td>\n      <td>148288</td>\n      <td>148288</td>\n      <td>148288</td>\n      <td>148288</td>\n      <td>148288</td>\n      <td>148288</td>\n      <td>148288</td>\n      <td>148288</td>\n      <td>...</td>\n      <td>148288</td>\n      <td>148288</td>\n      <td>148288</td>\n      <td>148288</td>\n      <td>148288</td>\n      <td>148288</td>\n      <td>148288</td>\n      <td>148288</td>\n      <td>148288</td>\n      <td>148288</td>\n    </tr>\n    <tr>\n      <th>2</th>\n      <td>198310</td>\n      <td>198310</td>\n      <td>198310</td>\n      <td>198310</td>\n      <td>198310</td>\n      <td>198310</td>\n      <td>198310</td>\n      <td>198310</td>\n      <td>198310</td>\n      <td>198310</td>\n      <td>...</td>\n      <td>198310</td>\n      <td>198310</td>\n      <td>198310</td>\n      <td>198310</td>\n      <td>198310</td>\n      <td>198310</td>\n      <td>198310</td>\n      <td>198310</td>\n      <td>198310</td>\n      <td>198310</td>\n    </tr>\n    <tr>\n      <th>3</th>\n      <td>25028</td>\n      <td>25028</td>\n      <td>25028</td>\n      <td>25028</td>\n      <td>25028</td>\n      <td>25028</td>\n      <td>25028</td>\n      <td>25028</td>\n      <td>25028</td>\n      <td>25028</td>\n      <td>...</td>\n      <td>25028</td>\n      <td>25028</td>\n      <td>25028</td>\n      <td>25028</td>\n      <td>25028</td>\n      <td>25028</td>\n      <td>25028</td>\n      <td>25028</td>\n      <td>25028</td>\n      <td>25028</td>\n    </tr>\n    <tr>\n      <th>4</th>\n      <td>1923</td>\n      <td>1923</td>\n      <td>1923</td>\n      <td>1923</td>\n      <td>1923</td>\n      <td>1923</td>\n      <td>1923</td>\n      <td>1923</td>\n      <td>1923</td>\n      <td>1923</td>\n      <td>...</td>\n      <td>1923</td>\n      <td>1923</td>\n      <td>1923</td>\n      <td>1923</td>\n      <td>1923</td>\n      <td>1923</td>\n      <td>1923</td>\n      <td>1923</td>\n      <td>1923</td>\n      <td>1923</td>\n    </tr>\n    <tr>\n      <th>5</th>\n      <td>6645</td>\n      <td>6645</td>\n      <td>6645</td>\n      <td>6645</td>\n      <td>6645</td>\n      <td>6645</td>\n      <td>6645</td>\n      <td>6645</td>\n      <td>6645</td>\n      <td>6645</td>\n      <td>...</td>\n      <td>6645</td>\n      <td>6645</td>\n      <td>6645</td>\n      <td>6645</td>\n      <td>6645</td>\n      <td>6645</td>\n      <td>6645</td>\n      <td>6645</td>\n      <td>6645</td>\n      <td>6645</td>\n    </tr>\n    <tr>\n      <th>6</th>\n      <td>12157</td>\n      <td>12157</td>\n      <td>12157</td>\n      <td>12157</td>\n      <td>12157</td>\n      <td>12157</td>\n      <td>12157</td>\n      <td>12157</td>\n      <td>12157</td>\n      <td>12157</td>\n      <td>...</td>\n      <td>12157</td>\n      <td>12157</td>\n      <td>12157</td>\n      <td>12157</td>\n      <td>12157</td>\n      <td>12157</td>\n      <td>12157</td>\n      <td>12157</td>\n      <td>12157</td>\n      <td>12157</td>\n    </tr>\n    <tr>\n      <th>7</th>\n      <td>14357</td>\n      <td>14357</td>\n      <td>14357</td>\n      <td>14357</td>\n      <td>14357</td>\n      <td>14357</td>\n      <td>14357</td>\n      <td>14357</td>\n      <td>14357</td>\n      <td>14357</td>\n      <td>...</td>\n      <td>14357</td>\n      <td>14357</td>\n      <td>14357</td>\n      <td>14357</td>\n      <td>14357</td>\n      <td>14357</td>\n      <td>14357</td>\n      <td>14357</td>\n      <td>14357</td>\n      <td>14357</td>\n    </tr>\n  </tbody>\n</table>\n<p>7 rows × 54 columns</p>\n</div>"
     },
     "metadata": {},
     "execution_count": 55
    }
   ],
   "source": [
    "X[\"target\"] = y\n",
    "X.groupby('target').count()"
   ]
  },
  {
   "cell_type": "code",
   "execution_count": 56,
   "metadata": {},
   "outputs": [
    {
     "output_type": "execute_result",
     "data": {
      "text/plain": [
       "<AxesSubplot:xlabel='target', ylabel='count'>"
      ]
     },
     "metadata": {},
     "execution_count": 56
    },
    {
     "output_type": "display_data",
     "data": {
      "text/plain": "<Figure size 432x288 with 1 Axes>",
      "image/svg+xml": "<?xml version=\"1.0\" encoding=\"utf-8\" standalone=\"no\"?>\r\n<!DOCTYPE svg PUBLIC \"-//W3C//DTD SVG 1.1//EN\"\r\n  \"http://www.w3.org/Graphics/SVG/1.1/DTD/svg11.dtd\">\r\n<!-- Created with matplotlib (https://matplotlib.org/) -->\r\n<svg height=\"262.19625pt\" version=\"1.1\" viewBox=\"0 0 408.053125 262.19625\" width=\"408.053125pt\" xmlns=\"http://www.w3.org/2000/svg\" xmlns:xlink=\"http://www.w3.org/1999/xlink\">\r\n <metadata>\r\n  <rdf:RDF xmlns:cc=\"http://creativecommons.org/ns#\" xmlns:dc=\"http://purl.org/dc/elements/1.1/\" xmlns:rdf=\"http://www.w3.org/1999/02/22-rdf-syntax-ns#\">\r\n   <cc:Work>\r\n    <dc:type rdf:resource=\"http://purl.org/dc/dcmitype/StillImage\"/>\r\n    <dc:date>2020-12-02T10:47:13.709880</dc:date>\r\n    <dc:format>image/svg+xml</dc:format>\r\n    <dc:creator>\r\n     <cc:Agent>\r\n      <dc:title>Matplotlib v3.3.1, https://matplotlib.org/</dc:title>\r\n     </cc:Agent>\r\n    </dc:creator>\r\n   </cc:Work>\r\n  </rdf:RDF>\r\n </metadata>\r\n <defs>\r\n  <style type=\"text/css\">*{stroke-linecap:butt;stroke-linejoin:round;}</style>\r\n </defs>\r\n <g id=\"figure_1\">\r\n  <g id=\"patch_1\">\r\n   <path d=\"M 0 262.19625 \r\nL 408.053125 262.19625 \r\nL 408.053125 0 \r\nL 0 0 \r\nz\r\n\" style=\"fill:none;\"/>\r\n  </g>\r\n  <g id=\"axes_1\">\r\n   <g id=\"patch_2\">\r\n    <path d=\"M 66.053125 224.64 \r\nL 400.853125 224.64 \r\nL 400.853125 7.2 \r\nL 66.053125 7.2 \r\nz\r\n\" style=\"fill:#ffffff;\"/>\r\n   </g>\r\n   <g id=\"patch_3\">\r\n    <path clip-path=\"url(#pe44f3b1f51)\" d=\"M 70.835982 224.64 \r\nL 109.098839 224.64 \r\nL 109.098839 69.789885 \r\nL 70.835982 69.789885 \r\nz\r\n\" style=\"fill:#3274a1;\"/>\r\n   </g>\r\n   <g id=\"patch_4\">\r\n    <path clip-path=\"url(#pe44f3b1f51)\" d=\"M 118.664554 224.64 \r\nL 156.927411 224.64 \r\nL 156.927411 17.554286 \r\nL 118.664554 17.554286 \r\nz\r\n\" style=\"fill:#e1812c;\"/>\r\n   </g>\r\n   <g id=\"patch_5\">\r\n    <path clip-path=\"url(#pe44f3b1f51)\" d=\"M 166.493125 224.64 \r\nL 204.755982 224.64 \r\nL 204.755982 198.504448 \r\nL 166.493125 198.504448 \r\nz\r\n\" style=\"fill:#3a923a;\"/>\r\n   </g>\r\n   <g id=\"patch_6\">\r\n    <path clip-path=\"url(#pe44f3b1f51)\" d=\"M 214.321696 224.64 \r\nL 252.584554 224.64 \r\nL 252.584554 222.631902 \r\nL 214.321696 222.631902 \r\nz\r\n\" style=\"fill:#c03d3e;\"/>\r\n   </g>\r\n   <g id=\"patch_7\">\r\n    <path clip-path=\"url(#pe44f3b1f51)\" d=\"M 262.150268 224.64 \r\nL 300.413125 224.64 \r\nL 300.413125 217.700942 \r\nL 262.150268 217.700942 \r\nz\r\n\" style=\"fill:#9372b2;\"/>\r\n   </g>\r\n   <g id=\"patch_8\">\r\n    <path clip-path=\"url(#pe44f3b1f51)\" d=\"M 309.978839 224.64 \r\nL 348.241696 224.64 \r\nL 348.241696 211.945022 \r\nL 309.978839 211.945022 \r\nz\r\n\" style=\"fill:#845b53;\"/>\r\n   </g>\r\n   <g id=\"patch_9\">\r\n    <path clip-path=\"url(#pe44f3b1f51)\" d=\"M 357.807411 224.64 \r\nL 396.070268 224.64 \r\nL 396.070268 209.647667 \r\nL 357.807411 209.647667 \r\nz\r\n\" style=\"fill:#d684bd;\"/>\r\n   </g>\r\n   <g id=\"matplotlib.axis_1\">\r\n    <g id=\"xtick_1\">\r\n     <g id=\"line2d_1\">\r\n      <defs>\r\n       <path d=\"M 0 0 \r\nL 0 3.5 \r\n\" id=\"m3d08640b12\" style=\"stroke:#000000;stroke-width:0.8;\"/>\r\n      </defs>\r\n      <g>\r\n       <use style=\"stroke:#000000;stroke-width:0.8;\" x=\"89.967411\" xlink:href=\"#m3d08640b12\" y=\"224.64\"/>\r\n      </g>\r\n     </g>\r\n     <g id=\"text_1\">\r\n      <!-- 1 -->\r\n      <g transform=\"translate(86.786161 239.238437)scale(0.1 -0.1)\">\r\n       <defs>\r\n        <path d=\"M 12.40625 8.296875 \r\nL 28.515625 8.296875 \r\nL 28.515625 63.921875 \r\nL 10.984375 60.40625 \r\nL 10.984375 69.390625 \r\nL 28.421875 72.90625 \r\nL 38.28125 72.90625 \r\nL 38.28125 8.296875 \r\nL 54.390625 8.296875 \r\nL 54.390625 0 \r\nL 12.40625 0 \r\nz\r\n\" id=\"DejaVuSans-49\"/>\r\n       </defs>\r\n       <use xlink:href=\"#DejaVuSans-49\"/>\r\n      </g>\r\n     </g>\r\n    </g>\r\n    <g id=\"xtick_2\">\r\n     <g id=\"line2d_2\">\r\n      <g>\r\n       <use style=\"stroke:#000000;stroke-width:0.8;\" x=\"137.795982\" xlink:href=\"#m3d08640b12\" y=\"224.64\"/>\r\n      </g>\r\n     </g>\r\n     <g id=\"text_2\">\r\n      <!-- 2 -->\r\n      <g transform=\"translate(134.614732 239.238437)scale(0.1 -0.1)\">\r\n       <defs>\r\n        <path d=\"M 19.1875 8.296875 \r\nL 53.609375 8.296875 \r\nL 53.609375 0 \r\nL 7.328125 0 \r\nL 7.328125 8.296875 \r\nQ 12.9375 14.109375 22.625 23.890625 \r\nQ 32.328125 33.6875 34.8125 36.53125 \r\nQ 39.546875 41.84375 41.421875 45.53125 \r\nQ 43.3125 49.21875 43.3125 52.78125 \r\nQ 43.3125 58.59375 39.234375 62.25 \r\nQ 35.15625 65.921875 28.609375 65.921875 \r\nQ 23.96875 65.921875 18.8125 64.3125 \r\nQ 13.671875 62.703125 7.8125 59.421875 \r\nL 7.8125 69.390625 \r\nQ 13.765625 71.78125 18.9375 73 \r\nQ 24.125 74.21875 28.421875 74.21875 \r\nQ 39.75 74.21875 46.484375 68.546875 \r\nQ 53.21875 62.890625 53.21875 53.421875 \r\nQ 53.21875 48.921875 51.53125 44.890625 \r\nQ 49.859375 40.875 45.40625 35.40625 \r\nQ 44.1875 33.984375 37.640625 27.21875 \r\nQ 31.109375 20.453125 19.1875 8.296875 \r\nz\r\n\" id=\"DejaVuSans-50\"/>\r\n       </defs>\r\n       <use xlink:href=\"#DejaVuSans-50\"/>\r\n      </g>\r\n     </g>\r\n    </g>\r\n    <g id=\"xtick_3\">\r\n     <g id=\"line2d_3\">\r\n      <g>\r\n       <use style=\"stroke:#000000;stroke-width:0.8;\" x=\"185.624554\" xlink:href=\"#m3d08640b12\" y=\"224.64\"/>\r\n      </g>\r\n     </g>\r\n     <g id=\"text_3\">\r\n      <!-- 3 -->\r\n      <g transform=\"translate(182.443304 239.238437)scale(0.1 -0.1)\">\r\n       <defs>\r\n        <path d=\"M 40.578125 39.3125 \r\nQ 47.65625 37.796875 51.625 33 \r\nQ 55.609375 28.21875 55.609375 21.1875 \r\nQ 55.609375 10.40625 48.1875 4.484375 \r\nQ 40.765625 -1.421875 27.09375 -1.421875 \r\nQ 22.515625 -1.421875 17.65625 -0.515625 \r\nQ 12.796875 0.390625 7.625 2.203125 \r\nL 7.625 11.71875 \r\nQ 11.71875 9.328125 16.59375 8.109375 \r\nQ 21.484375 6.890625 26.8125 6.890625 \r\nQ 36.078125 6.890625 40.9375 10.546875 \r\nQ 45.796875 14.203125 45.796875 21.1875 \r\nQ 45.796875 27.640625 41.28125 31.265625 \r\nQ 36.765625 34.90625 28.71875 34.90625 \r\nL 20.21875 34.90625 \r\nL 20.21875 43.015625 \r\nL 29.109375 43.015625 \r\nQ 36.375 43.015625 40.234375 45.921875 \r\nQ 44.09375 48.828125 44.09375 54.296875 \r\nQ 44.09375 59.90625 40.109375 62.90625 \r\nQ 36.140625 65.921875 28.71875 65.921875 \r\nQ 24.65625 65.921875 20.015625 65.03125 \r\nQ 15.375 64.15625 9.8125 62.3125 \r\nL 9.8125 71.09375 \r\nQ 15.4375 72.65625 20.34375 73.4375 \r\nQ 25.25 74.21875 29.59375 74.21875 \r\nQ 40.828125 74.21875 47.359375 69.109375 \r\nQ 53.90625 64.015625 53.90625 55.328125 \r\nQ 53.90625 49.265625 50.4375 45.09375 \r\nQ 46.96875 40.921875 40.578125 39.3125 \r\nz\r\n\" id=\"DejaVuSans-51\"/>\r\n       </defs>\r\n       <use xlink:href=\"#DejaVuSans-51\"/>\r\n      </g>\r\n     </g>\r\n    </g>\r\n    <g id=\"xtick_4\">\r\n     <g id=\"line2d_4\">\r\n      <g>\r\n       <use style=\"stroke:#000000;stroke-width:0.8;\" x=\"233.453125\" xlink:href=\"#m3d08640b12\" y=\"224.64\"/>\r\n      </g>\r\n     </g>\r\n     <g id=\"text_4\">\r\n      <!-- 4 -->\r\n      <g transform=\"translate(230.271875 239.238437)scale(0.1 -0.1)\">\r\n       <defs>\r\n        <path d=\"M 37.796875 64.3125 \r\nL 12.890625 25.390625 \r\nL 37.796875 25.390625 \r\nz\r\nM 35.203125 72.90625 \r\nL 47.609375 72.90625 \r\nL 47.609375 25.390625 \r\nL 58.015625 25.390625 \r\nL 58.015625 17.1875 \r\nL 47.609375 17.1875 \r\nL 47.609375 0 \r\nL 37.796875 0 \r\nL 37.796875 17.1875 \r\nL 4.890625 17.1875 \r\nL 4.890625 26.703125 \r\nz\r\n\" id=\"DejaVuSans-52\"/>\r\n       </defs>\r\n       <use xlink:href=\"#DejaVuSans-52\"/>\r\n      </g>\r\n     </g>\r\n    </g>\r\n    <g id=\"xtick_5\">\r\n     <g id=\"line2d_5\">\r\n      <g>\r\n       <use style=\"stroke:#000000;stroke-width:0.8;\" x=\"281.281696\" xlink:href=\"#m3d08640b12\" y=\"224.64\"/>\r\n      </g>\r\n     </g>\r\n     <g id=\"text_5\">\r\n      <!-- 5 -->\r\n      <g transform=\"translate(278.100446 239.238437)scale(0.1 -0.1)\">\r\n       <defs>\r\n        <path d=\"M 10.796875 72.90625 \r\nL 49.515625 72.90625 \r\nL 49.515625 64.59375 \r\nL 19.828125 64.59375 \r\nL 19.828125 46.734375 \r\nQ 21.96875 47.46875 24.109375 47.828125 \r\nQ 26.265625 48.1875 28.421875 48.1875 \r\nQ 40.625 48.1875 47.75 41.5 \r\nQ 54.890625 34.8125 54.890625 23.390625 \r\nQ 54.890625 11.625 47.5625 5.09375 \r\nQ 40.234375 -1.421875 26.90625 -1.421875 \r\nQ 22.3125 -1.421875 17.546875 -0.640625 \r\nQ 12.796875 0.140625 7.71875 1.703125 \r\nL 7.71875 11.625 \r\nQ 12.109375 9.234375 16.796875 8.0625 \r\nQ 21.484375 6.890625 26.703125 6.890625 \r\nQ 35.15625 6.890625 40.078125 11.328125 \r\nQ 45.015625 15.765625 45.015625 23.390625 \r\nQ 45.015625 31 40.078125 35.4375 \r\nQ 35.15625 39.890625 26.703125 39.890625 \r\nQ 22.75 39.890625 18.8125 39.015625 \r\nQ 14.890625 38.140625 10.796875 36.28125 \r\nz\r\n\" id=\"DejaVuSans-53\"/>\r\n       </defs>\r\n       <use xlink:href=\"#DejaVuSans-53\"/>\r\n      </g>\r\n     </g>\r\n    </g>\r\n    <g id=\"xtick_6\">\r\n     <g id=\"line2d_6\">\r\n      <g>\r\n       <use style=\"stroke:#000000;stroke-width:0.8;\" x=\"329.110268\" xlink:href=\"#m3d08640b12\" y=\"224.64\"/>\r\n      </g>\r\n     </g>\r\n     <g id=\"text_6\">\r\n      <!-- 6 -->\r\n      <g transform=\"translate(325.929018 239.238437)scale(0.1 -0.1)\">\r\n       <defs>\r\n        <path d=\"M 33.015625 40.375 \r\nQ 26.375 40.375 22.484375 35.828125 \r\nQ 18.609375 31.296875 18.609375 23.390625 \r\nQ 18.609375 15.53125 22.484375 10.953125 \r\nQ 26.375 6.390625 33.015625 6.390625 \r\nQ 39.65625 6.390625 43.53125 10.953125 \r\nQ 47.40625 15.53125 47.40625 23.390625 \r\nQ 47.40625 31.296875 43.53125 35.828125 \r\nQ 39.65625 40.375 33.015625 40.375 \r\nz\r\nM 52.59375 71.296875 \r\nL 52.59375 62.3125 \r\nQ 48.875 64.0625 45.09375 64.984375 \r\nQ 41.3125 65.921875 37.59375 65.921875 \r\nQ 27.828125 65.921875 22.671875 59.328125 \r\nQ 17.53125 52.734375 16.796875 39.40625 \r\nQ 19.671875 43.65625 24.015625 45.921875 \r\nQ 28.375 48.1875 33.59375 48.1875 \r\nQ 44.578125 48.1875 50.953125 41.515625 \r\nQ 57.328125 34.859375 57.328125 23.390625 \r\nQ 57.328125 12.15625 50.6875 5.359375 \r\nQ 44.046875 -1.421875 33.015625 -1.421875 \r\nQ 20.359375 -1.421875 13.671875 8.265625 \r\nQ 6.984375 17.96875 6.984375 36.375 \r\nQ 6.984375 53.65625 15.1875 63.9375 \r\nQ 23.390625 74.21875 37.203125 74.21875 \r\nQ 40.921875 74.21875 44.703125 73.484375 \r\nQ 48.484375 72.75 52.59375 71.296875 \r\nz\r\n\" id=\"DejaVuSans-54\"/>\r\n       </defs>\r\n       <use xlink:href=\"#DejaVuSans-54\"/>\r\n      </g>\r\n     </g>\r\n    </g>\r\n    <g id=\"xtick_7\">\r\n     <g id=\"line2d_7\">\r\n      <g>\r\n       <use style=\"stroke:#000000;stroke-width:0.8;\" x=\"376.938839\" xlink:href=\"#m3d08640b12\" y=\"224.64\"/>\r\n      </g>\r\n     </g>\r\n     <g id=\"text_7\">\r\n      <!-- 7 -->\r\n      <g transform=\"translate(373.757589 239.238437)scale(0.1 -0.1)\">\r\n       <defs>\r\n        <path d=\"M 8.203125 72.90625 \r\nL 55.078125 72.90625 \r\nL 55.078125 68.703125 \r\nL 28.609375 0 \r\nL 18.3125 0 \r\nL 43.21875 64.59375 \r\nL 8.203125 64.59375 \r\nz\r\n\" id=\"DejaVuSans-55\"/>\r\n       </defs>\r\n       <use xlink:href=\"#DejaVuSans-55\"/>\r\n      </g>\r\n     </g>\r\n    </g>\r\n    <g id=\"text_8\">\r\n     <!-- target -->\r\n     <g transform=\"translate(218.25 252.916562)scale(0.1 -0.1)\">\r\n      <defs>\r\n       <path d=\"M 18.3125 70.21875 \r\nL 18.3125 54.6875 \r\nL 36.8125 54.6875 \r\nL 36.8125 47.703125 \r\nL 18.3125 47.703125 \r\nL 18.3125 18.015625 \r\nQ 18.3125 11.328125 20.140625 9.421875 \r\nQ 21.96875 7.515625 27.59375 7.515625 \r\nL 36.8125 7.515625 \r\nL 36.8125 0 \r\nL 27.59375 0 \r\nQ 17.1875 0 13.234375 3.875 \r\nQ 9.28125 7.765625 9.28125 18.015625 \r\nL 9.28125 47.703125 \r\nL 2.6875 47.703125 \r\nL 2.6875 54.6875 \r\nL 9.28125 54.6875 \r\nL 9.28125 70.21875 \r\nz\r\n\" id=\"DejaVuSans-116\"/>\r\n       <path d=\"M 34.28125 27.484375 \r\nQ 23.390625 27.484375 19.1875 25 \r\nQ 14.984375 22.515625 14.984375 16.5 \r\nQ 14.984375 11.71875 18.140625 8.90625 \r\nQ 21.296875 6.109375 26.703125 6.109375 \r\nQ 34.1875 6.109375 38.703125 11.40625 \r\nQ 43.21875 16.703125 43.21875 25.484375 \r\nL 43.21875 27.484375 \r\nz\r\nM 52.203125 31.203125 \r\nL 52.203125 0 \r\nL 43.21875 0 \r\nL 43.21875 8.296875 \r\nQ 40.140625 3.328125 35.546875 0.953125 \r\nQ 30.953125 -1.421875 24.3125 -1.421875 \r\nQ 15.921875 -1.421875 10.953125 3.296875 \r\nQ 6 8.015625 6 15.921875 \r\nQ 6 25.140625 12.171875 29.828125 \r\nQ 18.359375 34.515625 30.609375 34.515625 \r\nL 43.21875 34.515625 \r\nL 43.21875 35.40625 \r\nQ 43.21875 41.609375 39.140625 45 \r\nQ 35.0625 48.390625 27.6875 48.390625 \r\nQ 23 48.390625 18.546875 47.265625 \r\nQ 14.109375 46.140625 10.015625 43.890625 \r\nL 10.015625 52.203125 \r\nQ 14.9375 54.109375 19.578125 55.046875 \r\nQ 24.21875 56 28.609375 56 \r\nQ 40.484375 56 46.34375 49.84375 \r\nQ 52.203125 43.703125 52.203125 31.203125 \r\nz\r\n\" id=\"DejaVuSans-97\"/>\r\n       <path d=\"M 41.109375 46.296875 \r\nQ 39.59375 47.171875 37.8125 47.578125 \r\nQ 36.03125 48 33.890625 48 \r\nQ 26.265625 48 22.1875 43.046875 \r\nQ 18.109375 38.09375 18.109375 28.8125 \r\nL 18.109375 0 \r\nL 9.078125 0 \r\nL 9.078125 54.6875 \r\nL 18.109375 54.6875 \r\nL 18.109375 46.1875 \r\nQ 20.953125 51.171875 25.484375 53.578125 \r\nQ 30.03125 56 36.53125 56 \r\nQ 37.453125 56 38.578125 55.875 \r\nQ 39.703125 55.765625 41.0625 55.515625 \r\nz\r\n\" id=\"DejaVuSans-114\"/>\r\n       <path d=\"M 45.40625 27.984375 \r\nQ 45.40625 37.75 41.375 43.109375 \r\nQ 37.359375 48.484375 30.078125 48.484375 \r\nQ 22.859375 48.484375 18.828125 43.109375 \r\nQ 14.796875 37.75 14.796875 27.984375 \r\nQ 14.796875 18.265625 18.828125 12.890625 \r\nQ 22.859375 7.515625 30.078125 7.515625 \r\nQ 37.359375 7.515625 41.375 12.890625 \r\nQ 45.40625 18.265625 45.40625 27.984375 \r\nz\r\nM 54.390625 6.78125 \r\nQ 54.390625 -7.171875 48.1875 -13.984375 \r\nQ 42 -20.796875 29.203125 -20.796875 \r\nQ 24.46875 -20.796875 20.265625 -20.09375 \r\nQ 16.0625 -19.390625 12.109375 -17.921875 \r\nL 12.109375 -9.1875 \r\nQ 16.0625 -11.328125 19.921875 -12.34375 \r\nQ 23.78125 -13.375 27.78125 -13.375 \r\nQ 36.625 -13.375 41.015625 -8.765625 \r\nQ 45.40625 -4.15625 45.40625 5.171875 \r\nL 45.40625 9.625 \r\nQ 42.625 4.78125 38.28125 2.390625 \r\nQ 33.9375 0 27.875 0 \r\nQ 17.828125 0 11.671875 7.65625 \r\nQ 5.515625 15.328125 5.515625 27.984375 \r\nQ 5.515625 40.671875 11.671875 48.328125 \r\nQ 17.828125 56 27.875 56 \r\nQ 33.9375 56 38.28125 53.609375 \r\nQ 42.625 51.21875 45.40625 46.390625 \r\nL 45.40625 54.6875 \r\nL 54.390625 54.6875 \r\nz\r\n\" id=\"DejaVuSans-103\"/>\r\n       <path d=\"M 56.203125 29.59375 \r\nL 56.203125 25.203125 \r\nL 14.890625 25.203125 \r\nQ 15.484375 15.921875 20.484375 11.0625 \r\nQ 25.484375 6.203125 34.421875 6.203125 \r\nQ 39.59375 6.203125 44.453125 7.46875 \r\nQ 49.3125 8.734375 54.109375 11.28125 \r\nL 54.109375 2.78125 \r\nQ 49.265625 0.734375 44.1875 -0.34375 \r\nQ 39.109375 -1.421875 33.890625 -1.421875 \r\nQ 20.796875 -1.421875 13.15625 6.1875 \r\nQ 5.515625 13.8125 5.515625 26.8125 \r\nQ 5.515625 40.234375 12.765625 48.109375 \r\nQ 20.015625 56 32.328125 56 \r\nQ 43.359375 56 49.78125 48.890625 \r\nQ 56.203125 41.796875 56.203125 29.59375 \r\nz\r\nM 47.21875 32.234375 \r\nQ 47.125 39.59375 43.09375 43.984375 \r\nQ 39.0625 48.390625 32.421875 48.390625 \r\nQ 24.90625 48.390625 20.390625 44.140625 \r\nQ 15.875 39.890625 15.1875 32.171875 \r\nz\r\n\" id=\"DejaVuSans-101\"/>\r\n      </defs>\r\n      <use xlink:href=\"#DejaVuSans-116\"/>\r\n      <use x=\"39.208984\" xlink:href=\"#DejaVuSans-97\"/>\r\n      <use x=\"100.488281\" xlink:href=\"#DejaVuSans-114\"/>\r\n      <use x=\"139.851562\" xlink:href=\"#DejaVuSans-103\"/>\r\n      <use x=\"203.328125\" xlink:href=\"#DejaVuSans-101\"/>\r\n      <use x=\"264.851562\" xlink:href=\"#DejaVuSans-116\"/>\r\n     </g>\r\n    </g>\r\n   </g>\r\n   <g id=\"matplotlib.axis_2\">\r\n    <g id=\"ytick_1\">\r\n     <g id=\"line2d_8\">\r\n      <defs>\r\n       <path d=\"M 0 0 \r\nL -3.5 0 \r\n\" id=\"m9c7c78e78a\" style=\"stroke:#000000;stroke-width:0.8;\"/>\r\n      </defs>\r\n      <g>\r\n       <use style=\"stroke:#000000;stroke-width:0.8;\" x=\"66.053125\" xlink:href=\"#m9c7c78e78a\" y=\"224.64\"/>\r\n      </g>\r\n     </g>\r\n     <g id=\"text_9\">\r\n      <!-- 0 -->\r\n      <g transform=\"translate(52.690625 228.439219)scale(0.1 -0.1)\">\r\n       <defs>\r\n        <path d=\"M 31.78125 66.40625 \r\nQ 24.171875 66.40625 20.328125 58.90625 \r\nQ 16.5 51.421875 16.5 36.375 \r\nQ 16.5 21.390625 20.328125 13.890625 \r\nQ 24.171875 6.390625 31.78125 6.390625 \r\nQ 39.453125 6.390625 43.28125 13.890625 \r\nQ 47.125 21.390625 47.125 36.375 \r\nQ 47.125 51.421875 43.28125 58.90625 \r\nQ 39.453125 66.40625 31.78125 66.40625 \r\nz\r\nM 31.78125 74.21875 \r\nQ 44.046875 74.21875 50.515625 64.515625 \r\nQ 56.984375 54.828125 56.984375 36.375 \r\nQ 56.984375 17.96875 50.515625 8.265625 \r\nQ 44.046875 -1.421875 31.78125 -1.421875 \r\nQ 19.53125 -1.421875 13.0625 8.265625 \r\nQ 6.59375 17.96875 6.59375 36.375 \r\nQ 6.59375 54.828125 13.0625 64.515625 \r\nQ 19.53125 74.21875 31.78125 74.21875 \r\nz\r\n\" id=\"DejaVuSans-48\"/>\r\n       </defs>\r\n       <use xlink:href=\"#DejaVuSans-48\"/>\r\n      </g>\r\n     </g>\r\n    </g>\r\n    <g id=\"ytick_2\">\r\n     <g id=\"line2d_9\">\r\n      <g>\r\n       <use style=\"stroke:#000000;stroke-width:0.8;\" x=\"66.053125\" xlink:href=\"#m9c7c78e78a\" y=\"198.533687\"/>\r\n      </g>\r\n     </g>\r\n     <g id=\"text_10\">\r\n      <!-- 25000 -->\r\n      <g transform=\"translate(27.240625 202.332906)scale(0.1 -0.1)\">\r\n       <use xlink:href=\"#DejaVuSans-50\"/>\r\n       <use x=\"63.623047\" xlink:href=\"#DejaVuSans-53\"/>\r\n       <use x=\"127.246094\" xlink:href=\"#DejaVuSans-48\"/>\r\n       <use x=\"190.869141\" xlink:href=\"#DejaVuSans-48\"/>\r\n       <use x=\"254.492188\" xlink:href=\"#DejaVuSans-48\"/>\r\n      </g>\r\n     </g>\r\n    </g>\r\n    <g id=\"ytick_3\">\r\n     <g id=\"line2d_10\">\r\n      <g>\r\n       <use style=\"stroke:#000000;stroke-width:0.8;\" x=\"66.053125\" xlink:href=\"#m9c7c78e78a\" y=\"172.427375\"/>\r\n      </g>\r\n     </g>\r\n     <g id=\"text_11\">\r\n      <!-- 50000 -->\r\n      <g transform=\"translate(27.240625 176.226593)scale(0.1 -0.1)\">\r\n       <use xlink:href=\"#DejaVuSans-53\"/>\r\n       <use x=\"63.623047\" xlink:href=\"#DejaVuSans-48\"/>\r\n       <use x=\"127.246094\" xlink:href=\"#DejaVuSans-48\"/>\r\n       <use x=\"190.869141\" xlink:href=\"#DejaVuSans-48\"/>\r\n       <use x=\"254.492188\" xlink:href=\"#DejaVuSans-48\"/>\r\n      </g>\r\n     </g>\r\n    </g>\r\n    <g id=\"ytick_4\">\r\n     <g id=\"line2d_11\">\r\n      <g>\r\n       <use style=\"stroke:#000000;stroke-width:0.8;\" x=\"66.053125\" xlink:href=\"#m9c7c78e78a\" y=\"146.321062\"/>\r\n      </g>\r\n     </g>\r\n     <g id=\"text_12\">\r\n      <!-- 75000 -->\r\n      <g transform=\"translate(27.240625 150.120281)scale(0.1 -0.1)\">\r\n       <use xlink:href=\"#DejaVuSans-55\"/>\r\n       <use x=\"63.623047\" xlink:href=\"#DejaVuSans-53\"/>\r\n       <use x=\"127.246094\" xlink:href=\"#DejaVuSans-48\"/>\r\n       <use x=\"190.869141\" xlink:href=\"#DejaVuSans-48\"/>\r\n       <use x=\"254.492188\" xlink:href=\"#DejaVuSans-48\"/>\r\n      </g>\r\n     </g>\r\n    </g>\r\n    <g id=\"ytick_5\">\r\n     <g id=\"line2d_12\">\r\n      <g>\r\n       <use style=\"stroke:#000000;stroke-width:0.8;\" x=\"66.053125\" xlink:href=\"#m9c7c78e78a\" y=\"120.214749\"/>\r\n      </g>\r\n     </g>\r\n     <g id=\"text_13\">\r\n      <!-- 100000 -->\r\n      <g transform=\"translate(20.878125 124.013968)scale(0.1 -0.1)\">\r\n       <use xlink:href=\"#DejaVuSans-49\"/>\r\n       <use x=\"63.623047\" xlink:href=\"#DejaVuSans-48\"/>\r\n       <use x=\"127.246094\" xlink:href=\"#DejaVuSans-48\"/>\r\n       <use x=\"190.869141\" xlink:href=\"#DejaVuSans-48\"/>\r\n       <use x=\"254.492188\" xlink:href=\"#DejaVuSans-48\"/>\r\n       <use x=\"318.115234\" xlink:href=\"#DejaVuSans-48\"/>\r\n      </g>\r\n     </g>\r\n    </g>\r\n    <g id=\"ytick_6\">\r\n     <g id=\"line2d_13\">\r\n      <g>\r\n       <use style=\"stroke:#000000;stroke-width:0.8;\" x=\"66.053125\" xlink:href=\"#m9c7c78e78a\" y=\"94.108437\"/>\r\n      </g>\r\n     </g>\r\n     <g id=\"text_14\">\r\n      <!-- 125000 -->\r\n      <g transform=\"translate(20.878125 97.907656)scale(0.1 -0.1)\">\r\n       <use xlink:href=\"#DejaVuSans-49\"/>\r\n       <use x=\"63.623047\" xlink:href=\"#DejaVuSans-50\"/>\r\n       <use x=\"127.246094\" xlink:href=\"#DejaVuSans-53\"/>\r\n       <use x=\"190.869141\" xlink:href=\"#DejaVuSans-48\"/>\r\n       <use x=\"254.492188\" xlink:href=\"#DejaVuSans-48\"/>\r\n       <use x=\"318.115234\" xlink:href=\"#DejaVuSans-48\"/>\r\n      </g>\r\n     </g>\r\n    </g>\r\n    <g id=\"ytick_7\">\r\n     <g id=\"line2d_14\">\r\n      <g>\r\n       <use style=\"stroke:#000000;stroke-width:0.8;\" x=\"66.053125\" xlink:href=\"#m9c7c78e78a\" y=\"68.002124\"/>\r\n      </g>\r\n     </g>\r\n     <g id=\"text_15\">\r\n      <!-- 150000 -->\r\n      <g transform=\"translate(20.878125 71.801343)scale(0.1 -0.1)\">\r\n       <use xlink:href=\"#DejaVuSans-49\"/>\r\n       <use x=\"63.623047\" xlink:href=\"#DejaVuSans-53\"/>\r\n       <use x=\"127.246094\" xlink:href=\"#DejaVuSans-48\"/>\r\n       <use x=\"190.869141\" xlink:href=\"#DejaVuSans-48\"/>\r\n       <use x=\"254.492188\" xlink:href=\"#DejaVuSans-48\"/>\r\n       <use x=\"318.115234\" xlink:href=\"#DejaVuSans-48\"/>\r\n      </g>\r\n     </g>\r\n    </g>\r\n    <g id=\"ytick_8\">\r\n     <g id=\"line2d_15\">\r\n      <g>\r\n       <use style=\"stroke:#000000;stroke-width:0.8;\" x=\"66.053125\" xlink:href=\"#m9c7c78e78a\" y=\"41.895812\"/>\r\n      </g>\r\n     </g>\r\n     <g id=\"text_16\">\r\n      <!-- 175000 -->\r\n      <g transform=\"translate(20.878125 45.69503)scale(0.1 -0.1)\">\r\n       <use xlink:href=\"#DejaVuSans-49\"/>\r\n       <use x=\"63.623047\" xlink:href=\"#DejaVuSans-55\"/>\r\n       <use x=\"127.246094\" xlink:href=\"#DejaVuSans-53\"/>\r\n       <use x=\"190.869141\" xlink:href=\"#DejaVuSans-48\"/>\r\n       <use x=\"254.492188\" xlink:href=\"#DejaVuSans-48\"/>\r\n       <use x=\"318.115234\" xlink:href=\"#DejaVuSans-48\"/>\r\n      </g>\r\n     </g>\r\n    </g>\r\n    <g id=\"ytick_9\">\r\n     <g id=\"line2d_16\">\r\n      <g>\r\n       <use style=\"stroke:#000000;stroke-width:0.8;\" x=\"66.053125\" xlink:href=\"#m9c7c78e78a\" y=\"15.789499\"/>\r\n      </g>\r\n     </g>\r\n     <g id=\"text_17\">\r\n      <!-- 200000 -->\r\n      <g transform=\"translate(20.878125 19.588718)scale(0.1 -0.1)\">\r\n       <use xlink:href=\"#DejaVuSans-50\"/>\r\n       <use x=\"63.623047\" xlink:href=\"#DejaVuSans-48\"/>\r\n       <use x=\"127.246094\" xlink:href=\"#DejaVuSans-48\"/>\r\n       <use x=\"190.869141\" xlink:href=\"#DejaVuSans-48\"/>\r\n       <use x=\"254.492188\" xlink:href=\"#DejaVuSans-48\"/>\r\n       <use x=\"318.115234\" xlink:href=\"#DejaVuSans-48\"/>\r\n      </g>\r\n     </g>\r\n    </g>\r\n    <g id=\"text_18\">\r\n     <!-- count -->\r\n     <g transform=\"translate(14.798438 130.02625)rotate(-90)scale(0.1 -0.1)\">\r\n      <defs>\r\n       <path d=\"M 48.78125 52.59375 \r\nL 48.78125 44.1875 \r\nQ 44.96875 46.296875 41.140625 47.34375 \r\nQ 37.3125 48.390625 33.40625 48.390625 \r\nQ 24.65625 48.390625 19.8125 42.84375 \r\nQ 14.984375 37.3125 14.984375 27.296875 \r\nQ 14.984375 17.28125 19.8125 11.734375 \r\nQ 24.65625 6.203125 33.40625 6.203125 \r\nQ 37.3125 6.203125 41.140625 7.25 \r\nQ 44.96875 8.296875 48.78125 10.40625 \r\nL 48.78125 2.09375 \r\nQ 45.015625 0.34375 40.984375 -0.53125 \r\nQ 36.96875 -1.421875 32.421875 -1.421875 \r\nQ 20.0625 -1.421875 12.78125 6.34375 \r\nQ 5.515625 14.109375 5.515625 27.296875 \r\nQ 5.515625 40.671875 12.859375 48.328125 \r\nQ 20.21875 56 33.015625 56 \r\nQ 37.15625 56 41.109375 55.140625 \r\nQ 45.0625 54.296875 48.78125 52.59375 \r\nz\r\n\" id=\"DejaVuSans-99\"/>\r\n       <path d=\"M 30.609375 48.390625 \r\nQ 23.390625 48.390625 19.1875 42.75 \r\nQ 14.984375 37.109375 14.984375 27.296875 \r\nQ 14.984375 17.484375 19.15625 11.84375 \r\nQ 23.34375 6.203125 30.609375 6.203125 \r\nQ 37.796875 6.203125 41.984375 11.859375 \r\nQ 46.1875 17.53125 46.1875 27.296875 \r\nQ 46.1875 37.015625 41.984375 42.703125 \r\nQ 37.796875 48.390625 30.609375 48.390625 \r\nz\r\nM 30.609375 56 \r\nQ 42.328125 56 49.015625 48.375 \r\nQ 55.71875 40.765625 55.71875 27.296875 \r\nQ 55.71875 13.875 49.015625 6.21875 \r\nQ 42.328125 -1.421875 30.609375 -1.421875 \r\nQ 18.84375 -1.421875 12.171875 6.21875 \r\nQ 5.515625 13.875 5.515625 27.296875 \r\nQ 5.515625 40.765625 12.171875 48.375 \r\nQ 18.84375 56 30.609375 56 \r\nz\r\n\" id=\"DejaVuSans-111\"/>\r\n       <path d=\"M 8.5 21.578125 \r\nL 8.5 54.6875 \r\nL 17.484375 54.6875 \r\nL 17.484375 21.921875 \r\nQ 17.484375 14.15625 20.5 10.265625 \r\nQ 23.53125 6.390625 29.59375 6.390625 \r\nQ 36.859375 6.390625 41.078125 11.03125 \r\nQ 45.3125 15.671875 45.3125 23.6875 \r\nL 45.3125 54.6875 \r\nL 54.296875 54.6875 \r\nL 54.296875 0 \r\nL 45.3125 0 \r\nL 45.3125 8.40625 \r\nQ 42.046875 3.421875 37.71875 1 \r\nQ 33.40625 -1.421875 27.6875 -1.421875 \r\nQ 18.265625 -1.421875 13.375 4.4375 \r\nQ 8.5 10.296875 8.5 21.578125 \r\nz\r\nM 31.109375 56 \r\nz\r\n\" id=\"DejaVuSans-117\"/>\r\n       <path d=\"M 54.890625 33.015625 \r\nL 54.890625 0 \r\nL 45.90625 0 \r\nL 45.90625 32.71875 \r\nQ 45.90625 40.484375 42.875 44.328125 \r\nQ 39.84375 48.1875 33.796875 48.1875 \r\nQ 26.515625 48.1875 22.3125 43.546875 \r\nQ 18.109375 38.921875 18.109375 30.90625 \r\nL 18.109375 0 \r\nL 9.078125 0 \r\nL 9.078125 54.6875 \r\nL 18.109375 54.6875 \r\nL 18.109375 46.1875 \r\nQ 21.34375 51.125 25.703125 53.5625 \r\nQ 30.078125 56 35.796875 56 \r\nQ 45.21875 56 50.046875 50.171875 \r\nQ 54.890625 44.34375 54.890625 33.015625 \r\nz\r\n\" id=\"DejaVuSans-110\"/>\r\n      </defs>\r\n      <use xlink:href=\"#DejaVuSans-99\"/>\r\n      <use x=\"54.980469\" xlink:href=\"#DejaVuSans-111\"/>\r\n      <use x=\"116.162109\" xlink:href=\"#DejaVuSans-117\"/>\r\n      <use x=\"179.541016\" xlink:href=\"#DejaVuSans-110\"/>\r\n      <use x=\"242.919922\" xlink:href=\"#DejaVuSans-116\"/>\r\n     </g>\r\n    </g>\r\n   </g>\r\n   <g id=\"patch_10\">\r\n    <path d=\"M 66.053125 224.64 \r\nL 66.053125 7.2 \r\n\" style=\"fill:none;stroke:#000000;stroke-linecap:square;stroke-linejoin:miter;stroke-width:0.8;\"/>\r\n   </g>\r\n   <g id=\"patch_11\">\r\n    <path d=\"M 400.853125 224.64 \r\nL 400.853125 7.2 \r\n\" style=\"fill:none;stroke:#000000;stroke-linecap:square;stroke-linejoin:miter;stroke-width:0.8;\"/>\r\n   </g>\r\n   <g id=\"patch_12\">\r\n    <path d=\"M 66.053125 224.64 \r\nL 400.853125 224.64 \r\n\" style=\"fill:none;stroke:#000000;stroke-linecap:square;stroke-linejoin:miter;stroke-width:0.8;\"/>\r\n   </g>\r\n   <g id=\"patch_13\">\r\n    <path d=\"M 66.053125 7.2 \r\nL 400.853125 7.2 \r\n\" style=\"fill:none;stroke:#000000;stroke-linecap:square;stroke-linejoin:miter;stroke-width:0.8;\"/>\r\n   </g>\r\n  </g>\r\n </g>\r\n <defs>\r\n  <clipPath id=\"pe44f3b1f51\">\r\n   <rect height=\"217.44\" width=\"334.8\" x=\"66.053125\" y=\"7.2\"/>\r\n  </clipPath>\r\n </defs>\r\n</svg>\r\n",
      "image/png": "[encoded data removed]"
     },
     "metadata": {
      "needs_background": "light"
     }
    }
   ],
   "source": [
    "sns.countplot(X['target'])"
   ]
  },
  {
   "source": [
    "Data labels are not completely balanced, class 1 and 2 are much more abundant over the dataset"
   ],
   "cell_type": "markdown",
   "metadata": {}
  },
  {
   "source": [
    "f = plt.figure(figsize=(20,4))\n",
    "f.add_subplot(1,2,1)\n",
    "sns.distplot(X['Elevation'])\n",
    "f.add_subplot(1,2,2)\n",
    "sns.boxplot(X['Elevation'])\n",
    "\n",
    "f1 = plt.figure(figsize=(20,4))\n",
    "f1.add_subplot(1,2,1)\n",
    "sns.distplot(X['Aspect'])\n",
    "f1.add_subplot(1,2,2)\n",
    "sns.boxplot(X['Aspect'])\n",
    "\n",
    "\n",
    "f2 = plt.figure(figsize=(20,4))\n",
    "f2.add_subplot(1,2,1)\n",
    "sns.distplot(X['Slope'])\n",
    "f2.add_subplot(1,2,2)\n",
    "sns.boxplot(X['Slope'])\n",
    "\n",
    "f3 = plt.figure(figsize=(20,4))\n",
    "f3.add_subplot(1,2,1)\n",
    "sns.distplot(X['Horizontal_Distance_To_Hydrology'])\n",
    "f3.add_subplot(1,2,2)\n",
    "sns.boxplot(X['Horizontal_Distance_To_Hydrology'])\n",
    "\n",
    "\n",
    "f4 = plt.figure(figsize=(20,4))\n",
    "f4.add_subplot(1,2,1)\n",
    "sns.distplot(X['Vertical_Distance_To_Hydrology'])\n",
    "f4.add_subplot(1,2,2)\n",
    "sns.boxplot(X['Vertical_Distance_To_Hydrology'])\n",
    "\n",
    "\n",
    "f5 = plt.figure(figsize=(20,4))\n",
    "f5.add_subplot(1,2,1)\n",
    "sns.distplot(X['Horizontal_Distance_To_Roadways'])\n",
    "f5.add_subplot(1,2,2)\n",
    "sns.boxplot(X['Horizontal_Distance_To_Roadways'])\n",
    "\n",
    "f6 = plt.figure(figsize=(20,4))\n",
    "f6.add_subplot(1,2,1)\n",
    "sns.distplot(X['Hillshade_9am'])\n",
    "f6.add_subplot(1,2,2)\n",
    "sns.boxplot(X['Hillshade_9am'])\n",
    "\n",
    "f7 = plt.figure(figsize=(20,4))\n",
    "f7.add_subplot(1,2,1)\n",
    "sns.distplot(X['Hillshade_Noon'])\n",
    "f7.add_subplot(1,2,2)\n",
    "sns.boxplot(X['Hillshade_Noon'])\n",
    "\n",
    "f8 = plt.figure(figsize=(20,4))\n",
    "f8.add_subplot(1,2,1)\n",
    "sns.distplot(X['Hillshade_3pm'])\n",
    "f8.add_subplot(1,2,2)\n",
    "sns.boxplot(X['Hillshade_3pm'])\n",
    "\n",
    "f9 = plt.figure(figsize=(20,4))\n",
    "f9.add_subplot(1,2,1)\n",
    "sns.distplot(X['Horizontal_Distance_To_Fire_Points'])\n",
    "f9.add_subplot(1,2,2)\n",
    "sns.boxplot(X['Horizontal_Distance_To_Fire_Points'])\n",
    "\n",
    "f10 = plt.figure(figsize=(20,4))\n",
    "f10.add_subplot(1,2,1)\n",
    "sns.distplot(X['target'])\n",
    "f10.add_subplot(1,2,2)\n",
    "sns.boxplot(X['target'])"
   ],
   "cell_type": "markdown",
   "metadata": {}
  },
  {
   "source": [
    "#### Compacting soil types. \n",
    "We drop the target label again with the aim of transforming data into a more compact way."
   ],
   "cell_type": "markdown",
   "metadata": {}
  },
  {
   "source": [
    "X.drop(\"target\",axis=\"columns\",inplace=True)\n",
    "X.columns"
   ],
   "cell_type": "code",
   "metadata": {},
   "execution_count": 57,
   "outputs": [
    {
     "output_type": "execute_result",
     "data": {
      "text/plain": [
       "Index(['Elevation', 'Aspect', 'Slope', 'Horizontal_Distance_To_Hydrology',\n",
       "       'Vertical_Distance_To_Hydrology', 'Horizontal_Distance_To_Roadways',\n",
       "       'Hillshade_9am', 'Hillshade_Noon', 'Hillshade_3pm',\n",
       "       'Horizontal_Distance_To_Fire_Points', 'Wilderness_Area_1',\n",
       "       'Wilderness_Area_2', 'Wilderness_Area_3', 'Wilderness_Area_4',\n",
       "       'Soil_Type_1', 'Soil_Type_2', 'Soil_Type_3', 'Soil_Type_4',\n",
       "       'Soil_Type_5', 'Soil_Type_6', 'Soil_Type_7', 'Soil_Type_8',\n",
       "       'Soil_Type_9', 'Soil_Type_10', 'Soil_Type_11', 'Soil_Type_12',\n",
       "       'Soil_Type_13', 'Soil_Type_14', 'Soil_Type_15', 'Soil_Type_16',\n",
       "       'Soil_Type_17', 'Soil_Type_18', 'Soil_Type_19', 'Soil_Type_20',\n",
       "       'Soil_Type_21', 'Soil_Type_22', 'Soil_Type_23', 'Soil_Type_24',\n",
       "       'Soil_Type_25', 'Soil_Type_26', 'Soil_Type_27', 'Soil_Type_28',\n",
       "       'Soil_Type_29', 'Soil_Type_30', 'Soil_Type_31', 'Soil_Type_32',\n",
       "       'Soil_Type_33', 'Soil_Type_34', 'Soil_Type_35', 'Soil_Type_36',\n",
       "       'Soil_Type_37', 'Soil_Type_38', 'Soil_Type_39', 'Soil_Type_40'],\n",
       "      dtype='object')"
      ]
     },
     "metadata": {},
     "execution_count": 57
    }
   ]
  },
  {
   "cell_type": "code",
   "execution_count": 58,
   "metadata": {},
   "outputs": [
    {
     "output_type": "stream",
     "name": "stdout",
     "text": [
      "14 Soil_Type_1\n",
      "15 Soil_Type_2\n",
      "16 Soil_Type_3\n",
      "17 Soil_Type_4\n",
      "18 Soil_Type_5\n",
      "19 Soil_Type_6\n",
      "20 Soil_Type_7\n",
      "21 Soil_Type_8\n",
      "22 Soil_Type_9\n",
      "23 Soil_Type_10\n",
      "24 Soil_Type_11\n",
      "25 Soil_Type_12\n",
      "26 Soil_Type_13\n",
      "27 Soil_Type_14\n",
      "28 Soil_Type_15\n",
      "29 Soil_Type_16\n",
      "30 Soil_Type_17\n",
      "31 Soil_Type_18\n",
      "32 Soil_Type_19\n",
      "33 Soil_Type_20\n",
      "34 Soil_Type_21\n",
      "35 Soil_Type_22\n",
      "36 Soil_Type_23\n",
      "37 Soil_Type_24\n",
      "38 Soil_Type_25\n",
      "39 Soil_Type_26\n",
      "40 Soil_Type_27\n",
      "41 Soil_Type_28\n",
      "42 Soil_Type_29\n",
      "43 Soil_Type_30\n",
      "44 Soil_Type_31\n",
      "45 Soil_Type_32\n",
      "46 Soil_Type_33\n",
      "47 Soil_Type_34\n",
      "48 Soil_Type_35\n",
      "49 Soil_Type_36\n",
      "50 Soil_Type_37\n",
      "51 Soil_Type_38\n",
      "52 Soil_Type_39\n",
      "53 Soil_Type_40\n",
      "54 Soil_type\n"
     ]
    }
   ],
   "source": [
    "X[\"Soil_type\"] = 0\n",
    "x_testing[\"Soil_type\"] = 0\n",
    "for i,val in enumerate(X):\n",
    "    if i>=14:  \n",
    "        print(i,val)      \n",
    "        X.loc[X[val]==1,val]=i\n",
    "        x_testing.loc[x_testing[val]==1,val]=i\n",
    "        X[\"Soil_type\"]  = X[\"Soil_type\"]  + X[val]\n",
    "        x_testing[\"Soil_type\"]  = x_testing[\"Soil_type\"]  + x_testing[val]"
   ]
  },
  {
   "cell_type": "code",
   "execution_count": 59,
   "metadata": {},
   "outputs": [
    {
     "output_type": "stream",
     "name": "stdout",
     "text": [
      "10 Wilderness_Area_1\n",
      "11 Wilderness_Area_2\n",
      "12 Wilderness_Area_3\n",
      "13 Wilderness_Area_4\n"
     ]
    }
   ],
   "source": [
    "X[\"Wilderness_area\"] = 0\n",
    "x_testing[\"Wilderness_area\"] = 0\n",
    "\n",
    "for i,val in enumerate(X):\n",
    "    if i>=10:\n",
    "        if i<14:\n",
    "            print(i,val)\n",
    "            X.loc[X[val]==1,val]=i\n",
    "            x_testing.loc[x_testing[val]==1,val]=i\n",
    "            X[\"Wilderness_area\"]  = X[\"Wilderness_area\"]  + X[val]\n",
    "            x_testing[\"Wilderness_area\"]  = x_testing[\"Wilderness_area\"]  + x_testing[val] "
   ]
  },
  {
   "cell_type": "code",
   "execution_count": 60,
   "metadata": {},
   "outputs": [
    {
     "output_type": "execute_result",
     "data": {
      "text/plain": [
       "   Elevation  Aspect  Slope  Horizontal_Distance_To_Hydrology  \\\n",
       "0       3342      15     13                               350   \n",
       "1       2764      39     13                               175   \n",
       "2       2773     158      5                               162   \n",
       "3       3083     108     16                                30   \n",
       "4       3096      40      4                               201   \n",
       "5       2990      87     12                               306   \n",
       "6       3101      43     10                               270   \n",
       "7       2894     351     11                               872   \n",
       "8       3106     158     24                               540   \n",
       "9       2921      97     12                               201   \n",
       "\n",
       "   Vertical_Distance_To_Hydrology  Horizontal_Distance_To_Roadways  \\\n",
       "0                              55                             2118   \n",
       "1                              43                             2648   \n",
       "2                              14                             2012   \n",
       "3                             -14                             2639   \n",
       "4                              38                             4592   \n",
       "5                              70                             1819   \n",
       "6                              61                             2901   \n",
       "7                             128                             2324   \n",
       "8                              29                              942   \n",
       "9                              47                             4380   \n",
       "\n",
       "   Hillshade_9am  Hillshade_Noon  Hillshade_3pm  \\\n",
       "0            208             212            139   \n",
       "1            220             210            122   \n",
       "2            226             241            149   \n",
       "3            246             220             98   \n",
       "4            220             231            147   \n",
       "5            238             219            109   \n",
       "6            222             217            129   \n",
       "7            201             222            159   \n",
       "8            238             236            114   \n",
       "9            240             222            110   \n",
       "\n",
       "   Horizontal_Distance_To_Fire_Points  Wilderness_area  Soil_type  \n",
       "0                                1486               12         88  \n",
       "1                                 366               12         46  \n",
       "2                                 967               10         50  \n",
       "3                                1909               12         88  \n",
       "4                                2432               10         84  \n",
       "5                                1350               12         90  \n",
       "6                                5676               10         84  \n",
       "7                                 895               12         48  \n",
       "8                                2343               10         84  \n",
       "9                                3341               10         84  "
      ],
      "text/html": "<div>\n<style scoped>\n    .dataframe tbody tr th:only-of-type {\n        vertical-align: middle;\n    }\n\n    .dataframe tbody tr th {\n        vertical-align: top;\n    }\n\n    .dataframe thead th {\n        text-align: right;\n    }\n</style>\n<table border=\"1\" class=\"dataframe\">\n  <thead>\n    <tr style=\"text-align: right;\">\n      <th></th>\n      <th>Elevation</th>\n      <th>Aspect</th>\n      <th>Slope</th>\n      <th>Horizontal_Distance_To_Hydrology</th>\n      <th>Vertical_Distance_To_Hydrology</th>\n      <th>Horizontal_Distance_To_Roadways</th>\n      <th>Hillshade_9am</th>\n      <th>Hillshade_Noon</th>\n      <th>Hillshade_3pm</th>\n      <th>Horizontal_Distance_To_Fire_Points</th>\n      <th>Wilderness_area</th>\n      <th>Soil_type</th>\n    </tr>\n  </thead>\n  <tbody>\n    <tr>\n      <th>0</th>\n      <td>3342</td>\n      <td>15</td>\n      <td>13</td>\n      <td>350</td>\n      <td>55</td>\n      <td>2118</td>\n      <td>208</td>\n      <td>212</td>\n      <td>139</td>\n      <td>1486</td>\n      <td>12</td>\n      <td>88</td>\n    </tr>\n    <tr>\n      <th>1</th>\n      <td>2764</td>\n      <td>39</td>\n      <td>13</td>\n      <td>175</td>\n      <td>43</td>\n      <td>2648</td>\n      <td>220</td>\n      <td>210</td>\n      <td>122</td>\n      <td>366</td>\n      <td>12</td>\n      <td>46</td>\n    </tr>\n    <tr>\n      <th>2</th>\n      <td>2773</td>\n      <td>158</td>\n      <td>5</td>\n      <td>162</td>\n      <td>14</td>\n      <td>2012</td>\n      <td>226</td>\n      <td>241</td>\n      <td>149</td>\n      <td>967</td>\n      <td>10</td>\n      <td>50</td>\n    </tr>\n    <tr>\n      <th>3</th>\n      <td>3083</td>\n      <td>108</td>\n      <td>16</td>\n      <td>30</td>\n      <td>-14</td>\n      <td>2639</td>\n      <td>246</td>\n      <td>220</td>\n      <td>98</td>\n      <td>1909</td>\n      <td>12</td>\n      <td>88</td>\n    </tr>\n    <tr>\n      <th>4</th>\n      <td>3096</td>\n      <td>40</td>\n      <td>4</td>\n      <td>201</td>\n      <td>38</td>\n      <td>4592</td>\n      <td>220</td>\n      <td>231</td>\n      <td>147</td>\n      <td>2432</td>\n      <td>10</td>\n      <td>84</td>\n    </tr>\n    <tr>\n      <th>5</th>\n      <td>2990</td>\n      <td>87</td>\n      <td>12</td>\n      <td>306</td>\n      <td>70</td>\n      <td>1819</td>\n      <td>238</td>\n      <td>219</td>\n      <td>109</td>\n      <td>1350</td>\n      <td>12</td>\n      <td>90</td>\n    </tr>\n    <tr>\n      <th>6</th>\n      <td>3101</td>\n      <td>43</td>\n      <td>10</td>\n      <td>270</td>\n      <td>61</td>\n      <td>2901</td>\n      <td>222</td>\n      <td>217</td>\n      <td>129</td>\n      <td>5676</td>\n      <td>10</td>\n      <td>84</td>\n    </tr>\n    <tr>\n      <th>7</th>\n      <td>2894</td>\n      <td>351</td>\n      <td>11</td>\n      <td>872</td>\n      <td>128</td>\n      <td>2324</td>\n      <td>201</td>\n      <td>222</td>\n      <td>159</td>\n      <td>895</td>\n      <td>12</td>\n      <td>48</td>\n    </tr>\n    <tr>\n      <th>8</th>\n      <td>3106</td>\n      <td>158</td>\n      <td>24</td>\n      <td>540</td>\n      <td>29</td>\n      <td>942</td>\n      <td>238</td>\n      <td>236</td>\n      <td>114</td>\n      <td>2343</td>\n      <td>10</td>\n      <td>84</td>\n    </tr>\n    <tr>\n      <th>9</th>\n      <td>2921</td>\n      <td>97</td>\n      <td>12</td>\n      <td>201</td>\n      <td>47</td>\n      <td>4380</td>\n      <td>240</td>\n      <td>222</td>\n      <td>110</td>\n      <td>3341</td>\n      <td>10</td>\n      <td>84</td>\n    </tr>\n  </tbody>\n</table>\n</div>"
     },
     "metadata": {},
     "execution_count": 60
    }
   ],
   "source": [
    "fields = ['Elevation', 'Aspect', 'Slope', 'Horizontal_Distance_To_Hydrology', 'Vertical_Distance_To_Hydrology', 'Horizontal_Distance_To_Roadways', 'Hillshade_9am', 'Hillshade_Noon', 'Hillshade_3pm', 'Horizontal_Distance_To_Fire_Points', \"Wilderness_area\",\"Soil_type\"]\n",
    "X_1 = X[fields]\n",
    "x_1_testing = x_testing[fields]\n",
    "X_1.head(10)"
   ]
  },
  {
   "source": [
    "f = plt.figure(figsize=(20,4))\n",
    "f.add_subplot(1,2,1)\n",
    "sns.distplot(X['Wilderness_area'])\n",
    "f.add_subplot(1,2,2)\n",
    "sns.boxplot(X['Wilderness_area'])\n",
    "\n",
    "f2 = plt.figure(figsize=(20,4))\n",
    "f2.add_subplot(1,2,1)\n",
    "sns.distplot(X['Soil_type'])\n",
    "f2.add_subplot(1,2,2)\n",
    "sns.boxplot(X['Soil_type'])"
   ],
   "cell_type": "markdown",
   "metadata": {}
  },
  {
   "source": [
    "X_2 = X_1.copy()\n",
    "X_2['Horizontal_Distance_To_Hydrology'] = (X_2['Horizontal_Distance_To_Hydrology']-X_2['Horizontal_Distance_To_Hydrology'].min())/(X_2['Horizontal_Distance_To_Hydrology'].max()-X_2['Horizontal_Distance_To_Hydrology'].min())\n",
    "X_1 = X_2\n",
    "X_1"
   ],
   "cell_type": "markdown",
   "metadata": {}
  },
  {
   "cell_type": "code",
   "execution_count": 74,
   "metadata": {},
   "outputs": [
    {
     "output_type": "stream",
     "name": "stdout",
     "text": [
      "(406708, 12)\n(174304, 12)\n(406708, 1)\n"
     ]
    }
   ],
   "source": [
    "print(X_1.shape)\n",
    "print(x_1_testing.shape)\n",
    "print(y.shape)"
   ]
  },
  {
   "cell_type": "code",
   "execution_count": 62,
   "metadata": {},
   "outputs": [],
   "source": [
    "# Store to re-use\n",
    "X_1.to_csv('./data/X_cleaned.csv', sep='|', index=False)\n",
    "X_1.to_csv('./data/X_testing.csv', sep='|', index=False)\n",
    "y.to_csv('./data/y_cleaned.csv',sep='|',index=False)"
   ]
  }
 ]
}