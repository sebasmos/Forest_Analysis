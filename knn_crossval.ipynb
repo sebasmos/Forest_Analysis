{
 "metadata": {
  "language_info": {
   "codemirror_mode": {
    "name": "ipython",
    "version": 3
   },
   "file_extension": ".py",
   "mimetype": "text/x-python",
   "name": "python",
   "nbconvert_exporter": "python",
   "pygments_lexer": "ipython3",
   "version": "3.7.6-final"
  },
  "orig_nbformat": 2,
  "kernelspec": {
   "name": "python37664bitbaseconda91809b139dd24b97ab06595f752137a3",
   "display_name": "Python 3.7.6 64-bit ('base': conda)"
  }
 },
 "nbformat": 4,
 "nbformat_minor": 2,
 "cells": [
  {
   "cell_type": "code",
   "execution_count": 1,
   "metadata": {},
   "outputs": [],
   "source": [
    "import pandas as pd\n",
    "import numpy as np\n",
    "import copy\n",
    "import matplotlib.pyplot as plt\n",
    "from sklearn.linear_model import LinearRegression, LogisticRegression\n",
    "from sklearn.metrics import confusion_matrix\n",
    "from sklearn.model_selection import train_test_split\n",
    "from sklearn.tree   import DecisionTreeClassifier\n",
    "from sklearn.metrics import accuracy_score\n",
    "from sklearn.metrics import classification_report\n",
    "# Random forest\n",
    "from sklearn.ensemble import RandomForestClassifier\n",
    "\n",
    "from sklearn.model_selection import train_test_split\n",
    "# compare standalone models for binary classification\n",
    "from numpy import mean\n",
    "from numpy import std\n",
    "from sklearn.datasets import make_classification\n",
    "from sklearn.model_selection import cross_val_score\n",
    "from sklearn.model_selection import RepeatedStratifiedKFold\n",
    "from sklearn.linear_model import LogisticRegression\n",
    "from sklearn.neighbors import KNeighborsClassifier\n",
    "from sklearn.tree import DecisionTreeClassifier\n",
    "from sklearn.svm import SVC\n",
    "from sklearn.naive_bayes import GaussianNB\n",
    "from matplotlib import pyplot\n",
    "from sklearn.ensemble import StackingClassifier\n",
    "# TensorFlow and tf.keras\n",
    "import tensorflow as tf\n",
    "from tensorflow import keras\n",
    "from keras.models import Sequential\n",
    "from keras.layers import Conv1D, LSTM, Dense, Dropout, TimeDistributed, Flatten\n",
    "from keras.optimizers import Adam\n",
    "import keras\n",
    "# Cross-validation\n",
    "from keras.wrappers.scikit_learn import KerasClassifier\n",
    "from sklearn.model_selection import StratifiedKFold\n",
    "from sklearn.model_selection import cross_val_score"
   ]
  },
  {
   "cell_type": "code",
   "execution_count": 80,
   "metadata": {},
   "outputs": [],
   "source": [
    "data_path = \"./data\"\n",
    "X = pd.read_csv(f'{data_path}/x_train.csv')\n",
    "y = pd.read_csv(f'{data_path}/y_train.csv')\n",
    "x_testing = pd.read_csv(f'{data_path}/x_test.csv')\n",
    "y_testing = pd.read_csv(f'{data_path}/y_test_baseline.csv')"
   ]
  },
  {
   "cell_type": "code",
   "execution_count": 81,
   "metadata": {},
   "outputs": [],
   "source": [
    "X = X[X.columns[1:]]\n",
    "X.columns = ['Elevation', 'Aspect', 'Slope', 'Horizontal_Distance_To_Hydrology', 'Vertical_Distance_To_Hydrology', 'Horizontal_Distance_To_Roadways', 'Hillshade_9am', 'Hillshade_Noon', 'Hillshade_3pm', 'Horizontal_Distance_To_Fire_Points', 'Wilderness_Area_1', 'Wilderness_Area_2', 'Wilderness_Area_3', 'Wilderness_Area_4', \n",
    "'Soil_Type_1', 'Soil_Type_2','Soil_Type_3','Soil_Type_4','Soil_Type_5','Soil_Type_6','Soil_Type_7','Soil_Type_8','Soil_Type_9','Soil_Type_10',\n",
    "'Soil_Type_11','Soil_Type_12','Soil_Type_13','Soil_Type_14','Soil_Type_15','Soil_Type_16','Soil_Type_17','Soil_Type_18','Soil_Type_19','Soil_Type_20',\n",
    "'Soil_Type_21','Soil_Type_22','Soil_Type_23','Soil_Type_24','Soil_Type_25','Soil_Type_26','Soil_Type_27','Soil_Type_28','Soil_Type_29','Soil_Type_30',\n",
    "'Soil_Type_31','Soil_Type_32','Soil_Type_33','Soil_Type_34','Soil_Type_35','Soil_Type_36','Soil_Type_37','Soil_Type_38','Soil_Type_39','Soil_Type_40']\n",
    "\n",
    "y = y[y.columns[1:]]\n",
    "y.columns=['Cover_Type']\n",
    "\n",
    "# for testing the models\n",
    "x_testing = x_testing[x_testing.columns[1:]]\n",
    "x_testing.columns = ['Elevation', 'Aspect', 'Slope', 'Horizontal_Distance_To_Hydrology', 'Vertical_Distance_To_Hydrology', 'Horizontal_Distance_To_Roadways', 'Hillshade_9am', 'Hillshade_Noon', 'Hillshade_3pm', 'Horizontal_Distance_To_Fire_Points', 'Wilderness_Area_1', 'Wilderness_Area_2', 'Wilderness_Area_3', 'Wilderness_Area_4', \n",
    "'Soil_Type_1', 'Soil_Type_2','Soil_Type_3','Soil_Type_4','Soil_Type_5','Soil_Type_6','Soil_Type_7','Soil_Type_8','Soil_Type_9','Soil_Type_10',\n",
    "'Soil_Type_11','Soil_Type_12','Soil_Type_13','Soil_Type_14','Soil_Type_15','Soil_Type_16','Soil_Type_17','Soil_Type_18','Soil_Type_19','Soil_Type_20',\n",
    "'Soil_Type_21','Soil_Type_22','Soil_Type_23','Soil_Type_24','Soil_Type_25','Soil_Type_26','Soil_Type_27','Soil_Type_28','Soil_Type_29','Soil_Type_30',\n",
    "'Soil_Type_31','Soil_Type_32','Soil_Type_33','Soil_Type_34','Soil_Type_35','Soil_Type_36','Soil_Type_37','Soil_Type_38','Soil_Type_39','Soil_Type_40']\n",
    "y_testing = y_testing[y_testing.columns[1:]]\n",
    "y_testing.columns=['Cover_Type']"
   ]
  },
  {
   "cell_type": "code",
   "execution_count": 82,
   "metadata": {},
   "outputs": [
    {
     "output_type": "stream",
     "name": "stdout",
     "text": [
      "(406708, 54)\n(406708, 1)\n"
     ]
    }
   ],
   "source": [
    "print(X.shape)\n",
    "print(y.shape)"
   ]
  },
  {
   "cell_type": "code",
   "execution_count": 83,
   "metadata": {},
   "outputs": [],
   "source": [
    "#X = X.drop(columns=[\"id\"],inplace=True)\n",
    "#y = y.drop(columns=[\"id\"],inplace=True)"
   ]
  },
  {
   "cell_type": "code",
   "execution_count": 84,
   "metadata": {},
   "outputs": [],
   "source": [
    "x_train, x_test, y_train, y_test = train_test_split(X, y, test_size = 0.30, random_state = 10, stratify=y['Cover_Type'])\n",
    "\n"
   ]
  },
  {
   "cell_type": "code",
   "execution_count": 85,
   "metadata": {},
   "outputs": [
    {
     "output_type": "stream",
     "name": "stdout",
     "text": [
      "x_train:  (284695, 54)\ny_train:  (284695, 1)\nx_test:  (122013, 54)\ny_test:  (122013, 1)\nx_testing:  (174304, 54)\n"
     ]
    }
   ],
   "source": [
    "# For creating the models\n",
    "print(\"x_train: \",x_train.shape)\n",
    "print(\"y_train: \",y_train.shape)\n",
    "print(\"x_test: \",x_test.shape)\n",
    "print(\"y_test: \",y_test.shape)\n",
    "print(\"x_testing: \",x_testing.shape)"
   ]
  },
  {
   "cell_type": "code",
   "execution_count": 86,
   "metadata": {},
   "outputs": [],
   "source": [
    "X_train = copy.deepcopy(x_train)\n",
    "Y_train = copy.deepcopy(y_train)\n",
    "X_test = copy.deepcopy(x_test)\n",
    "Y_test = copy.deepcopy(y_test)\n",
    "X_testing = copy.deepcopy(x_testing)"
   ]
  },
  {
   "cell_type": "code",
   "execution_count": 87,
   "metadata": {},
   "outputs": [
    {
     "output_type": "stream",
     "name": "stdout",
     "text": [
      "x_train:  (284695, 54)\ny_train:  (284695, 1)\nx_test:  (122013, 54)\ny_test:  (122013, 1)\nx_testing:  (174304, 54)\ny_testing:  (174304, 1)\n"
     ]
    }
   ],
   "source": [
    "# After performing copy with dtype = int64\n",
    "print(\"x_train: \",X_train.shape)\n",
    "print(\"y_train: \",Y_train.shape)\n",
    "print(\"x_test: \",X_test.shape)\n",
    "print(\"y_test: \",Y_test.shape)\n",
    "print(\"x_testing: \",X_testing.shape)\n",
    "print(\"y_testing: \",Y_testing.shape)"
   ]
  },
  {
   "source": [
    "#### Models"
   ],
   "cell_type": "markdown",
   "metadata": {}
  },
  {
   "cell_type": "code",
   "execution_count": 88,
   "metadata": {},
   "outputs": [],
   "source": [
    "def train_using_knn(X_train, y_train):\n",
    "    knn_model = KNeighborsClassifier(n_neighbors=2)\n",
    "    knn_model.fit(X_train, y_train)\n",
    "    return knn_model"
   ]
  },
  {
   "cell_type": "code",
   "execution_count": 89,
   "metadata": {},
   "outputs": [],
   "source": [
    "def prediction(X_test, clf_object):\n",
    "    y_pred = clf_object.predict(X_test)\n",
    "    print(\"Predicted values: \")\n",
    "    print(y_pred)\n",
    "    return y_pred\n",
    "def calculate_Acc(y_test, y_pred):\n",
    "    print(\"Confusion matrix: \\n\")\n",
    "    confusion_matrix(y_test, y_pred)\n",
    "    print(\"Accuracy: \", accuracy_score(y_test,y_pred)*100)\n",
    "    print(\"Report \", classification_report(y_test, y_pred))"
   ]
  },
  {
   "cell_type": "code",
   "execution_count": 90,
   "metadata": {},
   "outputs": [
    {
     "output_type": "execute_result",
     "data": {
      "text/plain": [
       "        Elevation  Aspect  Slope  Horizontal_Distance_To_Hydrology  \\\n",
       "58757        3122       8      8                               175   \n",
       "105585       2771      52     14                               210   \n",
       "52500        3091     232      9                               426   \n",
       "117580       2819     118     24                               134   \n",
       "293168       2989      22     15                               853   \n",
       "...           ...     ...    ...                               ...   \n",
       "278988       2703     120     15                                30   \n",
       "382701       3099     155     13                                67   \n",
       "51607        2984     283     11                               180   \n",
       "271724       3149      84      7                               150   \n",
       "277103       2269     320     26                               170   \n",
       "\n",
       "        Vertical_Distance_To_Hydrology  Horizontal_Distance_To_Roadways  \\\n",
       "58757                                3                             2290   \n",
       "105585                              92                             1365   \n",
       "52500                               48                             5839   \n",
       "117580                              19                             3265   \n",
       "293168                             191                             2903   \n",
       "...                                ...                              ...   \n",
       "278988                               8                             2156   \n",
       "382701                              14                             4781   \n",
       "51607                               31                             4081   \n",
       "271724                             -19                             1168   \n",
       "277103                             111                              541   \n",
       "\n",
       "        Hillshade_9am  Hillshade_Noon  Hillshade_3pm  \\\n",
       "58757             211             223            150   \n",
       "105585            226             210            114   \n",
       "52500             206             248            179   \n",
       "117580            252             211             73   \n",
       "293168            210             208            131   \n",
       "...               ...             ...            ...   \n",
       "278988            245             226            106   \n",
       "382701            235             241            133   \n",
       "51607             188             240            192   \n",
       "271724            230             228            131   \n",
       "277103            145             205            196   \n",
       "\n",
       "        Horizontal_Distance_To_Fire_Points  ...  Soil_Type_31  Soil_Type_32  \\\n",
       "58757                                 2280  ...             0             1   \n",
       "105585                                2125  ...             0             0   \n",
       "52500                                 1824  ...             0             0   \n",
       "117580                                1772  ...             0             0   \n",
       "293168                                 711  ...             0             1   \n",
       "...                                    ...  ...           ...           ...   \n",
       "278988                                6476  ...             0             0   \n",
       "382701                                1348  ...             0             0   \n",
       "51607                                 1224  ...             0             0   \n",
       "271724                                1082  ...             0             0   \n",
       "277103                                 480  ...             0             0   \n",
       "\n",
       "        Soil_Type_33  Soil_Type_34  Soil_Type_35  Soil_Type_36  Soil_Type_37  \\\n",
       "58757              0             0             0             0             0   \n",
       "105585             1             0             0             0             0   \n",
       "52500              0             0             0             0             0   \n",
       "117580             0             0             0             0             0   \n",
       "293168             0             0             0             0             0   \n",
       "...              ...           ...           ...           ...           ...   \n",
       "278988             0             0             0             0             0   \n",
       "382701             0             0             0             0             0   \n",
       "51607              0             0             0             0             0   \n",
       "271724             0             0             0             0             0   \n",
       "277103             0             0             0             0             0   \n",
       "\n",
       "        Soil_Type_38  Soil_Type_39  Soil_Type_40  \n",
       "58757              0             0             0  \n",
       "105585             0             0             0  \n",
       "52500              0             0             0  \n",
       "117580             0             0             0  \n",
       "293168             0             0             0  \n",
       "...              ...           ...           ...  \n",
       "278988             0             0             0  \n",
       "382701             0             0             0  \n",
       "51607              0             0             0  \n",
       "271724             0             0             0  \n",
       "277103             0             0             0  \n",
       "\n",
       "[284695 rows x 54 columns]"
      ],
      "text/html": "<div>\n<style scoped>\n    .dataframe tbody tr th:only-of-type {\n        vertical-align: middle;\n    }\n\n    .dataframe tbody tr th {\n        vertical-align: top;\n    }\n\n    .dataframe thead th {\n        text-align: right;\n    }\n</style>\n<table border=\"1\" class=\"dataframe\">\n  <thead>\n    <tr style=\"text-align: right;\">\n      <th></th>\n      <th>Elevation</th>\n      <th>Aspect</th>\n      <th>Slope</th>\n      <th>Horizontal_Distance_To_Hydrology</th>\n      <th>Vertical_Distance_To_Hydrology</th>\n      <th>Horizontal_Distance_To_Roadways</th>\n      <th>Hillshade_9am</th>\n      <th>Hillshade_Noon</th>\n      <th>Hillshade_3pm</th>\n      <th>Horizontal_Distance_To_Fire_Points</th>\n      <th>...</th>\n      <th>Soil_Type_31</th>\n      <th>Soil_Type_32</th>\n      <th>Soil_Type_33</th>\n      <th>Soil_Type_34</th>\n      <th>Soil_Type_35</th>\n      <th>Soil_Type_36</th>\n      <th>Soil_Type_37</th>\n      <th>Soil_Type_38</th>\n      <th>Soil_Type_39</th>\n      <th>Soil_Type_40</th>\n    </tr>\n  </thead>\n  <tbody>\n    <tr>\n      <th>58757</th>\n      <td>3122</td>\n      <td>8</td>\n      <td>8</td>\n      <td>175</td>\n      <td>3</td>\n      <td>2290</td>\n      <td>211</td>\n      <td>223</td>\n      <td>150</td>\n      <td>2280</td>\n      <td>...</td>\n      <td>0</td>\n      <td>1</td>\n      <td>0</td>\n      <td>0</td>\n      <td>0</td>\n      <td>0</td>\n      <td>0</td>\n      <td>0</td>\n      <td>0</td>\n      <td>0</td>\n    </tr>\n    <tr>\n      <th>105585</th>\n      <td>2771</td>\n      <td>52</td>\n      <td>14</td>\n      <td>210</td>\n      <td>92</td>\n      <td>1365</td>\n      <td>226</td>\n      <td>210</td>\n      <td>114</td>\n      <td>2125</td>\n      <td>...</td>\n      <td>0</td>\n      <td>0</td>\n      <td>1</td>\n      <td>0</td>\n      <td>0</td>\n      <td>0</td>\n      <td>0</td>\n      <td>0</td>\n      <td>0</td>\n      <td>0</td>\n    </tr>\n    <tr>\n      <th>52500</th>\n      <td>3091</td>\n      <td>232</td>\n      <td>9</td>\n      <td>426</td>\n      <td>48</td>\n      <td>5839</td>\n      <td>206</td>\n      <td>248</td>\n      <td>179</td>\n      <td>1824</td>\n      <td>...</td>\n      <td>0</td>\n      <td>0</td>\n      <td>0</td>\n      <td>0</td>\n      <td>0</td>\n      <td>0</td>\n      <td>0</td>\n      <td>0</td>\n      <td>0</td>\n      <td>0</td>\n    </tr>\n    <tr>\n      <th>117580</th>\n      <td>2819</td>\n      <td>118</td>\n      <td>24</td>\n      <td>134</td>\n      <td>19</td>\n      <td>3265</td>\n      <td>252</td>\n      <td>211</td>\n      <td>73</td>\n      <td>1772</td>\n      <td>...</td>\n      <td>0</td>\n      <td>0</td>\n      <td>0</td>\n      <td>0</td>\n      <td>0</td>\n      <td>0</td>\n      <td>0</td>\n      <td>0</td>\n      <td>0</td>\n      <td>0</td>\n    </tr>\n    <tr>\n      <th>293168</th>\n      <td>2989</td>\n      <td>22</td>\n      <td>15</td>\n      <td>853</td>\n      <td>191</td>\n      <td>2903</td>\n      <td>210</td>\n      <td>208</td>\n      <td>131</td>\n      <td>711</td>\n      <td>...</td>\n      <td>0</td>\n      <td>1</td>\n      <td>0</td>\n      <td>0</td>\n      <td>0</td>\n      <td>0</td>\n      <td>0</td>\n      <td>0</td>\n      <td>0</td>\n      <td>0</td>\n    </tr>\n    <tr>\n      <th>...</th>\n      <td>...</td>\n      <td>...</td>\n      <td>...</td>\n      <td>...</td>\n      <td>...</td>\n      <td>...</td>\n      <td>...</td>\n      <td>...</td>\n      <td>...</td>\n      <td>...</td>\n      <td>...</td>\n      <td>...</td>\n      <td>...</td>\n      <td>...</td>\n      <td>...</td>\n      <td>...</td>\n      <td>...</td>\n      <td>...</td>\n      <td>...</td>\n      <td>...</td>\n      <td>...</td>\n    </tr>\n    <tr>\n      <th>278988</th>\n      <td>2703</td>\n      <td>120</td>\n      <td>15</td>\n      <td>30</td>\n      <td>8</td>\n      <td>2156</td>\n      <td>245</td>\n      <td>226</td>\n      <td>106</td>\n      <td>6476</td>\n      <td>...</td>\n      <td>0</td>\n      <td>0</td>\n      <td>0</td>\n      <td>0</td>\n      <td>0</td>\n      <td>0</td>\n      <td>0</td>\n      <td>0</td>\n      <td>0</td>\n      <td>0</td>\n    </tr>\n    <tr>\n      <th>382701</th>\n      <td>3099</td>\n      <td>155</td>\n      <td>13</td>\n      <td>67</td>\n      <td>14</td>\n      <td>4781</td>\n      <td>235</td>\n      <td>241</td>\n      <td>133</td>\n      <td>1348</td>\n      <td>...</td>\n      <td>0</td>\n      <td>0</td>\n      <td>0</td>\n      <td>0</td>\n      <td>0</td>\n      <td>0</td>\n      <td>0</td>\n      <td>0</td>\n      <td>0</td>\n      <td>0</td>\n    </tr>\n    <tr>\n      <th>51607</th>\n      <td>2984</td>\n      <td>283</td>\n      <td>11</td>\n      <td>180</td>\n      <td>31</td>\n      <td>4081</td>\n      <td>188</td>\n      <td>240</td>\n      <td>192</td>\n      <td>1224</td>\n      <td>...</td>\n      <td>0</td>\n      <td>0</td>\n      <td>0</td>\n      <td>0</td>\n      <td>0</td>\n      <td>0</td>\n      <td>0</td>\n      <td>0</td>\n      <td>0</td>\n      <td>0</td>\n    </tr>\n    <tr>\n      <th>271724</th>\n      <td>3149</td>\n      <td>84</td>\n      <td>7</td>\n      <td>150</td>\n      <td>-19</td>\n      <td>1168</td>\n      <td>230</td>\n      <td>228</td>\n      <td>131</td>\n      <td>1082</td>\n      <td>...</td>\n      <td>0</td>\n      <td>0</td>\n      <td>0</td>\n      <td>0</td>\n      <td>0</td>\n      <td>0</td>\n      <td>0</td>\n      <td>0</td>\n      <td>0</td>\n      <td>0</td>\n    </tr>\n    <tr>\n      <th>277103</th>\n      <td>2269</td>\n      <td>320</td>\n      <td>26</td>\n      <td>170</td>\n      <td>111</td>\n      <td>541</td>\n      <td>145</td>\n      <td>205</td>\n      <td>196</td>\n      <td>480</td>\n      <td>...</td>\n      <td>0</td>\n      <td>0</td>\n      <td>0</td>\n      <td>0</td>\n      <td>0</td>\n      <td>0</td>\n      <td>0</td>\n      <td>0</td>\n      <td>0</td>\n      <td>0</td>\n    </tr>\n  </tbody>\n</table>\n<p>284695 rows × 54 columns</p>\n</div>"
     },
     "metadata": {},
     "execution_count": 90
    }
   ],
   "source": [
    "X_train"
   ]
  },
  {
   "cell_type": "code",
   "execution_count": 157,
   "metadata": {},
   "outputs": [],
   "source": [
    "KNN_model = train_using_knn(X_train, Y_train)\n",
    "#clf_gini = train_using_gini(X_train, Y_train)\n",
    "#clf_entropy = train_using_entropy(X_train, Y_train)"
   ]
  },
  {
   "source": [
    "###  1. Models using all features as default:\n",
    "Without any type of analysis or feature selection."
   ],
   "cell_type": "markdown",
   "metadata": {}
  },
  {
   "source": [
    "Random forest"
   ],
   "cell_type": "markdown",
   "metadata": {}
  },
  {
   "cell_type": "code",
   "execution_count": 160,
   "metadata": {},
   "outputs": [
    {
     "output_type": "stream",
     "name": "stdout",
     "text": [
      "X_test:  (122013, 54)\n",
      "Y_test:  (122013, 1)\n",
      "Predicted values: \n",
      "[1 7 3 ... 2 2 2]\n",
      "0.9537918090695254\n"
     ]
    }
   ],
   "source": [
    "# Using splited dataset\n",
    "print(\"X_test: \", X_test.shape)\n",
    "print(\"Y_test: \", Y_test.shape)\n",
    "y_knn_real = prediction(X_test, KNN_model)\n",
    "print(accuracy_score(Y_test, y_knn_real))\n"
   ]
  },
  {
   "cell_type": "code",
   "execution_count": 182,
   "metadata": {},
   "outputs": [
    {
     "output_type": "stream",
     "name": "stdout",
     "text": [
      "Predicted values: \n[5 1 2 ... 7 2 2]\nModelo final tiene dimensiones:  (174304,)\n"
     ]
    }
   ],
   "source": [
    "y_knn_real = prediction(x_testing, KNN_model)\n",
    "print(\"Modelo final tiene dimensiones: \",y_knn_real.shape)\n"
   ]
  },
  {
   "cell_type": "code",
   "execution_count": 196,
   "metadata": {},
   "outputs": [
    {
     "output_type": "execute_result",
     "data": {
      "text/plain": [
       "174304"
      ]
     },
     "metadata": {},
     "execution_count": 196
    }
   ],
   "source": [
    "len(y_knn_real)"
   ]
  },
  {
   "cell_type": "code",
   "execution_count": 197,
   "metadata": {},
   "outputs": [
    {
     "output_type": "error",
     "ename": "SyntaxError",
     "evalue": "invalid syntax (<ipython-input-197-796a89163c9e>, line 2)",
     "traceback": [
      "\u001b[1;36m  File \u001b[1;32m\"<ipython-input-197-796a89163c9e>\"\u001b[1;36m, line \u001b[1;32m2\u001b[0m\n\u001b[1;33m    labels = pd.DataFrame('id':range(len(y_knn_real)), 'Cover_type':y_knn_real,index=False)\u001b[0m\n\u001b[1;37m                              ^\u001b[0m\n\u001b[1;31mSyntaxError\u001b[0m\u001b[1;31m:\u001b[0m invalid syntax\n"
     ]
    }
   ],
   "source": [
    "labels = {'Cover_Type':y_knn_real}\n",
    "labels = pd.DataFrame('id':range(len(y_knn_real)), 'Cover_type':y_knn_real)\n",
    "print(labels)"
   ]
  },
  {
   "cell_type": "code",
   "execution_count": 192,
   "metadata": {},
   "outputs": [],
   "source": [
    "numpy.savetxt(\"Sebastian_Cajas.csv\", labels)"
   ]
  },
  {
   "cell_type": "code",
   "execution_count": 170,
   "metadata": {},
   "outputs": [
    {
     "output_type": "stream",
     "name": "stdout",
     "text": [
      "(174304, 1)\n0    int64\ndtype: object\n"
     ]
    }
   ],
   "source": [
    "import numpy\n",
    "y_knn_real = pd.DataFrame(y_knn_real)\n",
    "y_knn_real = np.around(y_knn_real)\n",
    "y_knn_real= y_knn_real.astype(numpy.int64)\n",
    "print(y_knn_real.shape)\n",
    "print(y_knn_real.dtypes)"
   ]
  },
  {
   "cell_type": "code",
   "execution_count": 173,
   "metadata": {},
   "outputs": [],
   "source": [
    "numpy.savetxt(\"Sebastian_Cajas.csv\", y_knn_real)"
   ]
  },
  {
   "source": [
    "### Cross-val K-fold"
   ],
   "cell_type": "markdown",
   "metadata": {}
  },
  {
   "cell_type": "code",
   "execution_count": 99,
   "metadata": {},
   "outputs": [
    {
     "output_type": "execute_result",
     "data": {
      "text/plain": [
       "KFold(n_splits=10, random_state=100, shuffle=False)"
      ]
     },
     "metadata": {},
     "execution_count": 99
    }
   ],
   "source": [
    "from sklearn import model_selection\n",
    "from sklearn.model_selection import KFold,cross_val_score\n",
    "kfold = model_selection.KFold(n_splits=10, random_state=100)\n",
    "kfold"
   ]
  },
  {
   "cell_type": "code",
   "execution_count": 101,
   "metadata": {},
   "outputs": [
    {
     "output_type": "stream",
     "name": "stdout",
     "text": [
      "Accuracy: 92.02%\n"
     ]
    }
   ],
   "source": [
    "results_kfold = model_selection.cross_val_score(KNN_model, X_test, Y_test, cv=kfold)\n",
    "print(\"Accuracy: %.2f%%\" % (results_kfold.mean()*100.0))"
   ]
  },
  {
   "source": [
    "### Feature selection N1"
   ],
   "cell_type": "markdown",
   "metadata": {}
  },
  {
   "cell_type": "code",
   "execution_count": 155,
   "metadata": {},
   "outputs": [
    {
     "output_type": "stream",
     "name": "stdout",
     "text": [
      "(284695, 10)\n",
      "(284695, 1)\n",
      "(122013, 10)\n",
      "(122013, 1)\n",
      "Predicted values: \n",
      "[1 7 3 ... 2 2 2]\n",
      "0.9537754173735585\n"
     ]
    }
   ],
   "source": [
    "fields = ['Elevation', 'Aspect', 'Slope', 'Horizontal_Distance_To_Hydrology', 'Vertical_Distance_To_Hydrology', 'Horizontal_Distance_To_Roadways', 'Hillshade_9am', 'Hillshade_Noon', 'Hillshade_3pm', 'Horizontal_Distance_To_Fire_Points', ]\n",
    "X_change = X_train[fields]\n",
    "x_test_change= X_test[fields]\n",
    "\n",
    "print(X_change.shape)\n",
    "print(Y_train.shape)\n",
    "print(x_test_change.shape)\n",
    "print(Y_test.shape)\n",
    "\n",
    "KNN_model = train_using_knn(X_change, Y_train)\n",
    "y_knn_real = prediction(x_test_change, KNN_model)\n",
    "print(accuracy_score(Y_test, y_knn_real))\n"
   ]
  },
  {
   "cell_type": "code",
   "execution_count": null,
   "metadata": {},
   "outputs": [],
   "source": [
    "print(\"Modelo final tiene dimensiones: \",y_knn_real.shape)"
   ]
  },
  {
   "cell_type": "code",
   "execution_count": 102,
   "metadata": {},
   "outputs": [],
   "source": [
    "import xgboost as xgb"
   ]
  },
  {
   "cell_type": "code",
   "execution_count": 105,
   "metadata": {},
   "outputs": [],
   "source": [
    "data_dmatrix = xgb.DMatrix(data=X_train,label=Y_train)\n",
    "xg_reg = xgb.XGBRegressor(objective ='reg:linear', colsample_bytree = 0.3, learning_rate = 0.1,\n",
    "                max_depth = 5, alpha = 10, n_estimators = 10)"
   ]
  },
  {
   "cell_type": "code",
   "execution_count": 117,
   "metadata": {},
   "outputs": [
    {
     "output_type": "stream",
     "name": "stdout",
     "text": [
      "[13:38:26] WARNING: C:/Users/Administrator/workspace/xgboost-win64_release_1.1.0/src/objective/regression_obj.cu:170: reg:linear is now deprecated in favor of reg:squarederror.\n",
      "[13:38:28] WARNING: C:/Users/Administrator/workspace/xgboost-win64_release_1.1.0/src/objective/regression_obj.cu:170: reg:linear is now deprecated in favor of reg:squarederror.\n",
      "(122013,)\n",
      "[1.3306417 3.0297318 2.1898408 ... 1.3960055 1.4976854 1.6263834]\n"
     ]
    }
   ],
   "source": [
    "xg_reg.fit(X_train,Y_train)\n",
    "preds = xg_reg.predict(X_test)\n",
    "print(preds.shape)\n",
    "print(preds)"
   ]
  },
  {
   "cell_type": "code",
   "execution_count": 149,
   "metadata": {},
   "outputs": [
    {
     "output_type": "stream",
     "name": "stdout",
     "text": [
      "(122013, 1)\n0    int64\ndtype: object\n"
     ]
    }
   ],
   "source": [
    "import numpy\n",
    "a = pd.DataFrame(preds)\n",
    "a = np.around(a)\n",
    "a= a.astype(numpy.int64)\n",
    "print(a.shape)\n",
    "print(a.dtypes)\n",
    "preds = a"
   ]
  },
  {
   "cell_type": "code",
   "execution_count": 151,
   "metadata": {},
   "outputs": [
    {
     "output_type": "stream",
     "name": "stdout",
     "text": [
      "(122013, 1)\n(122013, 1)\n"
     ]
    }
   ],
   "source": [
    "print(Y_test.shape)\n",
    "print(preds.shape)"
   ]
  },
  {
   "cell_type": "code",
   "execution_count": 152,
   "metadata": {},
   "outputs": [
    {
     "output_type": "stream",
     "name": "stdout",
     "text": [
      "0.44698515731930205\n"
     ]
    }
   ],
   "source": [
    "print(accuracy_score(Y_test, a))"
   ]
  },
  {
   "cell_type": "code",
   "execution_count": null,
   "metadata": {},
   "outputs": [],
   "source": []
  }
 ]
}