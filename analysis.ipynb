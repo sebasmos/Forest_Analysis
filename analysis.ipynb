{
 "metadata": {
  "language_info": {
   "codemirror_mode": {
    "name": "ipython",
    "version": 3
   },
   "file_extension": ".py",
   "mimetype": "text/x-python",
   "name": "python",
   "nbconvert_exporter": "python",
   "pygments_lexer": "ipython3",
   "version": "3.7.6-final"
  },
  "orig_nbformat": 2,
  "kernelspec": {
   "name": "python3",
   "display_name": "Python 3"
  }
 },
 "nbformat": 4,
 "nbformat_minor": 2,
 "cells": [
  {
   "cell_type": "code",
   "execution_count": 97,
   "metadata": {},
   "outputs": [],
   "source": [
    "import pandas as pd\n",
    "import numpy as np\n",
    "import copy\n",
    "import matplotlib.pyplot as plt\n",
    "from sklearn.linear_model import LinearRegression, LogisticRegression\n",
    "from sklearn.metrics import confusion_matrix\n",
    "from sklearn.model_selection import train_test_split\n",
    "from sklearn.tree   import DecisionTreeClassifier\n",
    "from sklearn.metrics import accuracy_score\n",
    "from sklearn.metrics import classification_report"
   ]
  },
  {
   "cell_type": "code",
   "execution_count": 125,
   "metadata": {},
   "outputs": [],
   "source": [
    "data_path = \"./data\"\n",
    "x_train = pd.read_csv(f'{data_path}/x_train.csv', index_col=0)\n",
    "y_train = pd.read_csv(f'{data_path}/y_train.csv', index_col=0)\n",
    "x_test = pd.read_csv(f'{data_path}/x_test.csv',index_col=0)\n",
    "y_test = pd.read_csv(f'{data_path}/y_test_baseline.csv',index_col=0)"
   ]
  },
  {
   "cell_type": "code",
   "execution_count": 126,
   "metadata": {},
   "outputs": [
    {
     "output_type": "stream",
     "name": "stdout",
     "text": [
      "x_train:  (406708, 54)\ny_train:  (406708, 1)\nx_test:  (174304, 54)\ny_test_baseline:  (174304, 1)\n"
     ]
    }
   ],
   "source": [
    "print(\"x_train: \",x_train.shape)\n",
    "print(\"y_train: \",y_train.shape)\n",
    "print(\"x_test: \",x_test.shape)\n",
    "print(\"y_test_baseline: \",y_test.shape)"
   ]
  },
  {
   "cell_type": "code",
   "execution_count": 127,
   "metadata": {},
   "outputs": [
    {
     "output_type": "execute_result",
     "data": {
      "text/plain": [
       "    Elevation  Aspect  Slope  Horizontal_Distance_To_Hydrology  \\\n",
       "id                                                               \n",
       "0        3342      15     13                               350   \n",
       "1        2764      39     13                               175   \n",
       "2        2773     158      5                               162   \n",
       "3        3083     108     16                                30   \n",
       "4        3096      40      4                               201   \n",
       "5        2990      87     12                               306   \n",
       "6        3101      43     10                               270   \n",
       "7        2894     351     11                               872   \n",
       "8        3106     158     24                               540   \n",
       "9        2921      97     12                               201   \n",
       "\n",
       "    Vertical_Distance_To_Hydrology  Horizontal_Distance_To_Roadways  \\\n",
       "id                                                                    \n",
       "0                               55                             2118   \n",
       "1                               43                             2648   \n",
       "2                               14                             2012   \n",
       "3                              -14                             2639   \n",
       "4                               38                             4592   \n",
       "5                               70                             1819   \n",
       "6                               61                             2901   \n",
       "7                              128                             2324   \n",
       "8                               29                              942   \n",
       "9                               47                             4380   \n",
       "\n",
       "    Hillshade_9am  Hillshade_Noon  Hillshade_3pm  \\\n",
       "id                                                 \n",
       "0             208             212            139   \n",
       "1             220             210            122   \n",
       "2             226             241            149   \n",
       "3             246             220             98   \n",
       "4             220             231            147   \n",
       "5             238             219            109   \n",
       "6             222             217            129   \n",
       "7             201             222            159   \n",
       "8             238             236            114   \n",
       "9             240             222            110   \n",
       "\n",
       "    Horizontal_Distance_To_Fire_Points  ...  Soil_Type_31  Soil_Type_32  \\\n",
       "id                                      ...                               \n",
       "0                                 1486  ...             1             0   \n",
       "1                                  366  ...             0             0   \n",
       "2                                  967  ...             0             0   \n",
       "3                                 1909  ...             1             0   \n",
       "4                                 2432  ...             0             0   \n",
       "5                                 1350  ...             0             1   \n",
       "6                                 5676  ...             0             0   \n",
       "7                                  895  ...             0             0   \n",
       "8                                 2343  ...             0             0   \n",
       "9                                 3341  ...             0             0   \n",
       "\n",
       "    Soil_Type_33  Soil_Type_34  Soil_Type_35  Soil_Type_36  Soil_Type_37  \\\n",
       "id                                                                         \n",
       "0              0             0             0             0             0   \n",
       "1              0             0             0             0             0   \n",
       "2              0             0             0             0             0   \n",
       "3              0             0             0             0             0   \n",
       "4              0             0             0             0             0   \n",
       "5              0             0             0             0             0   \n",
       "6              0             0             0             0             0   \n",
       "7              0             0             0             0             0   \n",
       "8              0             0             0             0             0   \n",
       "9              0             0             0             0             0   \n",
       "\n",
       "    Soil_Type_38  Soil_Type_39  Soil_Type_40  \n",
       "id                                            \n",
       "0              0             0             0  \n",
       "1              0             0             0  \n",
       "2              0             0             0  \n",
       "3              0             0             0  \n",
       "4              0             0             0  \n",
       "5              0             0             0  \n",
       "6              0             0             0  \n",
       "7              0             0             0  \n",
       "8              0             0             0  \n",
       "9              0             0             0  \n",
       "\n",
       "[10 rows x 54 columns]"
      ],
      "text/html": "<div>\n<style scoped>\n    .dataframe tbody tr th:only-of-type {\n        vertical-align: middle;\n    }\n\n    .dataframe tbody tr th {\n        vertical-align: top;\n    }\n\n    .dataframe thead th {\n        text-align: right;\n    }\n</style>\n<table border=\"1\" class=\"dataframe\">\n  <thead>\n    <tr style=\"text-align: right;\">\n      <th></th>\n      <th>Elevation</th>\n      <th>Aspect</th>\n      <th>Slope</th>\n      <th>Horizontal_Distance_To_Hydrology</th>\n      <th>Vertical_Distance_To_Hydrology</th>\n      <th>Horizontal_Distance_To_Roadways</th>\n      <th>Hillshade_9am</th>\n      <th>Hillshade_Noon</th>\n      <th>Hillshade_3pm</th>\n      <th>Horizontal_Distance_To_Fire_Points</th>\n      <th>...</th>\n      <th>Soil_Type_31</th>\n      <th>Soil_Type_32</th>\n      <th>Soil_Type_33</th>\n      <th>Soil_Type_34</th>\n      <th>Soil_Type_35</th>\n      <th>Soil_Type_36</th>\n      <th>Soil_Type_37</th>\n      <th>Soil_Type_38</th>\n      <th>Soil_Type_39</th>\n      <th>Soil_Type_40</th>\n    </tr>\n    <tr>\n      <th>id</th>\n      <th></th>\n      <th></th>\n      <th></th>\n      <th></th>\n      <th></th>\n      <th></th>\n      <th></th>\n      <th></th>\n      <th></th>\n      <th></th>\n      <th></th>\n      <th></th>\n      <th></th>\n      <th></th>\n      <th></th>\n      <th></th>\n      <th></th>\n      <th></th>\n      <th></th>\n      <th></th>\n      <th></th>\n    </tr>\n  </thead>\n  <tbody>\n    <tr>\n      <th>0</th>\n      <td>3342</td>\n      <td>15</td>\n      <td>13</td>\n      <td>350</td>\n      <td>55</td>\n      <td>2118</td>\n      <td>208</td>\n      <td>212</td>\n      <td>139</td>\n      <td>1486</td>\n      <td>...</td>\n      <td>1</td>\n      <td>0</td>\n      <td>0</td>\n      <td>0</td>\n      <td>0</td>\n      <td>0</td>\n      <td>0</td>\n      <td>0</td>\n      <td>0</td>\n      <td>0</td>\n    </tr>\n    <tr>\n      <th>1</th>\n      <td>2764</td>\n      <td>39</td>\n      <td>13</td>\n      <td>175</td>\n      <td>43</td>\n      <td>2648</td>\n      <td>220</td>\n      <td>210</td>\n      <td>122</td>\n      <td>366</td>\n      <td>...</td>\n      <td>0</td>\n      <td>0</td>\n      <td>0</td>\n      <td>0</td>\n      <td>0</td>\n      <td>0</td>\n      <td>0</td>\n      <td>0</td>\n      <td>0</td>\n      <td>0</td>\n    </tr>\n    <tr>\n      <th>2</th>\n      <td>2773</td>\n      <td>158</td>\n      <td>5</td>\n      <td>162</td>\n      <td>14</td>\n      <td>2012</td>\n      <td>226</td>\n      <td>241</td>\n      <td>149</td>\n      <td>967</td>\n      <td>...</td>\n      <td>0</td>\n      <td>0</td>\n      <td>0</td>\n      <td>0</td>\n      <td>0</td>\n      <td>0</td>\n      <td>0</td>\n      <td>0</td>\n      <td>0</td>\n      <td>0</td>\n    </tr>\n    <tr>\n      <th>3</th>\n      <td>3083</td>\n      <td>108</td>\n      <td>16</td>\n      <td>30</td>\n      <td>-14</td>\n      <td>2639</td>\n      <td>246</td>\n      <td>220</td>\n      <td>98</td>\n      <td>1909</td>\n      <td>...</td>\n      <td>1</td>\n      <td>0</td>\n      <td>0</td>\n      <td>0</td>\n      <td>0</td>\n      <td>0</td>\n      <td>0</td>\n      <td>0</td>\n      <td>0</td>\n      <td>0</td>\n    </tr>\n    <tr>\n      <th>4</th>\n      <td>3096</td>\n      <td>40</td>\n      <td>4</td>\n      <td>201</td>\n      <td>38</td>\n      <td>4592</td>\n      <td>220</td>\n      <td>231</td>\n      <td>147</td>\n      <td>2432</td>\n      <td>...</td>\n      <td>0</td>\n      <td>0</td>\n      <td>0</td>\n      <td>0</td>\n      <td>0</td>\n      <td>0</td>\n      <td>0</td>\n      <td>0</td>\n      <td>0</td>\n      <td>0</td>\n    </tr>\n    <tr>\n      <th>5</th>\n      <td>2990</td>\n      <td>87</td>\n      <td>12</td>\n      <td>306</td>\n      <td>70</td>\n      <td>1819</td>\n      <td>238</td>\n      <td>219</td>\n      <td>109</td>\n      <td>1350</td>\n      <td>...</td>\n      <td>0</td>\n      <td>1</td>\n      <td>0</td>\n      <td>0</td>\n      <td>0</td>\n      <td>0</td>\n      <td>0</td>\n      <td>0</td>\n      <td>0</td>\n      <td>0</td>\n    </tr>\n    <tr>\n      <th>6</th>\n      <td>3101</td>\n      <td>43</td>\n      <td>10</td>\n      <td>270</td>\n      <td>61</td>\n      <td>2901</td>\n      <td>222</td>\n      <td>217</td>\n      <td>129</td>\n      <td>5676</td>\n      <td>...</td>\n      <td>0</td>\n      <td>0</td>\n      <td>0</td>\n      <td>0</td>\n      <td>0</td>\n      <td>0</td>\n      <td>0</td>\n      <td>0</td>\n      <td>0</td>\n      <td>0</td>\n    </tr>\n    <tr>\n      <th>7</th>\n      <td>2894</td>\n      <td>351</td>\n      <td>11</td>\n      <td>872</td>\n      <td>128</td>\n      <td>2324</td>\n      <td>201</td>\n      <td>222</td>\n      <td>159</td>\n      <td>895</td>\n      <td>...</td>\n      <td>0</td>\n      <td>0</td>\n      <td>0</td>\n      <td>0</td>\n      <td>0</td>\n      <td>0</td>\n      <td>0</td>\n      <td>0</td>\n      <td>0</td>\n      <td>0</td>\n    </tr>\n    <tr>\n      <th>8</th>\n      <td>3106</td>\n      <td>158</td>\n      <td>24</td>\n      <td>540</td>\n      <td>29</td>\n      <td>942</td>\n      <td>238</td>\n      <td>236</td>\n      <td>114</td>\n      <td>2343</td>\n      <td>...</td>\n      <td>0</td>\n      <td>0</td>\n      <td>0</td>\n      <td>0</td>\n      <td>0</td>\n      <td>0</td>\n      <td>0</td>\n      <td>0</td>\n      <td>0</td>\n      <td>0</td>\n    </tr>\n    <tr>\n      <th>9</th>\n      <td>2921</td>\n      <td>97</td>\n      <td>12</td>\n      <td>201</td>\n      <td>47</td>\n      <td>4380</td>\n      <td>240</td>\n      <td>222</td>\n      <td>110</td>\n      <td>3341</td>\n      <td>...</td>\n      <td>0</td>\n      <td>0</td>\n      <td>0</td>\n      <td>0</td>\n      <td>0</td>\n      <td>0</td>\n      <td>0</td>\n      <td>0</td>\n      <td>0</td>\n      <td>0</td>\n    </tr>\n  </tbody>\n</table>\n<p>10 rows × 54 columns</p>\n</div>"
     },
     "metadata": {},
     "execution_count": 127
    }
   ],
   "source": [
    "x_train.head(10)"
   ]
  },
  {
   "cell_type": "code",
   "execution_count": 128,
   "metadata": {},
   "outputs": [
    {
     "output_type": "stream",
     "name": "stdout",
     "text": [
      "(406708, 54)\n"
     ]
    }
   ],
   "source": [
    "x_train[\"Elevation\"].values\n",
    "print(x_train.shape)"
   ]
  },
  {
   "source": [
    "Make a copy: "
   ],
   "cell_type": "markdown",
   "metadata": {}
  },
  {
   "cell_type": "code",
   "execution_count": 129,
   "metadata": {},
   "outputs": [],
   "source": [
    "X_train = copy.deepcopy(x_train)\n",
    "Y_train = copy.deepcopy(y_train)\n",
    "X_test = copy.deepcopy(x_test)\n",
    "Y_test = copy.deepcopy(y_test)"
   ]
  },
  {
   "cell_type": "code",
   "execution_count": 131,
   "metadata": {},
   "outputs": [
    {
     "output_type": "stream",
     "name": "stdout",
     "text": [
      "(406708, 1)\n"
     ]
    }
   ],
   "source": [
    "a = X_train.values[1:,:]\n",
    "a.shape\n",
    "print(Y_train.shape)"
   ]
  },
  {
   "source": [
    "Remove index and column names"
   ],
   "cell_type": "markdown",
   "metadata": {}
  },
  {
   "cell_type": "code",
   "execution_count": 142,
   "metadata": {},
   "outputs": [],
   "source": [
    "X_train = X_train.values[0:,:]\n",
    "Y_train = y_train.values[:,0]\n",
    "X_test = X_test.values[0:,:]\n",
    "Y_test = Y_test.values[:,0]"
   ]
  },
  {
   "cell_type": "code",
   "execution_count": 145,
   "metadata": {},
   "outputs": [
    {
     "output_type": "stream",
     "name": "stdout",
     "text": [
      "x_train:  (406708, 54)\ny_train:  (406708,)\nx_test:  (174304, 54)\ny_test_baseline:  (174304,)\n"
     ]
    }
   ],
   "source": [
    "# After performing copy with dtype = int64\n",
    "print(\"x_train: \",X_train.shape)\n",
    "print(\"y_train: \",Y_train.shape)\n",
    "print(\"x_test: \",X_test.shape)\n",
    "print(\"y_test_baseline: \",Y_test.shape)"
   ]
  },
  {
   "cell_type": "code",
   "execution_count": 148,
   "metadata": {},
   "outputs": [
    {
     "output_type": "execute_result",
     "data": {
      "text/plain": [
       "dtype('int64')"
      ]
     },
     "metadata": {},
     "execution_count": 148
    }
   ],
   "source": [
    "print(X_train.dtype)\n",
    "print(Y_train.dtype)\n",
    "print(X_test.dtype)\n",
    "print(Y_test.dtype)"
   ]
  },
  {
   "cell_type": "code",
   "execution_count": 108,
   "metadata": {},
   "outputs": [],
   "source": [
    "def train_using_gini(X_train, y_train):\n",
    "    # Gini index will prefer attributes where entropy is lower\n",
    "    # Gini Index is a metric to measure how often a randomly\n",
    "    # chosen element would be incorrectly identified.\n",
    "    # Classifier obj\n",
    "    clf_gini = DecisionTreeClassifier(criterion=\"gini\",\n",
    "        random_state=100, max_depth=3, min_samples_leaf=5)\n",
    "\n",
    "    #train\n",
    "    clf_gini.fit(X_train, y_train)\n",
    "    return clf_gini\n",
    "def train_using_entropy(X_train, y_train):\n",
    "    clf_entropy = DecisionTreeClassifier(\n",
    "        criterion=\"entropy\", random_state=100,\n",
    "        max_depth=3, min_samples_leaf=5)\n",
    "    clf_entropy.fit(X_train, y_train)\n",
    "    return clf_entropy"
   ]
  },
  {
   "cell_type": "code",
   "execution_count": 109,
   "metadata": {},
   "outputs": [],
   "source": [
    "\n",
    "def prediction(X_test, clf_object):\n",
    "    y_pred = clf_object.predict(X_test)\n",
    "    print(\"Predicted values: \")\n",
    "    print(y_pred)\n",
    "    return y_pred\n",
    "def calculate_Acc(y_test, y_pred):\n",
    "    print(\"Confusion matrix: \\n\")\n",
    "    confusion_matrix(y_test, y_pred)\n",
    "    print(\"Accuracy: \", accuracy_score(y_test,y_pred)*100)\n",
    "    print(\"Report \", classification_report(y_test, y_pred))"
   ]
  },
  {
   "cell_type": "code",
   "execution_count": null,
   "metadata": {},
   "outputs": [],
   "source": []
  },
  {
   "cell_type": "code",
   "execution_count": 87,
   "metadata": {},
   "outputs": [
    {
     "output_type": "error",
     "ename": "ValueError",
     "evalue": "Expected 2D array, got 1D array instead:\narray=[2.764e+03 3.900e+01 1.300e+01 1.750e+02 4.300e+01 2.648e+03 2.200e+02\n 2.100e+02 1.220e+02 3.660e+02 0.000e+00 0.000e+00 1.000e+00 0.000e+00\n 0.000e+00 0.000e+00 0.000e+00 0.000e+00 0.000e+00 0.000e+00 0.000e+00\n 0.000e+00 0.000e+00 1.000e+00 0.000e+00 0.000e+00 0.000e+00 0.000e+00\n 0.000e+00 0.000e+00 0.000e+00 0.000e+00 0.000e+00 0.000e+00 0.000e+00\n 0.000e+00 0.000e+00 0.000e+00 0.000e+00 0.000e+00 0.000e+00 0.000e+00\n 0.000e+00 0.000e+00 0.000e+00 0.000e+00 0.000e+00 0.000e+00 0.000e+00\n 0.000e+00 0.000e+00 0.000e+00 0.000e+00 0.000e+00].\nReshape your data either using array.reshape(-1, 1) if your data has a single feature or array.reshape(1, -1) if it contains a single sample.",
     "traceback": [
      "\u001b[1;31m---------------------------------------------------------------------------\u001b[0m",
      "\u001b[1;31mValueError\u001b[0m                                Traceback (most recent call last)",
      "\u001b[1;32m<ipython-input-87-86265796008b>\u001b[0m in \u001b[0;36m<module>\u001b[1;34m\u001b[0m\n\u001b[1;32m----> 1\u001b[1;33m \u001b[0mclf_gini\u001b[0m \u001b[1;33m=\u001b[0m \u001b[0mtrain_using_gini\u001b[0m\u001b[1;33m(\u001b[0m\u001b[0mx_train\u001b[0m\u001b[1;33m,\u001b[0m \u001b[0my_train\u001b[0m\u001b[1;33m)\u001b[0m\u001b[1;33m\u001b[0m\u001b[1;33m\u001b[0m\u001b[0m\n\u001b[0m\u001b[0;32m      2\u001b[0m \u001b[0mclf_entropy\u001b[0m \u001b[1;33m=\u001b[0m \u001b[0mtrain_using_entropy\u001b[0m\u001b[1;33m(\u001b[0m\u001b[0mx_train\u001b[0m\u001b[1;33m,\u001b[0m \u001b[0my_train\u001b[0m\u001b[1;33m)\u001b[0m\u001b[1;33m\u001b[0m\u001b[1;33m\u001b[0m\u001b[0m\n",
      "\u001b[1;32m<ipython-input-85-012d34f015e9>\u001b[0m in \u001b[0;36mtrain_using_gini\u001b[1;34m(X_train, y_train)\u001b[0m\n\u001b[0;32m      8\u001b[0m \u001b[1;33m\u001b[0m\u001b[0m\n\u001b[0;32m      9\u001b[0m     \u001b[1;31m#train\u001b[0m\u001b[1;33m\u001b[0m\u001b[1;33m\u001b[0m\u001b[1;33m\u001b[0m\u001b[0m\n\u001b[1;32m---> 10\u001b[1;33m     \u001b[0mclf_gini\u001b[0m\u001b[1;33m.\u001b[0m\u001b[0mfit\u001b[0m\u001b[1;33m(\u001b[0m\u001b[0mX_train\u001b[0m\u001b[1;33m,\u001b[0m \u001b[0my_train\u001b[0m\u001b[1;33m)\u001b[0m\u001b[1;33m\u001b[0m\u001b[1;33m\u001b[0m\u001b[0m\n\u001b[0m\u001b[0;32m     11\u001b[0m     \u001b[1;32mreturn\u001b[0m \u001b[0mclf_gini\u001b[0m\u001b[1;33m\u001b[0m\u001b[1;33m\u001b[0m\u001b[0m\n\u001b[0;32m     12\u001b[0m \u001b[1;32mdef\u001b[0m \u001b[0mtrain_using_entropy\u001b[0m\u001b[1;33m(\u001b[0m\u001b[0mX_train\u001b[0m\u001b[1;33m,\u001b[0m \u001b[0my_train\u001b[0m\u001b[1;33m)\u001b[0m\u001b[1;33m:\u001b[0m\u001b[1;33m\u001b[0m\u001b[1;33m\u001b[0m\u001b[0m\n",
      "\u001b[1;32mC:\\ProgramData\\Anaconda3\\lib\\site-packages\\sklearn\\tree\\_classes.py\u001b[0m in \u001b[0;36mfit\u001b[1;34m(self, X, y, sample_weight, check_input, X_idx_sorted)\u001b[0m\n\u001b[0;32m    892\u001b[0m             \u001b[0msample_weight\u001b[0m\u001b[1;33m=\u001b[0m\u001b[0msample_weight\u001b[0m\u001b[1;33m,\u001b[0m\u001b[1;33m\u001b[0m\u001b[1;33m\u001b[0m\u001b[0m\n\u001b[0;32m    893\u001b[0m             \u001b[0mcheck_input\u001b[0m\u001b[1;33m=\u001b[0m\u001b[0mcheck_input\u001b[0m\u001b[1;33m,\u001b[0m\u001b[1;33m\u001b[0m\u001b[1;33m\u001b[0m\u001b[0m\n\u001b[1;32m--> 894\u001b[1;33m             X_idx_sorted=X_idx_sorted)\n\u001b[0m\u001b[0;32m    895\u001b[0m         \u001b[1;32mreturn\u001b[0m \u001b[0mself\u001b[0m\u001b[1;33m\u001b[0m\u001b[1;33m\u001b[0m\u001b[0m\n\u001b[0;32m    896\u001b[0m \u001b[1;33m\u001b[0m\u001b[0m\n",
      "\u001b[1;32mC:\\ProgramData\\Anaconda3\\lib\\site-packages\\sklearn\\tree\\_classes.py\u001b[0m in \u001b[0;36mfit\u001b[1;34m(self, X, y, sample_weight, check_input, X_idx_sorted)\u001b[0m\n\u001b[0;32m    156\u001b[0m             X, y = self._validate_data(X, y,\n\u001b[0;32m    157\u001b[0m                                        validate_separately=(check_X_params,\n\u001b[1;32m--> 158\u001b[1;33m                                                             check_y_params))\n\u001b[0m\u001b[0;32m    159\u001b[0m             \u001b[1;32mif\u001b[0m \u001b[0missparse\u001b[0m\u001b[1;33m(\u001b[0m\u001b[0mX\u001b[0m\u001b[1;33m)\u001b[0m\u001b[1;33m:\u001b[0m\u001b[1;33m\u001b[0m\u001b[1;33m\u001b[0m\u001b[0m\n\u001b[0;32m    160\u001b[0m                 \u001b[0mX\u001b[0m\u001b[1;33m.\u001b[0m\u001b[0msort_indices\u001b[0m\u001b[1;33m(\u001b[0m\u001b[1;33m)\u001b[0m\u001b[1;33m\u001b[0m\u001b[1;33m\u001b[0m\u001b[0m\n",
      "\u001b[1;32mC:\\ProgramData\\Anaconda3\\lib\\site-packages\\sklearn\\base.py\u001b[0m in \u001b[0;36m_validate_data\u001b[1;34m(self, X, y, reset, validate_separately, **check_params)\u001b[0m\n\u001b[0;32m    427\u001b[0m                 \u001b[1;31m# :(\u001b[0m\u001b[1;33m\u001b[0m\u001b[1;33m\u001b[0m\u001b[1;33m\u001b[0m\u001b[0m\n\u001b[0;32m    428\u001b[0m                 \u001b[0mcheck_X_params\u001b[0m\u001b[1;33m,\u001b[0m \u001b[0mcheck_y_params\u001b[0m \u001b[1;33m=\u001b[0m \u001b[0mvalidate_separately\u001b[0m\u001b[1;33m\u001b[0m\u001b[1;33m\u001b[0m\u001b[0m\n\u001b[1;32m--> 429\u001b[1;33m                 \u001b[0mX\u001b[0m \u001b[1;33m=\u001b[0m \u001b[0mcheck_array\u001b[0m\u001b[1;33m(\u001b[0m\u001b[0mX\u001b[0m\u001b[1;33m,\u001b[0m \u001b[1;33m**\u001b[0m\u001b[0mcheck_X_params\u001b[0m\u001b[1;33m)\u001b[0m\u001b[1;33m\u001b[0m\u001b[1;33m\u001b[0m\u001b[0m\n\u001b[0m\u001b[0;32m    430\u001b[0m                 \u001b[0my\u001b[0m \u001b[1;33m=\u001b[0m \u001b[0mcheck_array\u001b[0m\u001b[1;33m(\u001b[0m\u001b[0my\u001b[0m\u001b[1;33m,\u001b[0m \u001b[1;33m**\u001b[0m\u001b[0mcheck_y_params\u001b[0m\u001b[1;33m)\u001b[0m\u001b[1;33m\u001b[0m\u001b[1;33m\u001b[0m\u001b[0m\n\u001b[0;32m    431\u001b[0m             \u001b[1;32melse\u001b[0m\u001b[1;33m:\u001b[0m\u001b[1;33m\u001b[0m\u001b[1;33m\u001b[0m\u001b[0m\n",
      "\u001b[1;32mC:\\ProgramData\\Anaconda3\\lib\\site-packages\\sklearn\\utils\\validation.py\u001b[0m in \u001b[0;36minner_f\u001b[1;34m(*args, **kwargs)\u001b[0m\n\u001b[0;32m     70\u001b[0m                           FutureWarning)\n\u001b[0;32m     71\u001b[0m         \u001b[0mkwargs\u001b[0m\u001b[1;33m.\u001b[0m\u001b[0mupdate\u001b[0m\u001b[1;33m(\u001b[0m\u001b[1;33m{\u001b[0m\u001b[0mk\u001b[0m\u001b[1;33m:\u001b[0m \u001b[0marg\u001b[0m \u001b[1;32mfor\u001b[0m \u001b[0mk\u001b[0m\u001b[1;33m,\u001b[0m \u001b[0marg\u001b[0m \u001b[1;32min\u001b[0m \u001b[0mzip\u001b[0m\u001b[1;33m(\u001b[0m\u001b[0msig\u001b[0m\u001b[1;33m.\u001b[0m\u001b[0mparameters\u001b[0m\u001b[1;33m,\u001b[0m \u001b[0margs\u001b[0m\u001b[1;33m)\u001b[0m\u001b[1;33m}\u001b[0m\u001b[1;33m)\u001b[0m\u001b[1;33m\u001b[0m\u001b[1;33m\u001b[0m\u001b[0m\n\u001b[1;32m---> 72\u001b[1;33m         \u001b[1;32mreturn\u001b[0m \u001b[0mf\u001b[0m\u001b[1;33m(\u001b[0m\u001b[1;33m**\u001b[0m\u001b[0mkwargs\u001b[0m\u001b[1;33m)\u001b[0m\u001b[1;33m\u001b[0m\u001b[1;33m\u001b[0m\u001b[0m\n\u001b[0m\u001b[0;32m     73\u001b[0m     \u001b[1;32mreturn\u001b[0m \u001b[0minner_f\u001b[0m\u001b[1;33m\u001b[0m\u001b[1;33m\u001b[0m\u001b[0m\n\u001b[0;32m     74\u001b[0m \u001b[1;33m\u001b[0m\u001b[0m\n",
      "\u001b[1;32mC:\\ProgramData\\Anaconda3\\lib\\site-packages\\sklearn\\utils\\validation.py\u001b[0m in \u001b[0;36mcheck_array\u001b[1;34m(array, accept_sparse, accept_large_sparse, dtype, order, copy, force_all_finite, ensure_2d, allow_nd, ensure_min_samples, ensure_min_features, estimator)\u001b[0m\n\u001b[0;32m    621\u001b[0m                     \u001b[1;34m\"Reshape your data either using array.reshape(-1, 1) if \"\u001b[0m\u001b[1;33m\u001b[0m\u001b[1;33m\u001b[0m\u001b[0m\n\u001b[0;32m    622\u001b[0m                     \u001b[1;34m\"your data has a single feature or array.reshape(1, -1) \"\u001b[0m\u001b[1;33m\u001b[0m\u001b[1;33m\u001b[0m\u001b[0m\n\u001b[1;32m--> 623\u001b[1;33m                     \"if it contains a single sample.\".format(array))\n\u001b[0m\u001b[0;32m    624\u001b[0m \u001b[1;33m\u001b[0m\u001b[0m\n\u001b[0;32m    625\u001b[0m         \u001b[1;31m# in the future np.flexible dtypes will be handled like object dtypes\u001b[0m\u001b[1;33m\u001b[0m\u001b[1;33m\u001b[0m\u001b[1;33m\u001b[0m\u001b[0m\n",
      "\u001b[1;31mValueError\u001b[0m: Expected 2D array, got 1D array instead:\narray=[2.764e+03 3.900e+01 1.300e+01 1.750e+02 4.300e+01 2.648e+03 2.200e+02\n 2.100e+02 1.220e+02 3.660e+02 0.000e+00 0.000e+00 1.000e+00 0.000e+00\n 0.000e+00 0.000e+00 0.000e+00 0.000e+00 0.000e+00 0.000e+00 0.000e+00\n 0.000e+00 0.000e+00 1.000e+00 0.000e+00 0.000e+00 0.000e+00 0.000e+00\n 0.000e+00 0.000e+00 0.000e+00 0.000e+00 0.000e+00 0.000e+00 0.000e+00\n 0.000e+00 0.000e+00 0.000e+00 0.000e+00 0.000e+00 0.000e+00 0.000e+00\n 0.000e+00 0.000e+00 0.000e+00 0.000e+00 0.000e+00 0.000e+00 0.000e+00\n 0.000e+00 0.000e+00 0.000e+00 0.000e+00 0.000e+00].\nReshape your data either using array.reshape(-1, 1) if your data has a single feature or array.reshape(1, -1) if it contains a single sample."
     ]
    }
   ],
   "source": [
    "clf_gini = train_using_gini(X_train, Y_train)\n",
    "clf_entropy = train_using_entropy(X_train, Y_train)"
   ]
  },
  {
   "cell_type": "code",
   "execution_count": 25,
   "metadata": {},
   "outputs": [
    {
     "output_type": "stream",
     "name": "stdout",
     "text": [
      "Results Using Gini Index:\n",
      "Predicted values: \n",
      "[2 1 2 ... 7 2 2]\n",
      "Confusion matrix: \n",
      "\n",
      "Accuracy:  48.689645676519184\n",
      "Report                precision    recall  f1-score   support\n",
      "\n",
      "           1       0.80      0.55      0.66     99239\n",
      "           2       0.17      0.88      0.28     16354\n",
      "           3       0.80      0.60      0.69     19330\n",
      "           4       0.44      0.13      0.21      3080\n",
      "           5       0.00      0.00      0.00     21728\n",
      "           6       0.00      0.00      0.00      1250\n",
      "           7       0.68      0.26      0.38     13323\n",
      "\n",
      "    accuracy                           0.49    174304\n",
      "   macro avg       0.41      0.35      0.32    174304\n",
      "weighted avg       0.62      0.49      0.51    174304\n",
      "\n",
      "Results using Entropy: \n",
      "Predicted values: \n",
      "[2 1 2 ... 1 2 2]\n",
      "Confusion matrix: \n",
      "\n",
      "Accuracy:  44.701211676152006\n",
      "Report                precision    recall  f1-score   support\n",
      "\n",
      "           1       0.77      0.55      0.64     99239\n",
      "           2       0.16      0.88      0.27     16354\n",
      "           3       0.73      0.44      0.55     19330\n",
      "           4       0.00      0.00      0.00      3080\n",
      "           5       0.00      0.00      0.00     21728\n",
      "           6       0.00      0.00      0.00      1250\n",
      "           7       0.00      0.00      0.00     13323\n",
      "\n",
      "    accuracy                           0.45    174304\n",
      "   macro avg       0.24      0.27      0.21    174304\n",
      "weighted avg       0.53      0.45      0.45    174304\n",
      "\n"
     ]
    }
   ],
   "source": [
    "# Operational Phase \n",
    "print(\"Results Using Gini Index:\") \n",
    "# Prediction using gini \n",
    "y_pred_gini = prediction(x_test.values[1:,:].astype(int), clf_gini)\n",
    "calculate_Acc(y_test_baseline.values[1:,1].astype(int), y_pred_gini)\n",
    "print(\"Results using Entropy: \")\n",
    "y_entr = prediction(x_test.values[1:,:].astype(int), clf_entropy)\n",
    "calculate_Acc(y_test_baseline.values[1:,1].astype(int), y_entr)"
   ]
  },
  {
   "cell_type": "code",
   "execution_count": null,
   "metadata": {},
   "outputs": [],
   "source": []
  }
 ]
}