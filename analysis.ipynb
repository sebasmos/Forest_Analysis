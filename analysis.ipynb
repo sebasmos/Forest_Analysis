{
 "metadata": {
  "language_info": {
   "codemirror_mode": {
    "name": "ipython",
    "version": 3
   },
   "file_extension": ".py",
   "mimetype": "text/x-python",
   "name": "python",
   "nbconvert_exporter": "python",
   "pygments_lexer": "ipython3",
   "version": "3.7.6-final"
  },
  "orig_nbformat": 2,
  "kernelspec": {
   "name": "python3",
   "display_name": "Python 3"
  }
 },
 "nbformat": 4,
 "nbformat_minor": 2,
 "cells": [
  {
   "cell_type": "code",
   "execution_count": 97,
   "metadata": {},
   "outputs": [],
   "source": [
    "import pandas as pd\n",
    "import numpy as np\n",
    "import copy\n",
    "import matplotlib.pyplot as plt\n",
    "from sklearn.linear_model import LinearRegression, LogisticRegression\n",
    "from sklearn.metrics import confusion_matrix\n",
    "from sklearn.model_selection import train_test_split\n",
    "from sklearn.tree   import DecisionTreeClassifier\n",
    "from sklearn.metrics import accuracy_score\n",
    "from sklearn.metrics import classification_report"
   ]
  },
  {
   "cell_type": "code",
   "execution_count": 125,
   "metadata": {},
   "outputs": [],
   "source": [
    "data_path = \"./data\"\n",
    "x_train = pd.read_csv(f'{data_path}/x_train.csv', index_col=0)\n",
    "y_train = pd.read_csv(f'{data_path}/y_train.csv', index_col=0)\n",
    "x_test = pd.read_csv(f'{data_path}/x_test.csv',index_col=0)\n",
    "y_test = pd.read_csv(f'{data_path}/y_test_baseline.csv',index_col=0)"
   ]
  },
  {
   "cell_type": "code",
   "execution_count": 126,
   "metadata": {},
   "outputs": [
    {
     "output_type": "stream",
     "name": "stdout",
     "text": [
      "x_train:  (406708, 54)\ny_train:  (406708, 1)\nx_test:  (174304, 54)\ny_test_baseline:  (174304, 1)\n"
     ]
    }
   ],
   "source": [
    "print(\"x_train: \",x_train.shape)\n",
    "print(\"y_train: \",y_train.shape)\n",
    "print(\"x_test: \",x_test.shape)\n",
    "print(\"y_test_baseline: \",y_test.shape)"
   ]
  },
  {
   "cell_type": "code",
   "execution_count": 155,
   "metadata": {},
   "outputs": [],
   "source": [
    "X_train = copy.deepcopy(x_train)\n",
    "Y_train = copy.deepcopy(y_train)\n",
    "X_test = copy.deepcopy(x_test)\n",
    "Y_test = copy.deepcopy(y_test)"
   ]
  },
  {
   "source": [
    "Remove index and column names"
   ],
   "cell_type": "markdown",
   "metadata": {}
  },
  {
   "cell_type": "code",
   "execution_count": 142,
   "metadata": {},
   "outputs": [],
   "source": [
    "X_train = X_train.values[0:,:]\n",
    "Y_train = y_train.values[:,0]\n",
    "X_test = X_test.values[0:,:]\n",
    "Y_test = Y_test.values[:,0]"
   ]
  },
  {
   "cell_type": "code",
   "execution_count": 145,
   "metadata": {},
   "outputs": [
    {
     "output_type": "stream",
     "name": "stdout",
     "text": [
      "x_train:  (406708, 54)\ny_train:  (406708,)\nx_test:  (174304, 54)\ny_test_baseline:  (174304,)\n"
     ]
    }
   ],
   "source": [
    "# After performing copy with dtype = int64\n",
    "print(\"x_train: \",X_train.shape)\n",
    "print(\"y_train: \",Y_train.shape)\n",
    "print(\"x_test: \",X_test.shape)\n",
    "print(\"y_test_baseline: \",Y_test.shape)"
   ]
  },
  {
   "source": [
    "Verify all have the same format"
   ],
   "cell_type": "markdown",
   "metadata": {}
  },
  {
   "cell_type": "code",
   "execution_count": 149,
   "metadata": {},
   "outputs": [
    {
     "output_type": "stream",
     "name": "stdout",
     "text": [
      "int64\nint64\nint64\nint64\n"
     ]
    }
   ],
   "source": [
    "print(X_train.dtype)\n",
    "print(Y_train.dtype)\n",
    "print(X_test.dtype)\n",
    "print(Y_test.dtype)"
   ]
  },
  {
   "source": [
    "#### Models"
   ],
   "cell_type": "markdown",
   "metadata": {}
  },
  {
   "cell_type": "code",
   "execution_count": 150,
   "metadata": {},
   "outputs": [],
   "source": [
    "def train_using_gini(X_train, y_train):\n",
    "    # Gini index will prefer attributes where entropy is lower\n",
    "    # Gini Index is a metric to measure how often a randomly\n",
    "    # chosen element would be incorrectly identified.\n",
    "    # Classifier obj\n",
    "    clf_gini = DecisionTreeClassifier(criterion=\"gini\",\n",
    "        random_state=100, max_depth=3, min_samples_leaf=5)\n",
    "\n",
    "    #train\n",
    "    clf_gini.fit(X_train, y_train)\n",
    "    return clf_gini\n",
    "def train_using_entropy(X_train, y_train):\n",
    "    clf_entropy = DecisionTreeClassifier(\n",
    "        criterion=\"entropy\", random_state=100,\n",
    "        max_depth=3, min_samples_leaf=5)\n",
    "    clf_entropy.fit(X_train, y_train)\n",
    "    return clf_entropy"
   ]
  },
  {
   "cell_type": "code",
   "execution_count": 151,
   "metadata": {},
   "outputs": [],
   "source": [
    "\n",
    "def prediction(X_test, clf_object):\n",
    "    y_pred = clf_object.predict(X_test)\n",
    "    print(\"Predicted values: \")\n",
    "    print(y_pred)\n",
    "    return y_pred\n",
    "def calculate_Acc(y_test, y_pred):\n",
    "    print(\"Confusion matrix: \\n\")\n",
    "    confusion_matrix(y_test, y_pred)\n",
    "    print(\"Accuracy: \", accuracy_score(y_test,y_pred)*100)\n",
    "    print(\"Report \", classification_report(y_test, y_pred))"
   ]
  },
  {
   "cell_type": "code",
   "execution_count": 152,
   "metadata": {},
   "outputs": [],
   "source": [
    "clf_gini = train_using_gini(X_train, Y_train)\n",
    "clf_entropy = train_using_entropy(X_train, Y_train)"
   ]
  },
  {
   "source": [
    "###  1. Models using all features as default:\n",
    "Without any type of analysis or feature selection."
   ],
   "cell_type": "markdown",
   "metadata": {}
  },
  {
   "cell_type": "code",
   "execution_count": 154,
   "metadata": {},
   "outputs": [
    {
     "output_type": "stream",
     "name": "stdout",
     "text": [
      "Results Using Gini Index:\n",
      "Predicted values: \n",
      "[2 1 2 ... 7 2 2]\n",
      "Confusion matrix: \n",
      "\n",
      "Accuracy:  48.689645676519184\n",
      "Report                precision    recall  f1-score   support\n",
      "\n",
      "           1       0.80      0.55      0.66     99239\n",
      "           2       0.17      0.88      0.28     16354\n",
      "           3       0.80      0.60      0.69     19330\n",
      "           4       0.44      0.13      0.21      3080\n",
      "           5       0.00      0.00      0.00     21728\n",
      "           6       0.00      0.00      0.00      1250\n",
      "           7       0.68      0.26      0.38     13323\n",
      "\n",
      "    accuracy                           0.49    174304\n",
      "   macro avg       0.41      0.35      0.32    174304\n",
      "weighted avg       0.62      0.49      0.51    174304\n",
      "\n",
      "Results using Entropy: \n",
      "Predicted values: \n",
      "[2 1 2 ... 1 2 2]\n",
      "Confusion matrix: \n",
      "\n",
      "Accuracy:  44.701211676152006\n",
      "Report                precision    recall  f1-score   support\n",
      "\n",
      "           1       0.77      0.55      0.64     99239\n",
      "           2       0.16      0.88      0.27     16354\n",
      "           3       0.73      0.44      0.55     19330\n",
      "           4       0.00      0.00      0.00      3080\n",
      "           5       0.00      0.00      0.00     21728\n",
      "           6       0.00      0.00      0.00      1250\n",
      "           7       0.00      0.00      0.00     13323\n",
      "\n",
      "    accuracy                           0.45    174304\n",
      "   macro avg       0.24      0.27      0.21    174304\n",
      "weighted avg       0.53      0.45      0.45    174304\n",
      "\n"
     ]
    }
   ],
   "source": [
    "# Operational Phase \n",
    "print(\"Results Using Gini Index:\") \n",
    "# Prediction using gini \n",
    "y_pred_gini = prediction(X_test, clf_gini)\n",
    "calculate_Acc(Y_test, y_pred_gini)\n",
    "print(\"Results using Entropy: \")\n",
    "y_entr = prediction(X_test, clf_entropy)\n",
    "calculate_Acc(Y_test, y_entr)"
   ]
  },
  {
   "source": [
    "# 2. Stacking Scikit-Learn API"
   ],
   "cell_type": "markdown",
   "metadata": {}
  },
  {
   "source": [
    "# Checking  scikit-learn version\n",
    "import sklearn\n",
    "print(sklearn.__version__)"
   ],
   "cell_type": "code",
   "metadata": {},
   "execution_count": null,
   "outputs": []
  }
 ]
}