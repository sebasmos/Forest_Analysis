{
 "metadata": {
  "language_info": {
   "codemirror_mode": {
    "name": "ipython",
    "version": 3
   },
   "file_extension": ".py",
   "mimetype": "text/x-python",
   "name": "python",
   "nbconvert_exporter": "python",
   "pygments_lexer": "ipython3",
   "version": "3.7.6-final"
  },
  "orig_nbformat": 2,
  "kernelspec": {
   "name": "python37664bitbaseconda91809b139dd24b97ab06595f752137a3",
   "display_name": "Python 3.7.6 64-bit ('base': conda)"
  }
 },
 "nbformat": 4,
 "nbformat_minor": 2,
 "cells": [
  {
   "cell_type": "code",
   "execution_count": 1,
   "metadata": {},
   "outputs": [],
   "source": [
    "import pandas as pd\n",
    "import numpy as np\n",
    "import copy\n",
    "import matplotlib.pyplot as plt\n",
    "from sklearn.linear_model import LinearRegression, LogisticRegression\n",
    "from sklearn.metrics import confusion_matrix\n",
    "from sklearn.model_selection import train_test_split\n",
    "from sklearn.tree   import DecisionTreeClassifier\n",
    "from sklearn.metrics import accuracy_score\n",
    "from sklearn.metrics import classification_report\n",
    "from sklearn.model_selection import GridSearchCV\n",
    "# Random forest\n",
    "from sklearn.ensemble import RandomForestClassifier\n",
    "\n",
    "from sklearn.model_selection import train_test_split\n",
    "# compare standalone models for binary classification\n",
    "from numpy import mean\n",
    "from numpy import std\n",
    "from sklearn.datasets import make_classification\n",
    "from sklearn.model_selection import cross_val_score\n",
    "from sklearn.model_selection import RepeatedStratifiedKFold\n",
    "from sklearn.linear_model import LogisticRegression\n",
    "from sklearn.neighbors import KNeighborsClassifier\n",
    "from sklearn.tree import DecisionTreeClassifier\n",
    "from sklearn.svm import SVC\n",
    "from sklearn.naive_bayes import GaussianNB\n",
    "from matplotlib import pyplot\n",
    "from sklearn.ensemble import StackingClassifier\n",
    "# TensorFlow and tf.keras\n",
    "import tensorflow as tf\n",
    "from tensorflow import keras\n",
    "from keras.models import Sequential\n",
    "from keras.layers import Conv1D, LSTM, Dense, Dropout, TimeDistributed, Flatten\n",
    "from keras.optimizers import Adam\n",
    "import keras\n",
    "# Cross-validation\n",
    "from keras.wrappers.scikit_learn import KerasClassifier\n",
    "from sklearn.model_selection import StratifiedKFold\n",
    "from sklearn.model_selection import cross_val_score"
   ]
  },
  {
   "cell_type": "code",
   "execution_count": 57,
   "metadata": {},
   "outputs": [],
   "source": [
    "# Data transformed\n",
    "data_path = \"./data\"\n",
    "X = pd.read_csv(f'{data_path}/X_cleaned.csv',sep='|')\n",
    "y = pd.read_csv(f'{data_path}/y_cleaned.csv',sep='|')\n",
    "x_testing = pd.read_csv(f'{data_path}/X_testing.csv',sep='|')\n",
    "# Original Data\n",
    "X_o = pd.read_csv(f'{data_path}/X_original_fixed.csv',sep='|')\n",
    "y_o = pd.read_csv(f'{data_path}/y_original_fixed.csv',sep='|')\n",
    "x_testing_o = pd.read_csv(f'{data_path}/X_testing_original_fixed.csv',sep='|')"
   ]
  },
  {
   "cell_type": "code",
   "execution_count": 32,
   "metadata": {},
   "outputs": [
    {
     "output_type": "execute_result",
     "data": {
      "text/plain": [
       "        Elevation  Aspect  Slope  Horizontal_Distance_To_Hydrology  \\\n",
       "0            3342      15     13                               350   \n",
       "1            2764      39     13                               175   \n",
       "2            2773     158      5                               162   \n",
       "3            3083     108     16                                30   \n",
       "4            3096      40      4                               201   \n",
       "...           ...     ...    ...                               ...   \n",
       "406703       3066     133     10                               170   \n",
       "406704       2308      37     31                               162   \n",
       "406705       2715      73     32                               342   \n",
       "406706       3020     179     13                               170   \n",
       "406707       3368     191      5                               162   \n",
       "\n",
       "        Vertical_Distance_To_Hydrology  Horizontal_Distance_To_Roadways  \\\n",
       "0                                   55                             2118   \n",
       "1                                   43                             2648   \n",
       "2                                   14                             2012   \n",
       "3                                  -14                             2639   \n",
       "4                                   38                             4592   \n",
       "...                                ...                              ...   \n",
       "406703                              30                             1455   \n",
       "406704                              38                              616   \n",
       "406705                             188                             1027   \n",
       "406706                              19                             1471   \n",
       "406707                               2                             2639   \n",
       "\n",
       "        Hillshade_9am  Hillshade_Noon  Hillshade_3pm  \\\n",
       "0                 208             212            139   \n",
       "1                 220             210            122   \n",
       "2                 226             241            149   \n",
       "3                 246             220             98   \n",
       "4                 220             231            147   \n",
       "...               ...             ...            ...   \n",
       "406703            237             235            128   \n",
       "406704            202             156             71   \n",
       "406705            237             162             31   \n",
       "406706            225             247            152   \n",
       "406707            220             244            160   \n",
       "\n",
       "        Horizontal_Distance_To_Fire_Points  Wilderness_area  Soil_type  \n",
       "0                                     1486               12        100  \n",
       "1                                      366               12         58  \n",
       "2                                      967               10         60  \n",
       "3                                     1909               12        100  \n",
       "4                                     2432               10         94  \n",
       "...                                    ...              ...        ...  \n",
       "406703                                2624               10         94  \n",
       "406704                                 895               13         59  \n",
       "406705                                 953               12        104  \n",
       "406706                                 450               12         64  \n",
       "406707                                 547               12        114  \n",
       "\n",
       "[406708 rows x 12 columns]"
      ],
      "text/html": "<div>\n<style scoped>\n    .dataframe tbody tr th:only-of-type {\n        vertical-align: middle;\n    }\n\n    .dataframe tbody tr th {\n        vertical-align: top;\n    }\n\n    .dataframe thead th {\n        text-align: right;\n    }\n</style>\n<table border=\"1\" class=\"dataframe\">\n  <thead>\n    <tr style=\"text-align: right;\">\n      <th></th>\n      <th>Elevation</th>\n      <th>Aspect</th>\n      <th>Slope</th>\n      <th>Horizontal_Distance_To_Hydrology</th>\n      <th>Vertical_Distance_To_Hydrology</th>\n      <th>Horizontal_Distance_To_Roadways</th>\n      <th>Hillshade_9am</th>\n      <th>Hillshade_Noon</th>\n      <th>Hillshade_3pm</th>\n      <th>Horizontal_Distance_To_Fire_Points</th>\n      <th>Wilderness_area</th>\n      <th>Soil_type</th>\n    </tr>\n  </thead>\n  <tbody>\n    <tr>\n      <th>0</th>\n      <td>3342</td>\n      <td>15</td>\n      <td>13</td>\n      <td>350</td>\n      <td>55</td>\n      <td>2118</td>\n      <td>208</td>\n      <td>212</td>\n      <td>139</td>\n      <td>1486</td>\n      <td>12</td>\n      <td>100</td>\n    </tr>\n    <tr>\n      <th>1</th>\n      <td>2764</td>\n      <td>39</td>\n      <td>13</td>\n      <td>175</td>\n      <td>43</td>\n      <td>2648</td>\n      <td>220</td>\n      <td>210</td>\n      <td>122</td>\n      <td>366</td>\n      <td>12</td>\n      <td>58</td>\n    </tr>\n    <tr>\n      <th>2</th>\n      <td>2773</td>\n      <td>158</td>\n      <td>5</td>\n      <td>162</td>\n      <td>14</td>\n      <td>2012</td>\n      <td>226</td>\n      <td>241</td>\n      <td>149</td>\n      <td>967</td>\n      <td>10</td>\n      <td>60</td>\n    </tr>\n    <tr>\n      <th>3</th>\n      <td>3083</td>\n      <td>108</td>\n      <td>16</td>\n      <td>30</td>\n      <td>-14</td>\n      <td>2639</td>\n      <td>246</td>\n      <td>220</td>\n      <td>98</td>\n      <td>1909</td>\n      <td>12</td>\n      <td>100</td>\n    </tr>\n    <tr>\n      <th>4</th>\n      <td>3096</td>\n      <td>40</td>\n      <td>4</td>\n      <td>201</td>\n      <td>38</td>\n      <td>4592</td>\n      <td>220</td>\n      <td>231</td>\n      <td>147</td>\n      <td>2432</td>\n      <td>10</td>\n      <td>94</td>\n    </tr>\n    <tr>\n      <th>...</th>\n      <td>...</td>\n      <td>...</td>\n      <td>...</td>\n      <td>...</td>\n      <td>...</td>\n      <td>...</td>\n      <td>...</td>\n      <td>...</td>\n      <td>...</td>\n      <td>...</td>\n      <td>...</td>\n      <td>...</td>\n    </tr>\n    <tr>\n      <th>406703</th>\n      <td>3066</td>\n      <td>133</td>\n      <td>10</td>\n      <td>170</td>\n      <td>30</td>\n      <td>1455</td>\n      <td>237</td>\n      <td>235</td>\n      <td>128</td>\n      <td>2624</td>\n      <td>10</td>\n      <td>94</td>\n    </tr>\n    <tr>\n      <th>406704</th>\n      <td>2308</td>\n      <td>37</td>\n      <td>31</td>\n      <td>162</td>\n      <td>38</td>\n      <td>616</td>\n      <td>202</td>\n      <td>156</td>\n      <td>71</td>\n      <td>895</td>\n      <td>13</td>\n      <td>59</td>\n    </tr>\n    <tr>\n      <th>406705</th>\n      <td>2715</td>\n      <td>73</td>\n      <td>32</td>\n      <td>342</td>\n      <td>188</td>\n      <td>1027</td>\n      <td>237</td>\n      <td>162</td>\n      <td>31</td>\n      <td>953</td>\n      <td>12</td>\n      <td>104</td>\n    </tr>\n    <tr>\n      <th>406706</th>\n      <td>3020</td>\n      <td>179</td>\n      <td>13</td>\n      <td>170</td>\n      <td>19</td>\n      <td>1471</td>\n      <td>225</td>\n      <td>247</td>\n      <td>152</td>\n      <td>450</td>\n      <td>12</td>\n      <td>64</td>\n    </tr>\n    <tr>\n      <th>406707</th>\n      <td>3368</td>\n      <td>191</td>\n      <td>5</td>\n      <td>162</td>\n      <td>2</td>\n      <td>2639</td>\n      <td>220</td>\n      <td>244</td>\n      <td>160</td>\n      <td>547</td>\n      <td>12</td>\n      <td>114</td>\n    </tr>\n  </tbody>\n</table>\n<p>406708 rows × 12 columns</p>\n</div>"
     },
     "metadata": {},
     "execution_count": 32
    }
   ],
   "source": [
    "X"
   ]
  },
  {
   "cell_type": "code",
   "execution_count": 33,
   "metadata": {},
   "outputs": [
    {
     "output_type": "stream",
     "name": "stdout",
     "text": [
      "(406708, 12)\n(406708, 1)\n"
     ]
    }
   ],
   "source": [
    "print(X.shape)\n",
    "print(y.shape)"
   ]
  },
  {
   "cell_type": "code",
   "execution_count": 34,
   "metadata": {},
   "outputs": [],
   "source": [
    "#X = X.drop(columns=[\"id\"],inplace=True)\n",
    "#y = y.drop(columns=[\"id\"],inplace=True)"
   ]
  },
  {
   "cell_type": "code",
   "execution_count": 35,
   "metadata": {},
   "outputs": [],
   "source": [
    "x_train, x_test, y_train, y_test = train_test_split(X, y, test_size = 0.30, random_state = 10, stratify=y['Cover_Type'])\n",
    "\n"
   ]
  },
  {
   "cell_type": "code",
   "execution_count": 36,
   "metadata": {},
   "outputs": [
    {
     "output_type": "stream",
     "name": "stdout",
     "text": [
      "x_train:  (284695, 12)\ny_train:  (284695, 1)\nx_test:  (122013, 12)\ny_test:  (122013, 1)\nx_testing:  (174304, 12)\n"
     ]
    }
   ],
   "source": [
    "# For creating the models\n",
    "print(\"x_train: \",x_train.shape)\n",
    "print(\"y_train: \",y_train.shape)\n",
    "print(\"x_test: \",x_test.shape)\n",
    "print(\"y_test: \",y_test.shape)\n",
    "print(\"x_testing: \",x_testing.shape)"
   ]
  },
  {
   "cell_type": "code",
   "execution_count": 37,
   "metadata": {},
   "outputs": [],
   "source": [
    "X_train = copy.deepcopy(x_train)\n",
    "Y_train = copy.deepcopy(y_train)\n",
    "X_test = copy.deepcopy(x_test)\n",
    "Y_test = copy.deepcopy(y_test)\n",
    "X_testing = copy.deepcopy(x_testing)"
   ]
  },
  {
   "cell_type": "code",
   "execution_count": 38,
   "metadata": {},
   "outputs": [
    {
     "output_type": "stream",
     "name": "stdout",
     "text": [
      "x_train:  (284695, 12)\ny_train:  (284695, 1)\nx_test:  (122013, 12)\ny_test:  (122013, 1)\nx_testing:  (174304, 12)\n"
     ]
    }
   ],
   "source": [
    "# After performing copy with dtype = int64\n",
    "print(\"x_train: \",X_train.shape)\n",
    "print(\"y_train: \",Y_train.shape)\n",
    "print(\"x_test: \",X_test.shape)\n",
    "print(\"y_test: \",Y_test.shape)\n",
    "print(\"x_testing: \",X_testing.shape)"
   ]
  },
  {
   "source": [
    "#### Models"
   ],
   "cell_type": "markdown",
   "metadata": {}
  },
  {
   "cell_type": "code",
   "execution_count": 39,
   "metadata": {},
   "outputs": [],
   "source": [
    "def train_using_knn(X_train, y_train,i):\n",
    "    knn_model = KNeighborsClassifier(n_neighbors=i,leaf_size=1,p=1)\n",
    "    knn_model.fit(X_train, y_train)\n",
    "    return knn_model"
   ]
  },
  {
   "cell_type": "code",
   "execution_count": 40,
   "metadata": {},
   "outputs": [],
   "source": [
    "def prediction(X_test, clf_object):\n",
    "    y_pred = clf_object.predict(X_test)\n",
    "    print(\"Predicted values: \")\n",
    "    print(y_pred)\n",
    "    return y_pred\n",
    "def calculate_Acc(y_test, y_pred):\n",
    "    print(\"Confusion matrix: \\n\")\n",
    "    confusion_matrix(y_test, y_pred)\n",
    "    print(\"Accuracy: \", accuracy_score(y_test,y_pred)*100)\n",
    "    print(\"Report \", classification_report(y_test, y_pred))"
   ]
  },
  {
   "cell_type": "code",
   "execution_count": 41,
   "metadata": {},
   "outputs": [],
   "source": [
    "KNN_model = train_using_knn(X_train, Y_train,3)\n",
    "#clf_gini = train_using_gini(X_train, Y_train)\n",
    "#clf_entropy = train_using_entropy(X_train, Y_train)"
   ]
  },
  {
   "source": [
    "###  1. Models using all features as default:\n",
    "Without any type of analysis or feature selection."
   ],
   "cell_type": "markdown",
   "metadata": {}
  },
  {
   "source": [
    "KNN"
   ],
   "cell_type": "markdown",
   "metadata": {}
  },
  {
   "cell_type": "code",
   "execution_count": 42,
   "metadata": {},
   "outputs": [
    {
     "output_type": "execute_result",
     "data": {
      "text/plain": [
       "(122013,)"
      ]
     },
     "metadata": {},
     "execution_count": 42
    }
   ],
   "source": [
    "a = Y_test.values.ravel()\n",
    "a.shape"
   ]
  },
  {
   "cell_type": "code",
   "execution_count": 43,
   "metadata": {},
   "outputs": [
    {
     "output_type": "stream",
     "name": "stdout",
     "text": [
      "X_test:  (122013, 12)\n",
      "Y_test:  (122013, 1)\n",
      "Predicted values: \n",
      "[1 7 3 ... 2 2 2]\n",
      "0.9625777581077426\n"
     ]
    }
   ],
   "source": [
    "# Using splited dataset\n",
    "print(\"X_test: \", X_test.shape)\n",
    "print(\"Y_test: \", Y_test.shape)\n",
    "y_knn_real = prediction(X_test, KNN_model)\n",
    "print(accuracy_score(Y_test, y_knn_real))"
   ]
  },
  {
   "source": [
    "#Testing with different number of neighborrs\n",
    "for i in range(20):\n",
    "    KNN_model = train_using_knn(X_train, Y_train,i+1)\n",
    "    y_pred = KNN_model.predict(X_test)\n",
    "    print(\"neighbors: \",i+1,\" acc: \",accuracy_score(Y_test, y_pred))"
   ],
   "cell_type": "markdown",
   "metadata": {}
  },
  {
   "source": [
    "From the above section, we obtained the best results when neighbors=3"
   ],
   "cell_type": "markdown",
   "metadata": {}
  },
  {
   "cell_type": "code",
   "execution_count": 46,
   "metadata": {},
   "outputs": [
    {
     "output_type": "stream",
     "name": "stdout",
     "text": [
      "              precision    recall  f1-score   support\n\n           1       0.96      0.96      0.96     44487\n           2       0.97      0.97      0.97     59493\n           3       0.95      0.96      0.96      7508\n           4       0.91      0.82      0.86       577\n           5       0.90      0.87      0.88      1994\n           6       0.93      0.93      0.93      3647\n           7       0.96      0.96      0.96      4307\n\n    accuracy                           0.96    122013\n   macro avg       0.94      0.92      0.93    122013\nweighted avg       0.96      0.96      0.96    122013\n\n"
     ]
    }
   ],
   "source": [
    "# Show params\n",
    "print(classification_report(Y_test, y_knn_real))\n",
    "#roc_auc_score(Y_test,y_pred)"
   ]
  },
  {
   "cell_type": "code",
   "execution_count": 47,
   "metadata": {},
   "outputs": [
    {
     "output_type": "execute_result",
     "data": {
      "text/plain": [
       "(174304,)"
      ]
     },
     "metadata": {},
     "execution_count": 47
    }
   ],
   "source": [
    "y_pred = KNN_model.predict(x_testing)\n",
    "y_pred.shape"
   ]
  },
  {
   "source": [
    "Store to Kaggle CSV format"
   ],
   "cell_type": "markdown",
   "metadata": {}
  },
  {
   "cell_type": "code",
   "execution_count": 67,
   "metadata": {},
   "outputs": [
    {
     "output_type": "stream",
     "name": "stdout",
     "text": [
      "            id  Cover_type\n0            0           1\n1            1           2\n2            2           2\n3            3           1\n4            4           1\n...        ...         ...\n406703  406703           2\n406704  406704           6\n406705  406705           2\n406706  406706           2\n406707  406707           7\n\n[406708 rows x 2 columns]\n"
     ]
    }
   ],
   "source": [
    "import numpy\n",
    "column_names ={'id': range(len(y_pred)),\n",
    " 'Cover_type':y_pred}\n",
    "\n",
    "labels = pd.DataFrame(column_names)\n",
    "\n",
    "labels.to_csv(\"Sebastian_Cajas.csv\", sep=\",\",index=False)\n",
    "print(labels)"
   ]
  },
  {
   "source": [
    "### Cross-val K-fold"
   ],
   "cell_type": "markdown",
   "metadata": {}
  },
  {
   "cell_type": "code",
   "execution_count": 48,
   "metadata": {},
   "outputs": [
    {
     "output_type": "execute_result",
     "data": {
      "text/plain": [
       "KFold(n_splits=10, random_state=100, shuffle=True)"
      ]
     },
     "metadata": {},
     "execution_count": 48
    }
   ],
   "source": [
    "from sklearn import model_selection\n",
    "from sklearn.model_selection import KFold,cross_val_score\n",
    "kfold = model_selection.KFold(n_splits=10, random_state=100,shuffle=True)\n",
    "kfold"
   ]
  },
  {
   "cell_type": "code",
   "execution_count": 58,
   "metadata": {},
   "outputs": [],
   "source": [
    "KNN_model = train_using_knn(X_o, y_o,3)"
   ]
  },
  {
   "cell_type": "code",
   "execution_count": null,
   "metadata": {},
   "outputs": [],
   "source": [
    "#List Hyperparameters that we want to tune.\n",
    "leaf_size = list(range(1,50))\n",
    "n_neighbors = list(range(1,30))\n",
    "p=[1,2]\n",
    "#Convert to dictionary\n",
    "hyperparameters = dict(leaf_size=leaf_size, n_neighbors=n_neighbors, p=p)\n",
    "#Use GridSearch\n",
    "clf = GridSearchCV(KNN_model, hyperparameters, cv=10)\n",
    "#Fit the model\n",
    "best_model = clf.fit(X_o,y_o)"
   ]
  },
  {
   "cell_type": "code",
   "execution_count": 60,
   "metadata": {},
   "outputs": [
    {
     "output_type": "stream",
     "name": "stdout",
     "text": [
      "Accuracy: 96.91%\n"
     ]
    }
   ],
   "source": [
    "results_kfold = model_selection.cross_val_score(KNN_model, X_o, y_o, cv=kfold)\n",
    "print(\"Accuracy: %.2f%%\" % (results_kfold.mean()*100.0))"
   ]
  },
  {
   "cell_type": "code",
   "execution_count": 66,
   "metadata": {},
   "outputs": [
    {
     "output_type": "stream",
     "name": "stdout",
     "text": [
      "Accuracy: 0.97 (+/- 0.00)\n"
     ]
    }
   ],
   "source": [
    "from sklearn.model_selection import cross_val_score\n",
    "scores = cross_val_score(KNN_model, X, y, cv=10)\n",
    "print(\"Accuracy: %0.2f (+/- %0.2f)\" % (scores.mean(), scores.std() * 2))"
   ]
  },
  {
   "cell_type": "code",
   "execution_count": 64,
   "metadata": {},
   "outputs": [
    {
     "output_type": "execute_result",
     "data": {
      "text/plain": [
       "(174304,)"
      ]
     },
     "metadata": {},
     "execution_count": 64
    }
   ],
   "source": [
    "y_pred = KNN_model.predict(x_testing_o)\n",
    "y_pred.shape "
   ]
  },
  {
   "cell_type": "code",
   "execution_count": 65,
   "metadata": {},
   "outputs": [
    {
     "output_type": "stream",
     "name": "stdout",
     "text": [
      "            id  Cover_type\n0            0           5\n1            1           1\n2            2           2\n3            3           2\n4            4           1\n...        ...         ...\n174299  174299           1\n174300  174300           2\n174301  174301           7\n174302  174302           2\n174303  174303           2\n\n[174304 rows x 2 columns]\n"
     ]
    }
   ],
   "source": [
    "column_names ={'id': range(len(y_pred)),\n",
    " 'Cover_type':y_pred}\n",
    "\n",
    "labels = pd.DataFrame(column_names)\n",
    "\n",
    "labels.to_csv(\"Sebastian_Cajas.csv\", sep=\",\",index=False)\n",
    "print(labels)"
   ]
  },
  {
   "source": [
    "### Feature selection N1"
   ],
   "cell_type": "markdown",
   "metadata": {}
  },
  {
   "cell_type": "code",
   "execution_count": 69,
   "metadata": {},
   "outputs": [
    {
     "output_type": "stream",
     "name": "stdout",
     "text": [
      "(284695, 10)\n",
      "(284695, 1)\n",
      "(122013, 10)\n",
      "(122013, 1)\n",
      "Predicted values: \n",
      "[1 7 3 ... 2 2 2]\n",
      "0.9608074549433258\n"
     ]
    }
   ],
   "source": [
    "fields = ['Elevation', 'Aspect', 'Slope', 'Horizontal_Distance_To_Hydrology', 'Vertical_Distance_To_Hydrology', 'Horizontal_Distance_To_Roadways', 'Hillshade_9am', 'Hillshade_Noon', 'Hillshade_3pm', 'Horizontal_Distance_To_Fire_Points']\n",
    "X_change = X_train[fields]\n",
    "x_test_change= X_test[fields]\n",
    "\n",
    "print(X_change.shape)\n",
    "print(Y_train.shape)\n",
    "print(x_test_change.shape)\n",
    "print(Y_test.shape)\n",
    "\n",
    "KNN_model = train_using_knn(X_change, Y_train,3)\n",
    "y_knn_real = prediction(x_test_change, KNN_model)\n",
    "print(accuracy_score(Y_test, y_knn_real))\n"
   ]
  },
  {
   "cell_type": "code",
   "execution_count": 38,
   "metadata": {},
   "outputs": [
    {
     "output_type": "stream",
     "name": "stdout",
     "text": [
      "Modelo final tiene dimensiones:  (122013,)\n"
     ]
    }
   ],
   "source": [
    "print(\"Modelo final tiene dimensiones: \",y_knn_real.shape)"
   ]
  },
  {
   "cell_type": "code",
   "execution_count": 69,
   "metadata": {},
   "outputs": [],
   "source": [
    "import xgboost as xgb"
   ]
  },
  {
   "cell_type": "code",
   "execution_count": 80,
   "metadata": {},
   "outputs": [
    {
     "output_type": "error",
     "ename": "SyntaxError",
     "evalue": "invalid syntax (<ipython-input-80-f8372ab4d859>, line 5)",
     "traceback": [
      "\u001b[1;36m  File \u001b[1;32m\"<ipython-input-80-f8372ab4d859>\"\u001b[1;36m, line \u001b[1;32m5\u001b[0m\n\u001b[1;33m    learning_rate =0.1,\u001b[0m\n\u001b[1;37m                  ^\u001b[0m\n\u001b[1;31mSyntaxError\u001b[0m\u001b[1;31m:\u001b[0m invalid syntax\n"
     ]
    }
   ],
   "source": [
    "import xgboost as xgb\n",
    "from xgboost import XGBClassifier\n",
    "print('> Training XGBoost classifier...')\n",
    "params={\n",
    "            'reg_alpha': 23, \n",
    "            'max_depth': 6, \n",
    "            'learning_rate': 0.1, \n",
    "            'gamma': 1.0\n",
    "            'n_estimators'=1000,\n",
    "            'min_child_weight'=1,\n",
    "            'subsample'=0.8,\n",
    "            'colsample_bytree'=0.8,\n",
    "            'objective'= 'binary:logistic',\n",
    "            'nthread'=4,\n",
    "            'scale_pos_weight'=1,\n",
    "            'seed'=27\n",
    "        }\n",
    "data_dmatrix = xgb.DMatrix(data=X_train,label=Y_train)\n",
    "xg_reg = XGBClassifier(random_state=0, booster='gbtree', **params)\n"
   ]
  },
  {
   "cell_type": "code",
   "execution_count": 74,
   "metadata": {},
   "outputs": [
    {
     "output_type": "stream",
     "name": "stdout",
     "text": [
      "(122013,)\n[1 7 3 ... 2 2 2]\n"
     ]
    }
   ],
   "source": [
    "xg_reg.fit(X_train,Y_train)\n",
    "preds = xg_reg.predict(X_test)\n",
    "print(preds.shape)\n",
    "print(preds)\n"
   ]
  },
  {
   "cell_type": "code",
   "execution_count": 75,
   "metadata": {},
   "outputs": [
    {
     "output_type": "stream",
     "name": "stdout",
     "text": [
      "0.7590994402235828\n"
     ]
    }
   ],
   "source": [
    "print(accuracy_score(Y_test, preds))"
   ]
  },
  {
   "source": [
    "#### PCA"
   ],
   "cell_type": "markdown",
   "metadata": {}
  },
  {
   "cell_type": "code",
   "execution_count": 76,
   "metadata": {},
   "outputs": [],
   "source": [
    "from sklearn.decomposition import PCA, KernelPCA\n",
    "X_pca = PCA(n_components=2).fit_transform(X)"
   ]
  },
  {
   "cell_type": "code",
   "execution_count": 77,
   "metadata": {},
   "outputs": [
    {
     "output_type": "stream",
     "name": "stdout",
     "text": [
      "DecisionStump :  0.6332798961417037\n",
      "LogisticRegression :  0.6258150810901187\n",
      "knn :  0.9640823391720842\n"
     ]
    }
   ],
   "source": [
    "X_train, X_test, y_train, y_test = train_test_split(X, y, stratify=y)\n",
    "\n",
    "estimators = [\n",
    "    ('DecisionStump', DecisionTreeClassifier(max_depth=1)),\n",
    "    ('LogisticRegression',LogisticRegression()),\n",
    "    ('knn',KNeighborsClassifier(n_neighbors=3,leaf_size=1,p=1)),\n",
    "    #('SVC_lin', SVC(kernel='linear')),\n",
    "]\n",
    "\n",
    "for ename, emodel in estimators:\n",
    "    print(ename, ': ', emodel.fit(X_train, y_train).score(X_test, y_test))"
   ]
  },
  {
   "cell_type": "code",
   "execution_count": null,
   "metadata": {},
   "outputs": [],
   "source": [
    "X_train, X_test, y_train, y_test = train_test_split(X_pca, y, stratify=y)\n",
    "\n",
    "estimators = [\n",
    "    ('DecisionStump', DecisionTreeClassifier(max_depth=1)),\n",
    "    ('LogisticRegression',LogisticRegression()),\n",
    "    ('knn',KNeighborsClassifier(n_neighbors=3,leaf_size=1,p=1)),\n",
    "    #('SVC_lin', SVC(kernel='linear')),\n",
    "]\n",
    "\n",
    "for ename, emodel in estimators:\n",
    "    print(ename, ': ', emodel.fit(X_train, y_train).score(X_test, y_test))"
   ]
  },
  {
   "cell_type": "code",
   "execution_count": 25,
   "metadata": {},
   "outputs": [],
   "source": [
    "# function to train a given model, generate predictions, and return accuracy score\n",
    "def fit_evaluate_model(model, X_train, y_train, X_test, y_test):\n",
    "    model.fit(X_train, y_train)\n",
    "    y_predicted = model.predict(X_test)\n",
    "    return accuracy_score(y_test, y_predicted)"
   ]
  },
  {
   "cell_type": "code",
   "execution_count": 26,
   "metadata": {},
   "outputs": [],
   "source": [
    "from sklearn.ensemble import ExtraTreesClassifier"
   ]
  },
  {
   "cell_type": "code",
   "execution_count": 27,
   "metadata": {},
   "outputs": [],
   "source": [
    "xrf_optimal_model = ExtraTreesClassifier(n_estimators=500, \n",
    "                                           max_features=None, \n",
    "                                           min_samples_leaf=1, \n",
    "                                           min_samples_split=2,\n",
    "                                           random_state=42)"
   ]
  },
  {
   "cell_type": "code",
   "execution_count": 28,
   "metadata": {},
   "outputs": [],
   "source": [
    "xrf_optimal_model_accuracy = fit_evaluate_model(xrf_optimal_model, X_train, Y_train, X_test, Y_test)"
   ]
  },
  {
   "cell_type": "code",
   "execution_count": 29,
   "metadata": {},
   "outputs": [
    {
     "output_type": "execute_result",
     "data": {
      "text/plain": [
       "0.9667412488833157"
      ]
     },
     "metadata": {},
     "execution_count": 29
    }
   ],
   "source": [
    "xrf_optimal_model_accuracy"
   ]
  },
  {
   "cell_type": "code",
   "execution_count": 45,
   "metadata": {},
   "outputs": [
    {
     "output_type": "execute_result",
     "data": {
      "text/plain": [
       "(174304,)"
      ]
     },
     "metadata": {},
     "execution_count": 45
    }
   ],
   "source": [
    "y_pred = xrf_optimal_model.predict(X_testing)\n",
    "y_pred.shape"
   ]
  },
  {
   "cell_type": "code",
   "execution_count": 46,
   "metadata": {},
   "outputs": [
    {
     "output_type": "stream",
     "name": "stdout",
     "text": [
      "            id  Cover_type\n0            0           5\n1            1           1\n2            2           2\n3            3           2\n4            4           1\n...        ...         ...\n174299  174299           1\n174300  174300           2\n174301  174301           7\n174302  174302           2\n174303  174303           2\n\n[174304 rows x 2 columns]\n"
     ]
    }
   ],
   "source": [
    "import numpy\n",
    "column_names ={'id': range(len(y_pred)),\n",
    " 'Cover_type':y_pred}\n",
    "\n",
    "labels = pd.DataFrame(column_names)\n",
    "\n",
    "labels.to_csv(\"Sebastian_Cajas_2.csv\", sep=\",\",index=False)\n",
    "print(labels)"
   ]
  },
  {
   "cell_type": "code",
   "execution_count": null,
   "metadata": {},
   "outputs": [],
   "source": []
  }
 ]
}