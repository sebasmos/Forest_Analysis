{
 "metadata": {
  "language_info": {
   "codemirror_mode": {
    "name": "ipython",
    "version": 3
   },
   "file_extension": ".py",
   "mimetype": "text/x-python",
   "name": "python",
   "nbconvert_exporter": "python",
   "pygments_lexer": "ipython3",
   "version": "3.7.6-final"
  },
  "orig_nbformat": 2,
  "kernelspec": {
   "name": "python37664bitbaseconda91809b139dd24b97ab06595f752137a3",
   "display_name": "Python 3.7.6 64-bit ('base': conda)"
  }
 },
 "nbformat": 4,
 "nbformat_minor": 2,
 "cells": [
  {
   "cell_type": "code",
   "execution_count": 1,
   "metadata": {},
   "outputs": [],
   "source": [
    "import pandas as pd\n",
    "import numpy as np\n",
    "import copy\n",
    "import matplotlib.pyplot as plt\n",
    "from sklearn.linear_model import LinearRegression, LogisticRegression\n",
    "from sklearn.metrics import confusion_matrix\n",
    "from sklearn.model_selection import train_test_split\n",
    "from sklearn.tree   import DecisionTreeClassifier\n",
    "from sklearn.metrics import accuracy_score\n",
    "from sklearn.metrics import classification_report\n",
    "# Random forest\n",
    "from sklearn.ensemble import RandomForestClassifier\n",
    "\n",
    "from sklearn.model_selection import train_test_split\n",
    "# compare standalone models for binary classification\n",
    "from numpy import mean\n",
    "from numpy import std\n",
    "from sklearn.datasets import make_classification\n",
    "from sklearn.model_selection import cross_val_score\n",
    "from sklearn.model_selection import RepeatedStratifiedKFold\n",
    "from sklearn.linear_model import LogisticRegression\n",
    "from sklearn.neighbors import KNeighborsClassifier\n",
    "from sklearn.tree import DecisionTreeClassifier\n",
    "from sklearn.svm import SVC\n",
    "from sklearn.naive_bayes import GaussianNB\n",
    "from matplotlib import pyplot\n",
    "from sklearn.ensemble import StackingClassifier\n",
    "# TensorFlow and tf.keras\n",
    "import tensorflow as tf\n",
    "from tensorflow import keras\n",
    "from keras.models import Sequential\n",
    "from keras.layers import Conv1D, LSTM, Dense, Dropout, TimeDistributed, Flatten\n",
    "from keras.optimizers import Adam\n",
    "import keras\n",
    "# Cross-validation\n",
    "from keras.wrappers.scikit_learn import KerasClassifier\n",
    "from sklearn.model_selection import StratifiedKFold\n",
    "from sklearn.model_selection import cross_val_score"
   ]
  },
  {
   "cell_type": "code",
   "execution_count": 51,
   "metadata": {},
   "outputs": [],
   "source": [
    "data_path = \"./data\"\n",
    "X = pd.read_csv(f'{data_path}/X_cleaned.csv',sep='|')\n",
    "y = pd.read_csv(f'{data_path}/y_cleaned.csv',sep='|')\n",
    "x_testing = pd.read_csv(f'{data_path}/X_testing.csv',sep='|')"
   ]
  },
  {
   "cell_type": "code",
   "execution_count": 54,
   "metadata": {},
   "outputs": [
    {
     "output_type": "stream",
     "name": "stdout",
     "text": [
      "(406708, 12)\n(406708, 1)\n"
     ]
    }
   ],
   "source": [
    "print(X.shape)\n",
    "print(y.shape)"
   ]
  },
  {
   "cell_type": "code",
   "execution_count": 83,
   "metadata": {},
   "outputs": [],
   "source": [
    "#X = X.drop(columns=[\"id\"],inplace=True)\n",
    "#y = y.drop(columns=[\"id\"],inplace=True)"
   ]
  },
  {
   "cell_type": "code",
   "execution_count": 55,
   "metadata": {},
   "outputs": [],
   "source": [
    "x_train, x_test, y_train, y_test = train_test_split(X, y, test_size = 0.30, random_state = 10, stratify=y['Cover_Type'])\n",
    "\n"
   ]
  },
  {
   "cell_type": "code",
   "execution_count": 56,
   "metadata": {},
   "outputs": [
    {
     "output_type": "stream",
     "name": "stdout",
     "text": [
      "x_train:  (284695, 12)\ny_train:  (284695, 1)\nx_test:  (122013, 12)\ny_test:  (122013, 1)\nx_testing:  (406708, 12)\n"
     ]
    }
   ],
   "source": [
    "# For creating the models\n",
    "print(\"x_train: \",x_train.shape)\n",
    "print(\"y_train: \",y_train.shape)\n",
    "print(\"x_test: \",x_test.shape)\n",
    "print(\"y_test: \",y_test.shape)\n",
    "print(\"x_testing: \",x_testing.shape)"
   ]
  },
  {
   "cell_type": "code",
   "execution_count": 57,
   "metadata": {},
   "outputs": [],
   "source": [
    "X_train = copy.deepcopy(x_train)\n",
    "Y_train = copy.deepcopy(y_train)\n",
    "X_test = copy.deepcopy(x_test)\n",
    "Y_test = copy.deepcopy(y_test)\n",
    "X_testing = copy.deepcopy(x_testing)"
   ]
  },
  {
   "cell_type": "code",
   "execution_count": 58,
   "metadata": {},
   "outputs": [
    {
     "output_type": "stream",
     "name": "stdout",
     "text": [
      "x_train:  (284695, 12)\ny_train:  (284695, 1)\nx_test:  (122013, 12)\ny_test:  (122013, 1)\nx_testing:  (406708, 12)\n"
     ]
    }
   ],
   "source": [
    "# After performing copy with dtype = int64\n",
    "print(\"x_train: \",X_train.shape)\n",
    "print(\"y_train: \",Y_train.shape)\n",
    "print(\"x_test: \",X_test.shape)\n",
    "print(\"y_test: \",Y_test.shape)\n",
    "print(\"x_testing: \",X_testing.shape)"
   ]
  },
  {
   "source": [
    "#### Models"
   ],
   "cell_type": "markdown",
   "metadata": {}
  },
  {
   "cell_type": "code",
   "execution_count": 59,
   "metadata": {},
   "outputs": [],
   "source": [
    "def train_using_knn(X_train, y_train,i):\n",
    "    knn_model = KNeighborsClassifier(n_neighbors=i,leaf_size=1,p=1)\n",
    "    knn_model.fit(X_train, y_train)\n",
    "    return knn_model"
   ]
  },
  {
   "cell_type": "code",
   "execution_count": 60,
   "metadata": {},
   "outputs": [],
   "source": [
    "def prediction(X_test, clf_object):\n",
    "    y_pred = clf_object.predict(X_test)\n",
    "    print(\"Predicted values: \")\n",
    "    print(y_pred)\n",
    "    return y_pred\n",
    "def calculate_Acc(y_test, y_pred):\n",
    "    print(\"Confusion matrix: \\n\")\n",
    "    confusion_matrix(y_test, y_pred)\n",
    "    print(\"Accuracy: \", accuracy_score(y_test,y_pred)*100)\n",
    "    print(\"Report \", classification_report(y_test, y_pred))"
   ]
  },
  {
   "cell_type": "code",
   "execution_count": 61,
   "metadata": {},
   "outputs": [],
   "source": [
    "KNN_model = train_using_knn(X_train, Y_train,3)\n",
    "#clf_gini = train_using_gini(X_train, Y_train)\n",
    "#clf_entropy = train_using_entropy(X_train, Y_train)"
   ]
  },
  {
   "source": [
    "###  1. Models using all features as default:\n",
    "Without any type of analysis or feature selection."
   ],
   "cell_type": "markdown",
   "metadata": {}
  },
  {
   "source": [
    "KNN"
   ],
   "cell_type": "markdown",
   "metadata": {}
  },
  {
   "cell_type": "code",
   "execution_count": 62,
   "metadata": {},
   "outputs": [
    {
     "output_type": "stream",
     "name": "stdout",
     "text": [
      "X_test:  (122013, 12)\n",
      "Y_test:  (122013, 1)\n",
      "Predicted values: \n",
      "[1 7 3 ... 2 2 2]\n",
      "0.9625777581077426\n"
     ]
    }
   ],
   "source": [
    "# Using splited dataset\n",
    "print(\"X_test: \", X_test.shape)\n",
    "print(\"Y_test: \", Y_test.shape)\n",
    "y_knn_real = prediction(X_test, KNN_model)\n",
    "print(accuracy_score(Y_test, y_knn_real))"
   ]
  },
  {
   "source": [
    "#Testing with different number of neighborrs\n",
    "for i in range(20):\n",
    "    KNN_model = train_using_knn(X_train, Y_train,i+1)\n",
    "    y_pred = KNN_model.predict(X_test)\n",
    "    print(\"neighbors: \",i+1,\" acc: \",accuracy_score(Y_test, y_pred))"
   ],
   "cell_type": "markdown",
   "metadata": {}
  },
  {
   "source": [
    "From the above section, we obtained the best results when neighbors=3"
   ],
   "cell_type": "markdown",
   "metadata": {}
  },
  {
   "cell_type": "code",
   "execution_count": 64,
   "metadata": {},
   "outputs": [
    {
     "output_type": "stream",
     "name": "stdout",
     "text": [
      "              precision    recall  f1-score   support\n\n           1       0.93      0.94      0.94     44487\n           2       0.94      0.95      0.95     59493\n           3       0.91      0.94      0.92      7508\n           4       0.91      0.67      0.77       577\n           5       0.89      0.72      0.80      1994\n           6       0.89      0.82      0.85      3647\n           7       0.97      0.90      0.93      4307\n\n    accuracy                           0.93    122013\n   macro avg       0.92      0.85      0.88    122013\nweighted avg       0.93      0.93      0.93    122013\n\n"
     ]
    }
   ],
   "source": [
    "# Show params\n",
    "print(classification_report(Y_test, y_pred))\n",
    "#roc_auc_score(Y_test,y_pred)"
   ]
  },
  {
   "cell_type": "code",
   "execution_count": 66,
   "metadata": {},
   "outputs": [
    {
     "output_type": "execute_result",
     "data": {
      "text/plain": [
       "(406708,)"
      ]
     },
     "metadata": {},
     "execution_count": 66
    }
   ],
   "source": [
    "y_pred = KNN_model.predict(x_testing)\n",
    "y_pred.shape"
   ]
  },
  {
   "source": [
    "Store to Kaggle CSV format"
   ],
   "cell_type": "markdown",
   "metadata": {}
  },
  {
   "cell_type": "code",
   "execution_count": 67,
   "metadata": {},
   "outputs": [
    {
     "output_type": "stream",
     "name": "stdout",
     "text": [
      "            id  Cover_type\n0            0           1\n1            1           2\n2            2           2\n3            3           1\n4            4           1\n...        ...         ...\n406703  406703           2\n406704  406704           6\n406705  406705           2\n406706  406706           2\n406707  406707           7\n\n[406708 rows x 2 columns]\n"
     ]
    }
   ],
   "source": [
    "import numpy\n",
    "column_names ={'id': range(len(y_pred)),\n",
    " 'Cover_type':y_pred}\n",
    "\n",
    "labels = pd.DataFrame(column_names)\n",
    "\n",
    "labels.to_csv(\"Sebastian_Cajas.csv\", sep=\",\",index=False)\n",
    "print(labels)"
   ]
  },
  {
   "source": [
    "#List Hyperparameters that we want to tune.\n",
    "leaf_size = list(range(1,50))\n",
    "n_neighbors = list(range(1,30))\n",
    "p=[1,2]\n",
    "#Convert to dictionary\n",
    "hyperparameters = dict(leaf_size=leaf_size, n_neighbors=n_neighbors, p=p)\n",
    "#Create new KNN object\n",
    "knn_2 = KNeighborsClassifier()\n",
    "#Use GridSearch\n",
    "clf = GridSearchCV(knn_2, hyperparameters, cv=10)\n",
    "#Fit the model\n",
    "best_model = clf.fit(X_train,Y_train)"
   ],
   "cell_type": "markdown",
   "metadata": {}
  },
  {
   "source": [
    "### Cross-val K-fold"
   ],
   "cell_type": "markdown",
   "metadata": {}
  },
  {
   "cell_type": "code",
   "execution_count": 74,
   "metadata": {},
   "outputs": [
    {
     "output_type": "execute_result",
     "data": {
      "text/plain": [
       "KFold(n_splits=10, random_state=100, shuffle=True)"
      ]
     },
     "metadata": {},
     "execution_count": 74
    }
   ],
   "source": [
    "from sklearn import model_selection\n",
    "from sklearn.model_selection import KFold,cross_val_score\n",
    "kfold = model_selection.KFold(n_splits=10, random_state=100,shuffle=True)\n",
    "kfold"
   ]
  },
  {
   "cell_type": "code",
   "execution_count": 41,
   "metadata": {},
   "outputs": [
    {
     "output_type": "stream",
     "name": "stdout",
     "text": [
      "Accuracy: 93.52%\n"
     ]
    }
   ],
   "source": [
    "results_kfold = model_selection.cross_val_score(KNN_model, X_test, Y_test, cv=kfold)\n",
    "print(\"Accuracy: %.2f%%\" % (results_kfold.mean()*100.0))"
   ]
  },
  {
   "source": [
    "### Feature selection N1"
   ],
   "cell_type": "markdown",
   "metadata": {}
  },
  {
   "cell_type": "code",
   "execution_count": 69,
   "metadata": {},
   "outputs": [
    {
     "output_type": "stream",
     "name": "stdout",
     "text": [
      "(284695, 10)\n",
      "(284695, 1)\n",
      "(122013, 10)\n",
      "(122013, 1)\n",
      "Predicted values: \n",
      "[1 7 3 ... 2 2 2]\n",
      "0.9608074549433258\n"
     ]
    }
   ],
   "source": [
    "fields = ['Elevation', 'Aspect', 'Slope', 'Horizontal_Distance_To_Hydrology', 'Vertical_Distance_To_Hydrology', 'Horizontal_Distance_To_Roadways', 'Hillshade_9am', 'Hillshade_Noon', 'Hillshade_3pm', 'Horizontal_Distance_To_Fire_Points']\n",
    "X_change = X_train[fields]\n",
    "x_test_change= X_test[fields]\n",
    "\n",
    "print(X_change.shape)\n",
    "print(Y_train.shape)\n",
    "print(x_test_change.shape)\n",
    "print(Y_test.shape)\n",
    "\n",
    "KNN_model = train_using_knn(X_change, Y_train,3)\n",
    "y_knn_real = prediction(x_test_change, KNN_model)\n",
    "print(accuracy_score(Y_test, y_knn_real))\n"
   ]
  },
  {
   "cell_type": "code",
   "execution_count": 70,
   "metadata": {},
   "outputs": [
    {
     "output_type": "stream",
     "name": "stdout",
     "text": [
      "Modelo final tiene dimensiones:  (122013,)\n"
     ]
    }
   ],
   "source": [
    "print(\"Modelo final tiene dimensiones: \",y_knn_real.shape)"
   ]
  },
  {
   "cell_type": "code",
   "execution_count": 71,
   "metadata": {},
   "outputs": [],
   "source": [
    "import xgboost as xgb"
   ]
  },
  {
   "cell_type": "code",
   "execution_count": 72,
   "metadata": {},
   "outputs": [
    {
     "output_type": "stream",
     "name": "stdout",
     "text": [
      "> Training XGBoost classifier...\n"
     ]
    }
   ],
   "source": [
    "import xgboost as xgb\n",
    "from xgboost import XGBClassifier\n",
    "print('> Training XGBoost classifier...')\n",
    "params={\n",
    "            'reg_alpha': 23, \n",
    "            'max_depth': 8, \n",
    "            'learning_rate': 0.01, \n",
    "            'gamma': 1.0\n",
    "        }\n",
    "data_dmatrix = xgb.DMatrix(data=X_train,label=Y_train)\n",
    "xg_reg = XGBClassifier(random_state=0, booster='gbtree', **params)\n"
   ]
  },
  {
   "cell_type": "code",
   "execution_count": 73,
   "metadata": {},
   "outputs": [
    {
     "output_type": "stream",
     "name": "stdout",
     "text": [
      "(122013,)\n[1 7 3 ... 2 2 2]\n"
     ]
    }
   ],
   "source": [
    "xg_reg.fit(X_train,Y_train)\n",
    "preds = xg_reg.predict(X_test)\n",
    "print(preds.shape)\n",
    "print(preds)\n"
   ]
  },
  {
   "cell_type": "code",
   "execution_count": 75,
   "metadata": {},
   "outputs": [
    {
     "output_type": "stream",
     "name": "stdout",
     "text": [
      "0.7840066222451706\n"
     ]
    }
   ],
   "source": [
    "print(accuracy_score(Y_test, preds))"
   ]
  }
 ]
}