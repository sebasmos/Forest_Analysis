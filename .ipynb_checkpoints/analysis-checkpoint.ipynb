{
 "cells": [
  {
   "cell_type": "code",
   "execution_count": 2,
   "metadata": {},
   "outputs": [
    {
     "name": "stderr",
     "output_type": "stream",
     "text": [
      "C:\\ProgramData\\Anaconda3\\lib\\site-packages\\IPython\\core\\interactiveshell.py:3146: DtypeWarning: Columns (0,1,2,3,4,5,6,7,8,9,10,11,12,13,14,15,16,17,18,19,20,21,22,23,24,25,26,27,28,29,30,31,32,33,34,35,36,37,38,39,40,41,42,43,44,45,46,47,48,49,50,51,52,53,54) have mixed types.Specify dtype option on import or set low_memory=False.\n",
      "  interactivity=interactivity, compiler=compiler, result=result)\n",
      "C:\\ProgramData\\Anaconda3\\lib\\site-packages\\IPython\\core\\interactiveshell.py:3146: DtypeWarning: Columns (0,1) have mixed types.Specify dtype option on import or set low_memory=False.\n",
      "  interactivity=interactivity, compiler=compiler, result=result)\n"
     ]
    }
   ],
   "source": [
    "x_test = pd.read_csv('x_test.csv', header=None)\n",
    "x_train = pd.read_csv('x_train.csv', header=None)\n",
    "y_test_baseline = pd.read_csv('y_test_baseline.csv', header=None)\n",
    "y_train = pd.read_csv('y_train.csv', header=None)"
   ]
  },
  {
   "cell_type": "code",
   "execution_count": 1,
   "metadata": {},
   "outputs": [
    {
     "name": "stderr",
     "output_type": "stream",
     "text": [
      "C:\\ProgramData\\Anaconda3\\lib\\site-packages\\numpy\\_distributor_init.py:32: UserWarning: loaded more than 1 DLL from .libs:\n",
      "C:\\ProgramData\\Anaconda3\\lib\\site-packages\\numpy\\.libs\\libopenblas.NOIJJG62EMASZI6NYURL6JBKM4EVBGM7.gfortran-win_amd64.dll\n",
      "C:\\ProgramData\\Anaconda3\\lib\\site-packages\\numpy\\.libs\\libopenblas.PYQHXLVVQ7VESDPUVUADXEVJOBGHJPAY.gfortran-win_amd64.dll\n",
      "  stacklevel=1)\n"
     ]
    }
   ],
   "source": [
    "import pandas as pd\n",
    "import numpy as np\n",
    "import matplotlib.pyplot as plt\n",
    "from sklearn.linear_model import LinearRegression, LogisticRegression\n",
    "import numpy as np \n",
    "import pandas as pd\n",
    "from sklearn.metrics import confusion_matrix\n",
    "from sklearn.model_selection import train_test_split\n",
    "from sklearn.tree   import DecisionTreeClassifier\n",
    "from sklearn.metrics import accuracy_score\n",
    "from sklearn.metrics import classification_report"
   ]
  },
  {
   "cell_type": "code",
   "execution_count": 5,
   "metadata": {},
   "outputs": [
    {
     "data": {
      "text/plain": [
       "(406708,)"
      ]
     },
     "execution_count": 5,
     "metadata": {},
     "output_type": "execute_result"
    }
   ],
   "source": [
    "y_train.values[1:,1].shape"
   ]
  },
  {
   "cell_type": "code",
   "execution_count": 4,
   "metadata": {},
   "outputs": [
    {
     "name": "stdout",
     "output_type": "stream",
     "text": [
      "x_train:  (406709, 55)\n",
      "y_train:  (406709, 2)\n",
      "x_test:  (174305, 55)\n",
      "y_test_baseline:  (174305, 2)\n"
     ]
    }
   ],
   "source": [
    "print(\"x_train: \",x_train.shape)\n",
    "print(\"y_train: \",y_train.shape)\n",
    "print(\"x_test: \",x_test.shape)\n",
    "print(\"y_test_baseline: \",y_test_baseline.shape)"
   ]
  },
  {
   "cell_type": "code",
   "execution_count": 12,
   "metadata": {},
   "outputs": [
    {
     "data": {
      "text/plain": [
       "array([[     1,   2764,     39, ...,      0,      0,      0],\n",
       "       [     2,   2773,    158, ...,      0,      0,      0],\n",
       "       [     3,   3083,    108, ...,      0,      0,      0],\n",
       "       ...,\n",
       "       [406705,   2715,     73, ...,      0,      0,      0],\n",
       "       [406706,   3020,    179, ...,      0,      0,      0],\n",
       "       [406707,   3368,    191, ...,      1,      0,      0]])"
      ]
     },
     "execution_count": 12,
     "metadata": {},
     "output_type": "execute_result"
    }
   ],
   "source": [
    "x_train.values[2:,:].astype(int)"
   ]
  },
  {
   "cell_type": "code",
   "execution_count": 7,
   "metadata": {},
   "outputs": [],
   "source": [
    "def train_using_gini(X_train, y_train):\n",
    "    # Gini index will prefer attributes where entropy is lower\n",
    "    # Gini Index is a metric to measure how often a randomly\n",
    "    # chosen element would be incorrectly identified.\n",
    "    # Classifier obj\n",
    "    clf_gini = DecisionTreeClassifier(criterion=\"gini\",\n",
    "        random_state=100, max_depth=3, min_samples_leaf=5)\n",
    "\n",
    "    #train\n",
    "    clf_gini.fit(X_train, y_train)\n",
    "    return clf_gini"
   ]
  },
  {
   "cell_type": "code",
   "execution_count": 8,
   "metadata": {},
   "outputs": [],
   "source": [
    "\n",
    "def prediction(X_test, clf_object):\n",
    "    y_pred = clf_object.predict(X_test)\n",
    "    print(\"Predicted values: \")\n",
    "    print(y_pred)\n",
    "    return y_pred\n",
    "def calculate_Acc(y_test, y_pred):\n",
    "    print(\"Confusion matrix: \\n\")\n",
    "    confusion_matrix(y_test, y_pred)\n",
    "    print(\"Accuracy: \", accuracy_score(y_test,y_pred)*100)\n",
    "    print(\"Report \", classification_report(y_test, y_pred))"
   ]
  },
  {
   "cell_type": "code",
   "execution_count": 9,
   "metadata": {},
   "outputs": [
    {
     "name": "stdout",
     "output_type": "stream",
     "text": [
      "Results Using Gini Index:\n"
     ]
    }
   ],
   "source": [
    "  # Operational Phase \n",
    "print(\"Results Using Gini Index:\") "
   ]
  },
  {
   "cell_type": "code",
   "execution_count": 10,
   "metadata": {},
   "outputs": [],
   "source": [
    "clf_gini = train_using_gini(x_train.values[1:,:].astype(int), y_train.values[1:,1].astype(int))"
   ]
  },
  {
   "cell_type": "code",
   "execution_count": 11,
   "metadata": {},
   "outputs": [
    {
     "name": "stdout",
     "output_type": "stream",
     "text": [
      "Predicted values: \n",
      "[2 1 2 ... 7 2 2]\n",
      "Confusion matrix: \n",
      "\n",
      "Accuracy:  48.689645676519184\n",
      "Report                precision    recall  f1-score   support\n",
      "\n",
      "           1       0.80      0.55      0.66     99239\n",
      "           2       0.17      0.88      0.28     16354\n",
      "           3       0.80      0.60      0.69     19330\n",
      "           4       0.44      0.13      0.21      3080\n",
      "           5       0.00      0.00      0.00     21728\n",
      "           6       0.00      0.00      0.00      1250\n",
      "           7       0.68      0.26      0.38     13323\n",
      "\n",
      "    accuracy                           0.49    174304\n",
      "   macro avg       0.41      0.35      0.32    174304\n",
      "weighted avg       0.62      0.49      0.51    174304\n",
      "\n"
     ]
    },
    {
     "name": "stderr",
     "output_type": "stream",
     "text": [
      "C:\\ProgramData\\Anaconda3\\lib\\site-packages\\sklearn\\metrics\\_classification.py:1221: UndefinedMetricWarning: Precision and F-score are ill-defined and being set to 0.0 in labels with no predicted samples. Use `zero_division` parameter to control this behavior.\n",
      "  _warn_prf(average, modifier, msg_start, len(result))\n"
     ]
    }
   ],
   "source": [
    "# Prediction using gini \n",
    "y_pred_gini = prediction(x_test.values[1:,:].astype(int), clf_gini)\n",
    "calculate_Acc(y_test_baseline.values[1:,1].astype(int), y_pred_gini)"
   ]
  },
  {
   "cell_type": "code",
   "execution_count": null,
   "metadata": {},
   "outputs": [],
   "source": []
  }
 ],
 "metadata": {
  "kernelspec": {
   "display_name": "Python 3",
   "language": "python",
   "name": "python3"
  },
  "language_info": {
   "codemirror_mode": {
    "name": "ipython",
    "version": 3
   },
   "file_extension": ".py",
   "mimetype": "text/x-python",
   "name": "python",
   "nbconvert_exporter": "python",
   "pygments_lexer": "ipython3",
   "version": "3.7.6"
  }
 },
 "nbformat": 4,
 "nbformat_minor": 2
}
